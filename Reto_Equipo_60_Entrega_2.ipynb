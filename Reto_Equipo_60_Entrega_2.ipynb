{
  "nbformat": 4,
  "nbformat_minor": 0,
  "metadata": {
    "colab": {
      "provenance": [],
      "include_colab_link": true
    },
    "kernelspec": {
      "name": "python3",
      "display_name": "Python 3"
    },
    "language_info": {
      "name": "python"
    }
  },
  "cells": [
    {
      "cell_type": "markdown",
      "metadata": {
        "id": "view-in-github",
        "colab_type": "text"
      },
      "source": [
        "<a href=\"https://colab.research.google.com/github/PosgradoMNA/actividades-del-projecto-equipo-60/blob/main/Reto_Equipo_60_Entrega_2.ipynb\" target=\"_parent\"><img src=\"https://colab.research.google.com/assets/colab-badge.svg\" alt=\"Open In Colab\"/></a>"
      ]
    },
    {
      "cell_type": "markdown",
      "source": [
        "\n",
        "---\n",
        "\n",
        "\n",
        "🚀 **Reto-> Entrega 2**: Limpieza, análisis, visualización, label encoding, features importances, train test split, accuracy y precision recall. Implementar conocimientos adquiridos a lo largo de curso en el desarrollo de un proyecto con datos reales.\n",
        "\n",
        "📑 **Asignatura:** Ciencia y analítica de datos\n",
        "\n",
        "📚 **Grupo:** 60\n",
        "\n",
        "🧑 **Alumnos:** \n",
        "> Alberto José García Porras (Matrícula No. **A01793509**)\n",
        "\n",
        ">  Erick Johan Najera Olivero (Matrícula No. **A01793506**)\n",
        "\n",
        "👩 **Profesora**: María de la Paz Rico Fernández\n",
        "\n",
        "📅 Noviembre 18 del 2022\n",
        "\n",
        "---"
      ],
      "metadata": {
        "id": "vG7DoVUg8CFK"
      }
    },
    {
      "cell_type": "markdown",
      "source": [
        "---\n",
        "\n",
        "# 📑 **PARTE 1: LIMPIEZA, ANÁLISIS, VISUALIZACIÓN Y AGRUPAMIENTO DE DATOS**\n",
        "\n",
        "---\n",
        "\n"
      ],
      "metadata": {
        "id": "OFn0cweeQqpZ"
      }
    },
    {
      "cell_type": "markdown",
      "source": [
        "---\n",
        "\n",
        "\n",
        "## 👣 **Obtener Datos:** En nuestro caso seleccionamos la base de datos de aguas subterraneas;\n",
        "\n",
        "\n",
        "\n",
        "---\n"
      ],
      "metadata": {
        "id": "GEFBfOIE683Z"
      }
    },
    {
      "cell_type": "code",
      "source": [
        "#! pip install qeds fiona geopandas xgboost gensim folium pyLDAvis descartes\n",
        "import pandas as pd\n",
        "import numpy as np\n",
        "import seaborn as sns\n",
        "import collections\n",
        "from sklearn.preprocessing import MinMaxScaler, OrdinalEncoder\n",
        "import matplotlib.pyplot as plt\n",
        "#import geopandas as gpd\n",
        "from shapely.geometry import Point\n",
        "import warnings\n",
        "warnings.filterwarnings(\"ignore\")"
      ],
      "metadata": {
        "id": "WWa_6T793HCI"
      },
      "execution_count": 37,
      "outputs": []
    },
    {
      "cell_type": "code",
      "source": [
        "db = 'https://raw.githubusercontent.com/PosgradoMNA/actividades-del-projecto-equipo-60/main/Reto/Datos_de_calidad_del_agua_de_sitios_de_monitoreo_de_aguas_subterraneas_2020.csv'\n",
        "\n",
        "dfAguasSubterraneas = pd.read_csv(db)\n",
        "dfAguasSubterraneas.head()"
      ],
      "metadata": {
        "id": "Eo93K2ZRH97u",
        "outputId": "86e7008b-68a0-46a3-9549-759b758e20b5",
        "colab": {
          "base_uri": "https://localhost:8080/",
          "height": 421
        }
      },
      "execution_count": 38,
      "outputs": [
        {
          "output_type": "execute_result",
          "data": {
            "text/plain": [
              "       CLAVE                   SITIO           ORGANISMO_DE_CUENCA  \\\n",
              "0     DLAGU6            POZO SAN GIL       LERMA SANTIAGO PACIFICO   \n",
              "1  DLAGU6516  POZO R013 CAÑADA HONDA       LERMA SANTIAGO PACIFICO   \n",
              "2     DLAGU7              POZO COSIO       LERMA SANTIAGO PACIFICO   \n",
              "3     DLAGU9      POZO EL SALITRILLO       LERMA SANTIAGO PACIFICO   \n",
              "4   DLBAJ107      RANCHO EL TECOLOTE  PENINSULA DE BAJA CALIFORNIA   \n",
              "\n",
              "                ESTADO        MUNICIPIO                 ACUIFERO SUBTIPO  \\\n",
              "0       AGUASCALIENTES         ASIENTOS       VALLE DE CHICALOTE    POZO   \n",
              "1       AGUASCALIENTES   AGUASCALIENTES       VALLE DE CHICALOTE    POZO   \n",
              "2       AGUASCALIENTES            COSIO  VALLE DE AGUASCALIENTES    POZO   \n",
              "3       AGUASCALIENTES  RINCON DE ROMOS  VALLE DE AGUASCALIENTES    POZO   \n",
              "4  BAJA CALIFORNIA SUR           LA PAZ             TODOS SANTOS    POZO   \n",
              "\n",
              "    LONGITUD   LATITUD  PERIODO  ...  CUMPLE_CON_DUR CUMPLE_CON_CF  \\\n",
              "0 -102.02210  22.20887     2020  ...              SI            SI   \n",
              "1 -102.20075  21.99958     2020  ...              SI            SI   \n",
              "2 -102.28801  22.36685     2020  ...              SI            SI   \n",
              "3 -102.29449  22.18435     2020  ...              SI            SI   \n",
              "4 -110.24480  23.45138     2020  ...              SI            SI   \n",
              "\n",
              "   CUMPLE_CON_NO3 CUMPLE_CON_AS  CUMPLE_CON_CD CUMPLE_CON_CR CUMPLE_CON_HG  \\\n",
              "0              SI            SI             SI            SI            SI   \n",
              "1              SI            SI             SI            SI            SI   \n",
              "2              SI            NO             SI            SI            SI   \n",
              "3              SI            SI             SI            SI            SI   \n",
              "4              NO            SI             SI            SI            SI   \n",
              "\n",
              "  CUMPLE_CON_PB CUMPLE_CON_MN CUMPLE_CON_FE  \n",
              "0            SI            SI            SI  \n",
              "1            SI            SI            SI  \n",
              "2            SI            SI            SI  \n",
              "3            SI            SI            SI  \n",
              "4            SI            SI            SI  \n",
              "\n",
              "[5 rows x 57 columns]"
            ],
            "text/html": [
              "\n",
              "  <div id=\"df-48c07b7e-f593-4d7e-b392-6f41e40a1ca7\">\n",
              "    <div class=\"colab-df-container\">\n",
              "      <div>\n",
              "<style scoped>\n",
              "    .dataframe tbody tr th:only-of-type {\n",
              "        vertical-align: middle;\n",
              "    }\n",
              "\n",
              "    .dataframe tbody tr th {\n",
              "        vertical-align: top;\n",
              "    }\n",
              "\n",
              "    .dataframe thead th {\n",
              "        text-align: right;\n",
              "    }\n",
              "</style>\n",
              "<table border=\"1\" class=\"dataframe\">\n",
              "  <thead>\n",
              "    <tr style=\"text-align: right;\">\n",
              "      <th></th>\n",
              "      <th>CLAVE</th>\n",
              "      <th>SITIO</th>\n",
              "      <th>ORGANISMO_DE_CUENCA</th>\n",
              "      <th>ESTADO</th>\n",
              "      <th>MUNICIPIO</th>\n",
              "      <th>ACUIFERO</th>\n",
              "      <th>SUBTIPO</th>\n",
              "      <th>LONGITUD</th>\n",
              "      <th>LATITUD</th>\n",
              "      <th>PERIODO</th>\n",
              "      <th>...</th>\n",
              "      <th>CUMPLE_CON_DUR</th>\n",
              "      <th>CUMPLE_CON_CF</th>\n",
              "      <th>CUMPLE_CON_NO3</th>\n",
              "      <th>CUMPLE_CON_AS</th>\n",
              "      <th>CUMPLE_CON_CD</th>\n",
              "      <th>CUMPLE_CON_CR</th>\n",
              "      <th>CUMPLE_CON_HG</th>\n",
              "      <th>CUMPLE_CON_PB</th>\n",
              "      <th>CUMPLE_CON_MN</th>\n",
              "      <th>CUMPLE_CON_FE</th>\n",
              "    </tr>\n",
              "  </thead>\n",
              "  <tbody>\n",
              "    <tr>\n",
              "      <th>0</th>\n",
              "      <td>DLAGU6</td>\n",
              "      <td>POZO SAN GIL</td>\n",
              "      <td>LERMA SANTIAGO PACIFICO</td>\n",
              "      <td>AGUASCALIENTES</td>\n",
              "      <td>ASIENTOS</td>\n",
              "      <td>VALLE DE CHICALOTE</td>\n",
              "      <td>POZO</td>\n",
              "      <td>-102.02210</td>\n",
              "      <td>22.20887</td>\n",
              "      <td>2020</td>\n",
              "      <td>...</td>\n",
              "      <td>SI</td>\n",
              "      <td>SI</td>\n",
              "      <td>SI</td>\n",
              "      <td>SI</td>\n",
              "      <td>SI</td>\n",
              "      <td>SI</td>\n",
              "      <td>SI</td>\n",
              "      <td>SI</td>\n",
              "      <td>SI</td>\n",
              "      <td>SI</td>\n",
              "    </tr>\n",
              "    <tr>\n",
              "      <th>1</th>\n",
              "      <td>DLAGU6516</td>\n",
              "      <td>POZO R013 CAÑADA HONDA</td>\n",
              "      <td>LERMA SANTIAGO PACIFICO</td>\n",
              "      <td>AGUASCALIENTES</td>\n",
              "      <td>AGUASCALIENTES</td>\n",
              "      <td>VALLE DE CHICALOTE</td>\n",
              "      <td>POZO</td>\n",
              "      <td>-102.20075</td>\n",
              "      <td>21.99958</td>\n",
              "      <td>2020</td>\n",
              "      <td>...</td>\n",
              "      <td>SI</td>\n",
              "      <td>SI</td>\n",
              "      <td>SI</td>\n",
              "      <td>SI</td>\n",
              "      <td>SI</td>\n",
              "      <td>SI</td>\n",
              "      <td>SI</td>\n",
              "      <td>SI</td>\n",
              "      <td>SI</td>\n",
              "      <td>SI</td>\n",
              "    </tr>\n",
              "    <tr>\n",
              "      <th>2</th>\n",
              "      <td>DLAGU7</td>\n",
              "      <td>POZO COSIO</td>\n",
              "      <td>LERMA SANTIAGO PACIFICO</td>\n",
              "      <td>AGUASCALIENTES</td>\n",
              "      <td>COSIO</td>\n",
              "      <td>VALLE DE AGUASCALIENTES</td>\n",
              "      <td>POZO</td>\n",
              "      <td>-102.28801</td>\n",
              "      <td>22.36685</td>\n",
              "      <td>2020</td>\n",
              "      <td>...</td>\n",
              "      <td>SI</td>\n",
              "      <td>SI</td>\n",
              "      <td>SI</td>\n",
              "      <td>NO</td>\n",
              "      <td>SI</td>\n",
              "      <td>SI</td>\n",
              "      <td>SI</td>\n",
              "      <td>SI</td>\n",
              "      <td>SI</td>\n",
              "      <td>SI</td>\n",
              "    </tr>\n",
              "    <tr>\n",
              "      <th>3</th>\n",
              "      <td>DLAGU9</td>\n",
              "      <td>POZO EL SALITRILLO</td>\n",
              "      <td>LERMA SANTIAGO PACIFICO</td>\n",
              "      <td>AGUASCALIENTES</td>\n",
              "      <td>RINCON DE ROMOS</td>\n",
              "      <td>VALLE DE AGUASCALIENTES</td>\n",
              "      <td>POZO</td>\n",
              "      <td>-102.29449</td>\n",
              "      <td>22.18435</td>\n",
              "      <td>2020</td>\n",
              "      <td>...</td>\n",
              "      <td>SI</td>\n",
              "      <td>SI</td>\n",
              "      <td>SI</td>\n",
              "      <td>SI</td>\n",
              "      <td>SI</td>\n",
              "      <td>SI</td>\n",
              "      <td>SI</td>\n",
              "      <td>SI</td>\n",
              "      <td>SI</td>\n",
              "      <td>SI</td>\n",
              "    </tr>\n",
              "    <tr>\n",
              "      <th>4</th>\n",
              "      <td>DLBAJ107</td>\n",
              "      <td>RANCHO EL TECOLOTE</td>\n",
              "      <td>PENINSULA DE BAJA CALIFORNIA</td>\n",
              "      <td>BAJA CALIFORNIA SUR</td>\n",
              "      <td>LA PAZ</td>\n",
              "      <td>TODOS SANTOS</td>\n",
              "      <td>POZO</td>\n",
              "      <td>-110.24480</td>\n",
              "      <td>23.45138</td>\n",
              "      <td>2020</td>\n",
              "      <td>...</td>\n",
              "      <td>SI</td>\n",
              "      <td>SI</td>\n",
              "      <td>NO</td>\n",
              "      <td>SI</td>\n",
              "      <td>SI</td>\n",
              "      <td>SI</td>\n",
              "      <td>SI</td>\n",
              "      <td>SI</td>\n",
              "      <td>SI</td>\n",
              "      <td>SI</td>\n",
              "    </tr>\n",
              "  </tbody>\n",
              "</table>\n",
              "<p>5 rows × 57 columns</p>\n",
              "</div>\n",
              "      <button class=\"colab-df-convert\" onclick=\"convertToInteractive('df-48c07b7e-f593-4d7e-b392-6f41e40a1ca7')\"\n",
              "              title=\"Convert this dataframe to an interactive table.\"\n",
              "              style=\"display:none;\">\n",
              "        \n",
              "  <svg xmlns=\"http://www.w3.org/2000/svg\" height=\"24px\"viewBox=\"0 0 24 24\"\n",
              "       width=\"24px\">\n",
              "    <path d=\"M0 0h24v24H0V0z\" fill=\"none\"/>\n",
              "    <path d=\"M18.56 5.44l.94 2.06.94-2.06 2.06-.94-2.06-.94-.94-2.06-.94 2.06-2.06.94zm-11 1L8.5 8.5l.94-2.06 2.06-.94-2.06-.94L8.5 2.5l-.94 2.06-2.06.94zm10 10l.94 2.06.94-2.06 2.06-.94-2.06-.94-.94-2.06-.94 2.06-2.06.94z\"/><path d=\"M17.41 7.96l-1.37-1.37c-.4-.4-.92-.59-1.43-.59-.52 0-1.04.2-1.43.59L10.3 9.45l-7.72 7.72c-.78.78-.78 2.05 0 2.83L4 21.41c.39.39.9.59 1.41.59.51 0 1.02-.2 1.41-.59l7.78-7.78 2.81-2.81c.8-.78.8-2.07 0-2.86zM5.41 20L4 18.59l7.72-7.72 1.47 1.35L5.41 20z\"/>\n",
              "  </svg>\n",
              "      </button>\n",
              "      \n",
              "  <style>\n",
              "    .colab-df-container {\n",
              "      display:flex;\n",
              "      flex-wrap:wrap;\n",
              "      gap: 12px;\n",
              "    }\n",
              "\n",
              "    .colab-df-convert {\n",
              "      background-color: #E8F0FE;\n",
              "      border: none;\n",
              "      border-radius: 50%;\n",
              "      cursor: pointer;\n",
              "      display: none;\n",
              "      fill: #1967D2;\n",
              "      height: 32px;\n",
              "      padding: 0 0 0 0;\n",
              "      width: 32px;\n",
              "    }\n",
              "\n",
              "    .colab-df-convert:hover {\n",
              "      background-color: #E2EBFA;\n",
              "      box-shadow: 0px 1px 2px rgba(60, 64, 67, 0.3), 0px 1px 3px 1px rgba(60, 64, 67, 0.15);\n",
              "      fill: #174EA6;\n",
              "    }\n",
              "\n",
              "    [theme=dark] .colab-df-convert {\n",
              "      background-color: #3B4455;\n",
              "      fill: #D2E3FC;\n",
              "    }\n",
              "\n",
              "    [theme=dark] .colab-df-convert:hover {\n",
              "      background-color: #434B5C;\n",
              "      box-shadow: 0px 1px 3px 1px rgba(0, 0, 0, 0.15);\n",
              "      filter: drop-shadow(0px 1px 2px rgba(0, 0, 0, 0.3));\n",
              "      fill: #FFFFFF;\n",
              "    }\n",
              "  </style>\n",
              "\n",
              "      <script>\n",
              "        const buttonEl =\n",
              "          document.querySelector('#df-48c07b7e-f593-4d7e-b392-6f41e40a1ca7 button.colab-df-convert');\n",
              "        buttonEl.style.display =\n",
              "          google.colab.kernel.accessAllowed ? 'block' : 'none';\n",
              "\n",
              "        async function convertToInteractive(key) {\n",
              "          const element = document.querySelector('#df-48c07b7e-f593-4d7e-b392-6f41e40a1ca7');\n",
              "          const dataTable =\n",
              "            await google.colab.kernel.invokeFunction('convertToInteractive',\n",
              "                                                     [key], {});\n",
              "          if (!dataTable) return;\n",
              "\n",
              "          const docLinkHtml = 'Like what you see? Visit the ' +\n",
              "            '<a target=\"_blank\" href=https://colab.research.google.com/notebooks/data_table.ipynb>data table notebook</a>'\n",
              "            + ' to learn more about interactive tables.';\n",
              "          element.innerHTML = '';\n",
              "          dataTable['output_type'] = 'display_data';\n",
              "          await google.colab.output.renderOutput(dataTable, element);\n",
              "          const docLink = document.createElement('div');\n",
              "          docLink.innerHTML = docLinkHtml;\n",
              "          element.appendChild(docLink);\n",
              "        }\n",
              "      </script>\n",
              "    </div>\n",
              "  </div>\n",
              "  "
            ]
          },
          "metadata": {},
          "execution_count": 38
        }
      ]
    },
    {
      "cell_type": "markdown",
      "source": [
        "\n",
        "\n",
        "---\n",
        "\n",
        "☝ Antes de iniciar con la limpieza, validamos la relevancia de cada columna para el modelo, clasificándola de acuerdo al tipo de dato y decidiendo la acción que realizaremos con estas en el dataframe. A continuación mostramos la categorización que hicimos para nuestros datos:\n",
        "\n",
        "---\n",
        "![Análisis-Datos-BD-Aguas.png](data:image/png;base64,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)"
      ],
      "metadata": {
        "id": "CFasxW9SuRUn"
      }
    },
    {
      "cell_type": "code",
      "source": [
        "#Creamos nuestras variables conteniendo las columnas clasificadas previamente\n",
        "ColumnasNumericas=['ALC_mg/L','CONDUCT_mS/cm','SDT_M_mg/L','FLUORUROS_mg/L','DUR_mg/L','COLI_FEC_NMP/100_mL',\n",
        "                    'N_NO3_mg/L','AS_TOT_mg/L','CD_TOT_mg/L','CR_TOT_mg/L','HG_TOT_mg/L','PB_TOT_mg/L','MN_TOT_mg/L','FE_TOT_mg/L']\n",
        "\n",
        "ColumnasCategoricas=['CALIDAD_ALC', 'CALIDAD_CONDUC', 'CALIDAD_SDT_ra', 'CALIDAD_SDT_salin', 'CALIDAD_FLUO', 'CALIDAD_DUR', 'CALIDAD_COLI_FEC', \n",
        "                     'CALIDAD_N_NO3', 'CALIDAD_AS', 'CALIDAD_CD', 'CALIDAD_CR', 'CALIDAD_HG', 'CALIDAD_PB', 'CALIDAD_MN', 'CALIDAD_FE']\n",
        "\n",
        "ColumnasBinarias=['CUMPLE_CON_ALC', 'CUMPLE_CON_COND', 'CUMPLE_CON_SDT_ra', 'CUMPLE_CON_SDT_salin', 'CUMPLE_CON_FLUO', 'CUMPLE_CON_DUR', \n",
        "                  'CUMPLE_CON_CF', 'CUMPLE_CON_NO3', 'CUMPLE_CON_AS', 'CUMPLE_CON_CD', 'CUMPLE_CON_CR', 'CUMPLE_CON_HG', 'CUMPLE_CON_PB',\n",
        "                  'CUMPLE_CON_MN', 'CUMPLE_CON_FE']\n",
        "\n",
        "ColumnasEliminar=['CLAVE', 'SITIO', 'ORGANISMO_DE_CUENCA', 'ESTADO', 'MUNICIPIO', 'ACUIFERO', 'SUBTIPO', 'CONTAMINANTES']"
      ],
      "metadata": {
        "id": "U_G5wK9lv4Xu"
      },
      "execution_count": 39,
      "outputs": []
    },
    {
      "cell_type": "code",
      "source": [
        "#Inicialmente eliminamos las columnas que no consideramos relevantes para el modelo.\n",
        "#Cabe aclarar que las columnas de ubicación de la fuente de agua (SITIO, ORGANISMO_DE_CUENCA, ESTADO, MUNICIPIO, ACUIFERO, SUBTIPO)\n",
        "#no las consideramos relevantes porque con la longitud y latitud ya tendríamos las coordenadas de estos puntos, que es en últimas\n",
        "#lo que se busca visualizar en el modelo.\n",
        "dfAguasSubterraneas.drop(columns=ColumnasEliminar, axis=1, inplace=True)\n",
        "dfAguasSubterraneas.head()"
      ],
      "metadata": {
        "colab": {
          "base_uri": "https://localhost:8080/",
          "height": 386
        },
        "id": "E2HPbY8cMME2",
        "outputId": "46a0def1-dfc0-48d9-ee57-d871a6bc8419"
      },
      "execution_count": 40,
      "outputs": [
        {
          "output_type": "execute_result",
          "data": {
            "text/plain": [
              "    LONGITUD   LATITUD  PERIODO  ALC_mg/L CALIDAD_ALC  CONDUCT_mS/cm  \\\n",
              "0 -102.02210  22.20887     2020   229.990        Alta          940.0   \n",
              "1 -102.20075  21.99958     2020   231.990        Alta          608.0   \n",
              "2 -102.28801  22.36685     2020   204.920        Alta          532.0   \n",
              "3 -102.29449  22.18435     2020   327.000        Alta          686.0   \n",
              "4 -110.24480  23.45138     2020   309.885        Alta         1841.0   \n",
              "\n",
              "          CALIDAD_CONDUC  SDT_mg/L SDT_M_mg/L                CALIDAD_SDT_ra  \\\n",
              "0  Permisible para riego       NaN      603.6            Cultivos sensibles   \n",
              "1       Buena para riego       NaN      445.4          Excelente para riego   \n",
              "2       Buena para riego       NaN        342          Excelente para riego   \n",
              "3       Buena para riego       NaN      478.6          Excelente para riego   \n",
              "4  Permisible para riego       NaN       1179  Cultivos con manejo especial   \n",
              "\n",
              "   ... CUMPLE_CON_DUR CUMPLE_CON_CF CUMPLE_CON_NO3 CUMPLE_CON_AS  \\\n",
              "0  ...             SI            SI             SI            SI   \n",
              "1  ...             SI            SI             SI            SI   \n",
              "2  ...             SI            SI             SI            NO   \n",
              "3  ...             SI            SI             SI            SI   \n",
              "4  ...             SI            SI             NO            SI   \n",
              "\n",
              "  CUMPLE_CON_CD CUMPLE_CON_CR CUMPLE_CON_HG CUMPLE_CON_PB CUMPLE_CON_MN  \\\n",
              "0            SI            SI            SI            SI            SI   \n",
              "1            SI            SI            SI            SI            SI   \n",
              "2            SI            SI            SI            SI            SI   \n",
              "3            SI            SI            SI            SI            SI   \n",
              "4            SI            SI            SI            SI            SI   \n",
              "\n",
              "  CUMPLE_CON_FE  \n",
              "0            SI  \n",
              "1            SI  \n",
              "2            SI  \n",
              "3            SI  \n",
              "4            SI  \n",
              "\n",
              "[5 rows x 49 columns]"
            ],
            "text/html": [
              "\n",
              "  <div id=\"df-0d23e8e5-3502-430d-b484-d697d32d4b75\">\n",
              "    <div class=\"colab-df-container\">\n",
              "      <div>\n",
              "<style scoped>\n",
              "    .dataframe tbody tr th:only-of-type {\n",
              "        vertical-align: middle;\n",
              "    }\n",
              "\n",
              "    .dataframe tbody tr th {\n",
              "        vertical-align: top;\n",
              "    }\n",
              "\n",
              "    .dataframe thead th {\n",
              "        text-align: right;\n",
              "    }\n",
              "</style>\n",
              "<table border=\"1\" class=\"dataframe\">\n",
              "  <thead>\n",
              "    <tr style=\"text-align: right;\">\n",
              "      <th></th>\n",
              "      <th>LONGITUD</th>\n",
              "      <th>LATITUD</th>\n",
              "      <th>PERIODO</th>\n",
              "      <th>ALC_mg/L</th>\n",
              "      <th>CALIDAD_ALC</th>\n",
              "      <th>CONDUCT_mS/cm</th>\n",
              "      <th>CALIDAD_CONDUC</th>\n",
              "      <th>SDT_mg/L</th>\n",
              "      <th>SDT_M_mg/L</th>\n",
              "      <th>CALIDAD_SDT_ra</th>\n",
              "      <th>...</th>\n",
              "      <th>CUMPLE_CON_DUR</th>\n",
              "      <th>CUMPLE_CON_CF</th>\n",
              "      <th>CUMPLE_CON_NO3</th>\n",
              "      <th>CUMPLE_CON_AS</th>\n",
              "      <th>CUMPLE_CON_CD</th>\n",
              "      <th>CUMPLE_CON_CR</th>\n",
              "      <th>CUMPLE_CON_HG</th>\n",
              "      <th>CUMPLE_CON_PB</th>\n",
              "      <th>CUMPLE_CON_MN</th>\n",
              "      <th>CUMPLE_CON_FE</th>\n",
              "    </tr>\n",
              "  </thead>\n",
              "  <tbody>\n",
              "    <tr>\n",
              "      <th>0</th>\n",
              "      <td>-102.02210</td>\n",
              "      <td>22.20887</td>\n",
              "      <td>2020</td>\n",
              "      <td>229.990</td>\n",
              "      <td>Alta</td>\n",
              "      <td>940.0</td>\n",
              "      <td>Permisible para riego</td>\n",
              "      <td>NaN</td>\n",
              "      <td>603.6</td>\n",
              "      <td>Cultivos sensibles</td>\n",
              "      <td>...</td>\n",
              "      <td>SI</td>\n",
              "      <td>SI</td>\n",
              "      <td>SI</td>\n",
              "      <td>SI</td>\n",
              "      <td>SI</td>\n",
              "      <td>SI</td>\n",
              "      <td>SI</td>\n",
              "      <td>SI</td>\n",
              "      <td>SI</td>\n",
              "      <td>SI</td>\n",
              "    </tr>\n",
              "    <tr>\n",
              "      <th>1</th>\n",
              "      <td>-102.20075</td>\n",
              "      <td>21.99958</td>\n",
              "      <td>2020</td>\n",
              "      <td>231.990</td>\n",
              "      <td>Alta</td>\n",
              "      <td>608.0</td>\n",
              "      <td>Buena para riego</td>\n",
              "      <td>NaN</td>\n",
              "      <td>445.4</td>\n",
              "      <td>Excelente para riego</td>\n",
              "      <td>...</td>\n",
              "      <td>SI</td>\n",
              "      <td>SI</td>\n",
              "      <td>SI</td>\n",
              "      <td>SI</td>\n",
              "      <td>SI</td>\n",
              "      <td>SI</td>\n",
              "      <td>SI</td>\n",
              "      <td>SI</td>\n",
              "      <td>SI</td>\n",
              "      <td>SI</td>\n",
              "    </tr>\n",
              "    <tr>\n",
              "      <th>2</th>\n",
              "      <td>-102.28801</td>\n",
              "      <td>22.36685</td>\n",
              "      <td>2020</td>\n",
              "      <td>204.920</td>\n",
              "      <td>Alta</td>\n",
              "      <td>532.0</td>\n",
              "      <td>Buena para riego</td>\n",
              "      <td>NaN</td>\n",
              "      <td>342</td>\n",
              "      <td>Excelente para riego</td>\n",
              "      <td>...</td>\n",
              "      <td>SI</td>\n",
              "      <td>SI</td>\n",
              "      <td>SI</td>\n",
              "      <td>NO</td>\n",
              "      <td>SI</td>\n",
              "      <td>SI</td>\n",
              "      <td>SI</td>\n",
              "      <td>SI</td>\n",
              "      <td>SI</td>\n",
              "      <td>SI</td>\n",
              "    </tr>\n",
              "    <tr>\n",
              "      <th>3</th>\n",
              "      <td>-102.29449</td>\n",
              "      <td>22.18435</td>\n",
              "      <td>2020</td>\n",
              "      <td>327.000</td>\n",
              "      <td>Alta</td>\n",
              "      <td>686.0</td>\n",
              "      <td>Buena para riego</td>\n",
              "      <td>NaN</td>\n",
              "      <td>478.6</td>\n",
              "      <td>Excelente para riego</td>\n",
              "      <td>...</td>\n",
              "      <td>SI</td>\n",
              "      <td>SI</td>\n",
              "      <td>SI</td>\n",
              "      <td>SI</td>\n",
              "      <td>SI</td>\n",
              "      <td>SI</td>\n",
              "      <td>SI</td>\n",
              "      <td>SI</td>\n",
              "      <td>SI</td>\n",
              "      <td>SI</td>\n",
              "    </tr>\n",
              "    <tr>\n",
              "      <th>4</th>\n",
              "      <td>-110.24480</td>\n",
              "      <td>23.45138</td>\n",
              "      <td>2020</td>\n",
              "      <td>309.885</td>\n",
              "      <td>Alta</td>\n",
              "      <td>1841.0</td>\n",
              "      <td>Permisible para riego</td>\n",
              "      <td>NaN</td>\n",
              "      <td>1179</td>\n",
              "      <td>Cultivos con manejo especial</td>\n",
              "      <td>...</td>\n",
              "      <td>SI</td>\n",
              "      <td>SI</td>\n",
              "      <td>NO</td>\n",
              "      <td>SI</td>\n",
              "      <td>SI</td>\n",
              "      <td>SI</td>\n",
              "      <td>SI</td>\n",
              "      <td>SI</td>\n",
              "      <td>SI</td>\n",
              "      <td>SI</td>\n",
              "    </tr>\n",
              "  </tbody>\n",
              "</table>\n",
              "<p>5 rows × 49 columns</p>\n",
              "</div>\n",
              "      <button class=\"colab-df-convert\" onclick=\"convertToInteractive('df-0d23e8e5-3502-430d-b484-d697d32d4b75')\"\n",
              "              title=\"Convert this dataframe to an interactive table.\"\n",
              "              style=\"display:none;\">\n",
              "        \n",
              "  <svg xmlns=\"http://www.w3.org/2000/svg\" height=\"24px\"viewBox=\"0 0 24 24\"\n",
              "       width=\"24px\">\n",
              "    <path d=\"M0 0h24v24H0V0z\" fill=\"none\"/>\n",
              "    <path d=\"M18.56 5.44l.94 2.06.94-2.06 2.06-.94-2.06-.94-.94-2.06-.94 2.06-2.06.94zm-11 1L8.5 8.5l.94-2.06 2.06-.94-2.06-.94L8.5 2.5l-.94 2.06-2.06.94zm10 10l.94 2.06.94-2.06 2.06-.94-2.06-.94-.94-2.06-.94 2.06-2.06.94z\"/><path d=\"M17.41 7.96l-1.37-1.37c-.4-.4-.92-.59-1.43-.59-.52 0-1.04.2-1.43.59L10.3 9.45l-7.72 7.72c-.78.78-.78 2.05 0 2.83L4 21.41c.39.39.9.59 1.41.59.51 0 1.02-.2 1.41-.59l7.78-7.78 2.81-2.81c.8-.78.8-2.07 0-2.86zM5.41 20L4 18.59l7.72-7.72 1.47 1.35L5.41 20z\"/>\n",
              "  </svg>\n",
              "      </button>\n",
              "      \n",
              "  <style>\n",
              "    .colab-df-container {\n",
              "      display:flex;\n",
              "      flex-wrap:wrap;\n",
              "      gap: 12px;\n",
              "    }\n",
              "\n",
              "    .colab-df-convert {\n",
              "      background-color: #E8F0FE;\n",
              "      border: none;\n",
              "      border-radius: 50%;\n",
              "      cursor: pointer;\n",
              "      display: none;\n",
              "      fill: #1967D2;\n",
              "      height: 32px;\n",
              "      padding: 0 0 0 0;\n",
              "      width: 32px;\n",
              "    }\n",
              "\n",
              "    .colab-df-convert:hover {\n",
              "      background-color: #E2EBFA;\n",
              "      box-shadow: 0px 1px 2px rgba(60, 64, 67, 0.3), 0px 1px 3px 1px rgba(60, 64, 67, 0.15);\n",
              "      fill: #174EA6;\n",
              "    }\n",
              "\n",
              "    [theme=dark] .colab-df-convert {\n",
              "      background-color: #3B4455;\n",
              "      fill: #D2E3FC;\n",
              "    }\n",
              "\n",
              "    [theme=dark] .colab-df-convert:hover {\n",
              "      background-color: #434B5C;\n",
              "      box-shadow: 0px 1px 3px 1px rgba(0, 0, 0, 0.15);\n",
              "      filter: drop-shadow(0px 1px 2px rgba(0, 0, 0, 0.3));\n",
              "      fill: #FFFFFF;\n",
              "    }\n",
              "  </style>\n",
              "\n",
              "      <script>\n",
              "        const buttonEl =\n",
              "          document.querySelector('#df-0d23e8e5-3502-430d-b484-d697d32d4b75 button.colab-df-convert');\n",
              "        buttonEl.style.display =\n",
              "          google.colab.kernel.accessAllowed ? 'block' : 'none';\n",
              "\n",
              "        async function convertToInteractive(key) {\n",
              "          const element = document.querySelector('#df-0d23e8e5-3502-430d-b484-d697d32d4b75');\n",
              "          const dataTable =\n",
              "            await google.colab.kernel.invokeFunction('convertToInteractive',\n",
              "                                                     [key], {});\n",
              "          if (!dataTable) return;\n",
              "\n",
              "          const docLinkHtml = 'Like what you see? Visit the ' +\n",
              "            '<a target=\"_blank\" href=https://colab.research.google.com/notebooks/data_table.ipynb>data table notebook</a>'\n",
              "            + ' to learn more about interactive tables.';\n",
              "          element.innerHTML = '';\n",
              "          dataTable['output_type'] = 'display_data';\n",
              "          await google.colab.output.renderOutput(dataTable, element);\n",
              "          const docLink = document.createElement('div');\n",
              "          docLink.innerHTML = docLinkHtml;\n",
              "          element.appendChild(docLink);\n",
              "        }\n",
              "      </script>\n",
              "    </div>\n",
              "  </div>\n",
              "  "
            ]
          },
          "metadata": {},
          "execution_count": 40
        }
      ]
    },
    {
      "cell_type": "markdown",
      "source": [
        "---\n",
        "\n",
        "\n",
        "## 👣 **Limpieza, Análisis, Visualización, Agrupamiento:** Realizaremos análisis de las columnas existentes, validación de datos perdidos, imputación de acuerdo al tipo de dato de cada columna, reemplazo de datos, escalamiento de datos si se requiere y visualización a través de gráficas que nos permitan realizar un análisis de la distribución de los datos;\n",
        "\n",
        "\n",
        "\n",
        "---"
      ],
      "metadata": {
        "id": "Q1wG8lNMJoE3"
      }
    },
    {
      "cell_type": "code",
      "source": [
        "#Verificamos si existen datos perdidos en nuestro conjunto\n",
        "print(\"¿Existen datos perdidos en el conjunto?\")\n",
        "if(dfAguasSubterraneas.isna().values.any())==True:\n",
        "  print(\"Sí\")\n",
        "else:  \n",
        "  print(\"No\")"
      ],
      "metadata": {
        "colab": {
          "base_uri": "https://localhost:8080/"
        },
        "id": "kWMU440KI3k1",
        "outputId": "ac40c4b8-55f6-4c4e-f017-42074ca328b6"
      },
      "execution_count": 41,
      "outputs": [
        {
          "output_type": "stream",
          "name": "stdout",
          "text": [
            "¿Existen datos perdidos en el conjunto?\n",
            "Sí\n"
          ]
        }
      ]
    },
    {
      "cell_type": "code",
      "source": [
        "#Graficamos con un histograma el porcentaje de datos perdidos según el número de registros\n",
        "FilasNA = dfAguasSubterraneas.isna().sum(axis=0) / len(dfAguasSubterraneas.columns)\n",
        "AS_FilasNA = FilasNA.hist()\n",
        "AS_FilasNA.set_xlabel('% Datos Perdidos')\n",
        "AS_FilasNA.set_ylabel('Número de Registros')"
      ],
      "metadata": {
        "colab": {
          "base_uri": "https://localhost:8080/",
          "height": 299
        },
        "id": "kY1heCRKZ9Z9",
        "outputId": "ad8bcf3c-164b-4e99-9531-9c564efa1799"
      },
      "execution_count": 42,
      "outputs": [
        {
          "output_type": "execute_result",
          "data": {
            "text/plain": [
              "Text(0, 0.5, 'Número de Registros')"
            ]
          },
          "metadata": {},
          "execution_count": 42
        },
        {
          "output_type": "display_data",
          "data": {
            "text/plain": [
              "<Figure size 432x288 with 1 Axes>"
            ],
            "image/png": "[encoded data removed]"
          },
          "metadata": {
            "needs_background": "light"
          }
        }
      ]
    },
    {
      "cell_type": "markdown",
      "source": [
        "---\n",
        "\n",
        "🔎 Vemos que para la gran mayoría de registros el porcentaje de datos perdidos no llega al **2.5%**, sin embargo, observamos algunos registros con datos perdidos mayores al **20%**. Entraremos a revisar el detalle de cada columna a continuación.\n",
        "\n",
        "---"
      ],
      "metadata": {
        "id": "Uu9FKawvaK_L"
      }
    },
    {
      "cell_type": "code",
      "source": [
        "#Validamos a continuación cuales son las columnas con datos perdidos para determinar el porcentaje sobre el total.\n",
        "ColumnasNA=dfAguasSubterraneas.columns[dfAguasSubterraneas.isna().any()].tolist()\n",
        "print(\"*************************************************\")\n",
        "print(\"Las siguientes columnas presentan datos perdidos:\")\n",
        "print(\"*************************************************\")\n",
        "dfAguasSubterraneas[ColumnasNA].dtypes"
      ],
      "metadata": {
        "id": "QdpRMvk_0bGE",
        "outputId": "78d9b442-73dd-40ed-8412-a3c6a2901378",
        "colab": {
          "base_uri": "https://localhost:8080/"
        }
      },
      "execution_count": 43,
      "outputs": [
        {
          "output_type": "stream",
          "name": "stdout",
          "text": [
            "*************************************************\n",
            "Las siguientes columnas presentan datos perdidos:\n",
            "*************************************************\n"
          ]
        },
        {
          "output_type": "execute_result",
          "data": {
            "text/plain": [
              "ALC_mg/L             float64\n",
              "CALIDAD_ALC           object\n",
              "CONDUCT_mS/cm        float64\n",
              "CALIDAD_CONDUC        object\n",
              "SDT_mg/L             float64\n",
              "SDT_M_mg/L            object\n",
              "CALIDAD_SDT_ra        object\n",
              "CALIDAD_SDT_salin     object\n",
              "DUR_mg/L              object\n",
              "CALIDAD_DUR           object\n",
              "N_NO3_mg/L            object\n",
              "CALIDAD_N_NO3         object\n",
              "dtype: object"
            ]
          },
          "metadata": {},
          "execution_count": 43
        }
      ]
    },
    {
      "cell_type": "markdown",
      "source": [
        "---\n",
        "\n",
        "🔎 Existen 3 columnas con tipo de dato numérico y 9 columnas con tipo de dato object que presentan datos perdidos.\n",
        "\n",
        "---"
      ],
      "metadata": {
        "id": "ZVS14ywO5kXb"
      }
    },
    {
      "cell_type": "code",
      "source": [
        "#Verificamos el porcentaje de datos perdidos por columna.\n",
        "print(\"*******************************************************************\")\n",
        "print(\"El porcentaje de datos perdidos para las columnas identificadas es:\")\n",
        "print(\"*******************************************************************\")\n",
        "round(dfAguasSubterraneas[dfAguasSubterraneas.columns[dfAguasSubterraneas.isnull().any()]].isnull().sum() * 100 / dfAguasSubterraneas.shape[0],2)"
      ],
      "metadata": {
        "id": "JaV2KB5Y2PrV",
        "outputId": "06f1e4dc-9011-4023-8dae-2bb4e59edf36",
        "colab": {
          "base_uri": "https://localhost:8080/"
        }
      },
      "execution_count": 44,
      "outputs": [
        {
          "output_type": "stream",
          "name": "stdout",
          "text": [
            "*******************************************************************\n",
            "El porcentaje de datos perdidos para las columnas identificadas es:\n",
            "*******************************************************************\n"
          ]
        },
        {
          "output_type": "execute_result",
          "data": {
            "text/plain": [
              "ALC_mg/L               0.37\n",
              "CALIDAD_ALC            0.37\n",
              "CONDUCT_mS/cm          0.56\n",
              "CALIDAD_CONDUC         0.56\n",
              "SDT_mg/L             100.00\n",
              "SDT_M_mg/L             0.19\n",
              "CALIDAD_SDT_ra         0.19\n",
              "CALIDAD_SDT_salin      0.19\n",
              "DUR_mg/L               0.09\n",
              "CALIDAD_DUR            0.09\n",
              "N_NO3_mg/L             0.09\n",
              "CALIDAD_N_NO3          0.09\n",
              "dtype: float64"
            ]
          },
          "metadata": {},
          "execution_count": 44
        }
      ]
    },
    {
      "cell_type": "markdown",
      "source": [
        "---\n",
        "\n",
        "🔎 Observamos que la columna \"**SDT_mg/L**\" presenta un **100%** de datos perdidos, por lo cual deberíamos validar la incidencia de esta columna en la clasificación requerida para el modelo según el detalle que nos puedan entregar los responsables de la fuente de información. Para el caso del ejercicio procederemos a eliminarla, ya que al no tener información se hace irrelevante su uso.\n",
        "\n",
        "---\n",
        "\n"
      ],
      "metadata": {
        "id": "3ekol0PVJ6Nf"
      }
    },
    {
      "cell_type": "code",
      "source": [
        "#Eliminamos la columna que no contiene información \"SDT_mg/L\" y verificamos nuevamente el porcentaje de datos perdidos por columna.\n",
        "dfAguasSubterraneas.drop('SDT_mg/L', axis=1, inplace=True)\n",
        "print(\"*******************************************************************\")\n",
        "print(\"El porcentaje de datos perdidos para las columnas identificadas es:\")\n",
        "print(\"*******************************************************************\")\n",
        "round(dfAguasSubterraneas[dfAguasSubterraneas.columns[dfAguasSubterraneas.isnull().any()]].isnull().sum() * 100 / dfAguasSubterraneas.shape[0],2)"
      ],
      "metadata": {
        "colab": {
          "base_uri": "https://localhost:8080/"
        },
        "id": "cLz0bzhIe-zy",
        "outputId": "cd15dce4-35a2-46c4-d25a-09e27d9fd39e"
      },
      "execution_count": 45,
      "outputs": [
        {
          "output_type": "stream",
          "name": "stdout",
          "text": [
            "*******************************************************************\n",
            "El porcentaje de datos perdidos para las columnas identificadas es:\n",
            "*******************************************************************\n"
          ]
        },
        {
          "output_type": "execute_result",
          "data": {
            "text/plain": [
              "ALC_mg/L             0.37\n",
              "CALIDAD_ALC          0.37\n",
              "CONDUCT_mS/cm        0.56\n",
              "CALIDAD_CONDUC       0.56\n",
              "SDT_M_mg/L           0.19\n",
              "CALIDAD_SDT_ra       0.19\n",
              "CALIDAD_SDT_salin    0.19\n",
              "DUR_mg/L             0.09\n",
              "CALIDAD_DUR          0.09\n",
              "N_NO3_mg/L           0.09\n",
              "CALIDAD_N_NO3        0.09\n",
              "dtype: float64"
            ]
          },
          "metadata": {},
          "execution_count": 45
        }
      ]
    },
    {
      "cell_type": "markdown",
      "source": [
        "---\n",
        "\n",
        "🔎 Observamos que las columnas \"**CONDUCT_mS/cm**\" y **CALIDAD_CONDUC** presentan un **56%** de datos perdidos, en este caso establecimos como umbral el 60% de datos perdidos para eliminar la columna, ya que asumimos que con más del 60% de datos perdidos la columna pierde relevancia para el modelo.\n",
        "\n",
        "---\n"
      ],
      "metadata": {
        "id": "_Re4-kyXf846"
      }
    },
    {
      "cell_type": "markdown",
      "source": [
        "☝ A continuación vamos a obtener los valores no numéricos para aquellas columnas que según la fuente de información deberían ser numéricas, tal como se identificó en la tabla inicial mostrada en el notebook, una vez identificados estos valores no numéricos realizaremos su reemplazo antes de proceder con el cambio del tipo de dato en las columnas."
      ],
      "metadata": {
        "id": "yUPifJy5v0zS"
      }
    },
    {
      "cell_type": "code",
      "source": [
        "#Creamos el dataframe \"dfnum\" solo con las columnas numéricas del conjunto de datos original.\n",
        "dfnum = dfAguasSubterraneas[ColumnasNumericas]\n",
        "\n",
        "#Creamos una lista para almacenar todos los valores no numéricos que encontramos en las columnas del nuevo dataframe\n",
        "list_nn = list()\n",
        "for col in range(len(dfnum)):\n",
        "  for fil in dfnum.iloc[col]:\n",
        "     tem=str(fil)\n",
        "     if(tem.isnumeric()==False):\n",
        "        #Asignamos el valor no numérico encontrado a la lista.\n",
        "        list_nn.append(fil)  \n",
        "\n",
        "#Convertimos todos los valores de la lista a 'str'\n",
        "list_nn_final=list(map(str,list_nn))\n",
        "#Ordenamos la lista en forma descendente para obtener aquellos valores con caracteres no numéricos al comienzo.\n",
        "list_nn_final.sort(reverse=True)\n",
        "print(\"*********************************************************************************************************\")\n",
        "print(\"Las siguientes son ocurrencias por valor no numérico encontradas en columnas que deberían ser numéricas:\")\n",
        "print(\"*********************************************************************************************************\")\n",
        "pd.DataFrame(list_nn_final).sort_values([0]).value_counts().head(15)"
      ],
      "metadata": {
        "id": "2GyJdwhMiG6h",
        "colab": {
          "base_uri": "https://localhost:8080/"
        },
        "outputId": "5d759659-3f54-46dc-decb-c5066705a724"
      },
      "execution_count": 46,
      "outputs": [
        {
          "output_type": "stream",
          "name": "stdout",
          "text": [
            "*********************************************************************************************************\n",
            "Las siguientes son ocurrencias por valor no numérico encontradas en columnas que deberían ser numéricas:\n",
            "*********************************************************************************************************\n"
          ]
        },
        {
          "output_type": "execute_result",
          "data": {
            "text/plain": [
              "<0.005     1892\n",
              "<0.003     1066\n",
              "<0.0005     968\n",
              "<0.01       815\n",
              "<1.1        737\n",
              "<0.0015     545\n",
              "<0.025      401\n",
              "<0.2        162\n",
              "<0.02        65\n",
              "<20          26\n",
              "nan          14\n",
              "0.0006       13\n",
              "0.0017       13\n",
              "0.005        11\n",
              "0.0021       10\n",
              "dtype: int64"
            ]
          },
          "metadata": {},
          "execution_count": 46
        }
      ]
    },
    {
      "cell_type": "markdown",
      "source": [
        "---\n",
        "\n",
        "🔎 Encontramos múltiples valores no numéricos, por el momento nos centraremos en reemplazar los valores que hacen referencia a rangos, ya que encontramos por ejemplo, **1,892** ocurrencias para **<0.005**. A continuación procederemos ajustando el valor de las celdas al número superior dentro del rango esperado de la siguiente manera:\n",
        "\n",
        "*   <25 = 25\n",
        "*   <20 = 20\n",
        "*   <1.1 = 1.1\n",
        "*   <0.2 = 0.2\n",
        "*   <0.025 = 0.025\n",
        "*   <0.02 = 0.02\n",
        "*   <0.01 = 0.01\n",
        "*   <0.005 = 0.005\n",
        "*   <0.003 = 0.003\n",
        "*   <0.0015 = 0.0015\n",
        "*   <0.0005 = 0.0005\n",
        "\n",
        "\n",
        "Una vez ajustados estos valores procederemos a cambiar el tipo de dato para las columnas numéricas.\n",
        "\n",
        "---"
      ],
      "metadata": {
        "id": "rTjRZMU-xcJA"
      }
    },
    {
      "cell_type": "code",
      "source": [
        "#Recorremos las columnas numéricas identificadas previamente y ejecutamos el reemplazo de los valores de rango por valores numéricos.\n",
        "for Columna in dfnum.columns:\n",
        "  dfAguasSubterraneas[Columna] = dfAguasSubterraneas[Columna].astype('str')\n",
        "  dfAguasSubterraneas[Columna] = dfAguasSubterraneas[Columna].str.replace('<25','25')\n",
        "  dfAguasSubterraneas[Columna] = dfAguasSubterraneas[Columna].str.replace('<20','20')\n",
        "  dfAguasSubterraneas[Columna] = dfAguasSubterraneas[Columna].str.replace('<1.1','1.1') \n",
        "  dfAguasSubterraneas[Columna] = dfAguasSubterraneas[Columna].str.replace('<0.2','0.2') \n",
        "  dfAguasSubterraneas[Columna] = dfAguasSubterraneas[Columna].str.replace('<0.025','0.025') \n",
        "  dfAguasSubterraneas[Columna] = dfAguasSubterraneas[Columna].str.replace('<0.02','0.02') \n",
        "  dfAguasSubterraneas[Columna] = dfAguasSubterraneas[Columna].str.replace('<0.01','0.01') \n",
        "  dfAguasSubterraneas[Columna] = dfAguasSubterraneas[Columna].str.replace('<0.005','0.005') \n",
        "  dfAguasSubterraneas[Columna] = dfAguasSubterraneas[Columna].str.replace('<0.003','0.003') \n",
        "  dfAguasSubterraneas[Columna] = dfAguasSubterraneas[Columna].str.replace('<0.0015','0.0015') \n",
        "  dfAguasSubterraneas[Columna] = dfAguasSubterraneas[Columna].str.replace('<0.0005','0.0005') \n",
        "  #Cambiamos el tipo de dato a numérico \n",
        "  dfAguasSubterraneas[Columna]= dfAguasSubterraneas[Columna].astype('float')\n",
        "\n",
        "#Validamos el tipo de dato de las columnas en el dataframe original\n",
        "dfAguasSubterraneas.info()"
      ],
      "metadata": {
        "colab": {
          "base_uri": "https://localhost:8080/"
        },
        "id": "TPWi-EDIr9IA",
        "outputId": "970ea6fe-7fc7-4f9e-ed9f-643a6e208717"
      },
      "execution_count": 47,
      "outputs": [
        {
          "output_type": "stream",
          "name": "stdout",
          "text": [
            "<class 'pandas.core.frame.DataFrame'>\n",
            "RangeIndex: 1068 entries, 0 to 1067\n",
            "Data columns (total 48 columns):\n",
            " #   Column                Non-Null Count  Dtype  \n",
            "---  ------                --------------  -----  \n",
            " 0   LONGITUD              1068 non-null   float64\n",
            " 1   LATITUD               1068 non-null   float64\n",
            " 2   PERIODO               1068 non-null   int64  \n",
            " 3   ALC_mg/L              1064 non-null   float64\n",
            " 4   CALIDAD_ALC           1064 non-null   object \n",
            " 5   CONDUCT_mS/cm         1062 non-null   float64\n",
            " 6   CALIDAD_CONDUC        1062 non-null   object \n",
            " 7   SDT_M_mg/L            1066 non-null   float64\n",
            " 8   CALIDAD_SDT_ra        1066 non-null   object \n",
            " 9   CALIDAD_SDT_salin     1066 non-null   object \n",
            " 10  FLUORUROS_mg/L        1068 non-null   float64\n",
            " 11  CALIDAD_FLUO          1068 non-null   object \n",
            " 12  DUR_mg/L              1067 non-null   float64\n",
            " 13  CALIDAD_DUR           1067 non-null   object \n",
            " 14  COLI_FEC_NMP/100_mL   1068 non-null   float64\n",
            " 15  CALIDAD_COLI_FEC      1068 non-null   object \n",
            " 16  N_NO3_mg/L            1067 non-null   float64\n",
            " 17  CALIDAD_N_NO3         1067 non-null   object \n",
            " 18  AS_TOT_mg/L           1068 non-null   float64\n",
            " 19  CALIDAD_AS            1068 non-null   object \n",
            " 20  CD_TOT_mg/L           1068 non-null   float64\n",
            " 21  CALIDAD_CD            1068 non-null   object \n",
            " 22  CR_TOT_mg/L           1068 non-null   float64\n",
            " 23  CALIDAD_CR            1068 non-null   object \n",
            " 24  HG_TOT_mg/L           1068 non-null   float64\n",
            " 25  CALIDAD_HG            1068 non-null   object \n",
            " 26  PB_TOT_mg/L           1068 non-null   float64\n",
            " 27  CALIDAD_PB            1068 non-null   object \n",
            " 28  MN_TOT_mg/L           1068 non-null   float64\n",
            " 29  CALIDAD_MN            1068 non-null   object \n",
            " 30  FE_TOT_mg/L           1068 non-null   float64\n",
            " 31  CALIDAD_FE            1068 non-null   object \n",
            " 32  SEMAFORO              1068 non-null   object \n",
            " 33  CUMPLE_CON_ALC        1068 non-null   object \n",
            " 34  CUMPLE_CON_COND       1068 non-null   object \n",
            " 35  CUMPLE_CON_SDT_ra     1068 non-null   object \n",
            " 36  CUMPLE_CON_SDT_salin  1068 non-null   object \n",
            " 37  CUMPLE_CON_FLUO       1068 non-null   object \n",
            " 38  CUMPLE_CON_DUR        1068 non-null   object \n",
            " 39  CUMPLE_CON_CF         1068 non-null   object \n",
            " 40  CUMPLE_CON_NO3        1068 non-null   object \n",
            " 41  CUMPLE_CON_AS         1068 non-null   object \n",
            " 42  CUMPLE_CON_CD         1068 non-null   object \n",
            " 43  CUMPLE_CON_CR         1068 non-null   object \n",
            " 44  CUMPLE_CON_HG         1068 non-null   object \n",
            " 45  CUMPLE_CON_PB         1068 non-null   object \n",
            " 46  CUMPLE_CON_MN         1068 non-null   object \n",
            " 47  CUMPLE_CON_FE         1068 non-null   object \n",
            "dtypes: float64(16), int64(1), object(31)\n",
            "memory usage: 400.6+ KB\n"
          ]
        }
      ]
    },
    {
      "cell_type": "markdown",
      "source": [
        "\n",
        "\n",
        "---\n",
        "\n",
        "☝ Para finalizar con la limpieza inicial, procederemos a cambiar el tipo de dato para las columnas categóricas y las binarias.\n",
        "\n",
        "---\n",
        "\n"
      ],
      "metadata": {
        "id": "YUG2_vcBOeYL"
      }
    },
    {
      "cell_type": "code",
      "source": [
        "#Analizamos una muestra de las columnas binarias antes de proceder con la conversión del tipo.\n",
        "dfAguasSubterraneas.groupby(ColumnasBinarias)[ColumnasBinarias].count()"
      ],
      "metadata": {
        "colab": {
          "base_uri": "https://localhost:8080/",
          "height": 519
        },
        "id": "unrzzkliSGqg",
        "outputId": "f62c5213-c2b6-42ae-de65-052a569eec74"
      },
      "execution_count": 48,
      "outputs": [
        {
          "output_type": "execute_result",
          "data": {
            "text/plain": [
              "                                                                                                                                                                                                                                     CUMPLE_CON_ALC  \\\n",
              "CUMPLE_CON_ALC CUMPLE_CON_COND CUMPLE_CON_SDT_ra CUMPLE_CON_SDT_salin CUMPLE_CON_FLUO CUMPLE_CON_DUR CUMPLE_CON_CF CUMPLE_CON_NO3 CUMPLE_CON_AS CUMPLE_CON_CD CUMPLE_CON_CR CUMPLE_CON_HG CUMPLE_CON_PB CUMPLE_CON_MN CUMPLE_CON_FE                   \n",
              "ND             SI              SI                SI                   NO              SI             SI            SI             SI            SI            SI            SI            SI            SI            SI                          1   \n",
              "                                                                      SI              SI             SI            NO             SI            SI            SI            SI            SI            SI            SI                          1   \n",
              "                                                                                                                   SI             SI            SI            SI            SI            SI            SI            SI                          2   \n",
              "NO             ND              NO                NO                   SI              NO             SI            SI             SI            SI            SI            SI            SI            NO            NO                          1   \n",
              "                               SI                SI                   NO              SI             SI            SI             NO            SI            SI            SI            SI            SI            SI                          1   \n",
              "...                                                                                                                                                                                                                                             ...   \n",
              "SI             SI              SI                SI                   SI              SI             SI            SI             SI            SI            SI            SI            NO            SI            SI                          3   \n",
              "                                                                                                                                                                                          SI            NO            NO                         16   \n",
              "                                                                                                                                                                                                                      SI                         24   \n",
              "                                                                                                                                                                                                        SI            NO                         27   \n",
              "                                                                                                                                                                                                                      SI                        427   \n",
              "\n",
              "                                                                                                                                                                                                                                     CUMPLE_CON_COND  \\\n",
              "CUMPLE_CON_ALC CUMPLE_CON_COND CUMPLE_CON_SDT_ra CUMPLE_CON_SDT_salin CUMPLE_CON_FLUO CUMPLE_CON_DUR CUMPLE_CON_CF CUMPLE_CON_NO3 CUMPLE_CON_AS CUMPLE_CON_CD CUMPLE_CON_CR CUMPLE_CON_HG CUMPLE_CON_PB CUMPLE_CON_MN CUMPLE_CON_FE                    \n",
              "ND             SI              SI                SI                   NO              SI             SI            SI             SI            SI            SI            SI            SI            SI            SI                           1   \n",
              "                                                                      SI              SI             SI            NO             SI            SI            SI            SI            SI            SI            SI                           1   \n",
              "                                                                                                                   SI             SI            SI            SI            SI            SI            SI            SI                           2   \n",
              "NO             ND              NO                NO                   SI              NO             SI            SI             SI            SI            SI            SI            SI            NO            NO                           1   \n",
              "                               SI                SI                   NO              SI             SI            SI             NO            SI            SI            SI            SI            SI            SI                           1   \n",
              "...                                                                                                                                                                                                                                              ...   \n",
              "SI             SI              SI                SI                   SI              SI             SI            SI             SI            SI            SI            SI            NO            SI            SI                           3   \n",
              "                                                                                                                                                                                          SI            NO            NO                          16   \n",
              "                                                                                                                                                                                                                      SI                          24   \n",
              "                                                                                                                                                                                                        SI            NO                          27   \n",
              "                                                                                                                                                                                                                      SI                         427   \n",
              "\n",
              "                                                                                                                                                                                                                                     CUMPLE_CON_SDT_ra  \\\n",
              "CUMPLE_CON_ALC CUMPLE_CON_COND CUMPLE_CON_SDT_ra CUMPLE_CON_SDT_salin CUMPLE_CON_FLUO CUMPLE_CON_DUR CUMPLE_CON_CF CUMPLE_CON_NO3 CUMPLE_CON_AS CUMPLE_CON_CD CUMPLE_CON_CR CUMPLE_CON_HG CUMPLE_CON_PB CUMPLE_CON_MN CUMPLE_CON_FE                      \n",
              "ND             SI              SI                SI                   NO              SI             SI            SI             SI            SI            SI            SI            SI            SI            SI                             1   \n",
              "                                                                      SI              SI             SI            NO             SI            SI            SI            SI            SI            SI            SI                             1   \n",
              "                                                                                                                   SI             SI            SI            SI            SI            SI            SI            SI                             2   \n",
              "NO             ND              NO                NO                   SI              NO             SI            SI             SI            SI            SI            SI            SI            NO            NO                             1   \n",
              "                               SI                SI                   NO              SI             SI            SI             NO            SI            SI            SI            SI            SI            SI                             1   \n",
              "...                                                                                                                                                                                                                                                ...   \n",
              "SI             SI              SI                SI                   SI              SI             SI            SI             SI            SI            SI            SI            NO            SI            SI                             3   \n",
              "                                                                                                                                                                                          SI            NO            NO                            16   \n",
              "                                                                                                                                                                                                                      SI                            24   \n",
              "                                                                                                                                                                                                        SI            NO                            27   \n",
              "                                                                                                                                                                                                                      SI                           427   \n",
              "\n",
              "                                                                                                                                                                                                                                     CUMPLE_CON_SDT_salin  \\\n",
              "CUMPLE_CON_ALC CUMPLE_CON_COND CUMPLE_CON_SDT_ra CUMPLE_CON_SDT_salin CUMPLE_CON_FLUO CUMPLE_CON_DUR CUMPLE_CON_CF CUMPLE_CON_NO3 CUMPLE_CON_AS CUMPLE_CON_CD CUMPLE_CON_CR CUMPLE_CON_HG CUMPLE_CON_PB CUMPLE_CON_MN CUMPLE_CON_FE                         \n",
              "ND             SI              SI                SI                   NO              SI             SI            SI             SI            SI            SI            SI            SI            SI            SI                                1   \n",
              "                                                                      SI              SI             SI            NO             SI            SI            SI            SI            SI            SI            SI                                1   \n",
              "                                                                                                                   SI             SI            SI            SI            SI            SI            SI            SI                                2   \n",
              "NO             ND              NO                NO                   SI              NO             SI            SI             SI            SI            SI            SI            SI            NO            NO                                1   \n",
              "                               SI                SI                   NO              SI             SI            SI             NO            SI            SI            SI            SI            SI            SI                                1   \n",
              "...                                                                                                                                                                                                                                                   ...   \n",
              "SI             SI              SI                SI                   SI              SI             SI            SI             SI            SI            SI            SI            NO            SI            SI                                3   \n",
              "                                                                                                                                                                                          SI            NO            NO                               16   \n",
              "                                                                                                                                                                                                                      SI                               24   \n",
              "                                                                                                                                                                                                        SI            NO                               27   \n",
              "                                                                                                                                                                                                                      SI                              427   \n",
              "\n",
              "                                                                                                                                                                                                                                     CUMPLE_CON_FLUO  \\\n",
              "CUMPLE_CON_ALC CUMPLE_CON_COND CUMPLE_CON_SDT_ra CUMPLE_CON_SDT_salin CUMPLE_CON_FLUO CUMPLE_CON_DUR CUMPLE_CON_CF CUMPLE_CON_NO3 CUMPLE_CON_AS CUMPLE_CON_CD CUMPLE_CON_CR CUMPLE_CON_HG CUMPLE_CON_PB CUMPLE_CON_MN CUMPLE_CON_FE                    \n",
              "ND             SI              SI                SI                   NO              SI             SI            SI             SI            SI            SI            SI            SI            SI            SI                           1   \n",
              "                                                                      SI              SI             SI            NO             SI            SI            SI            SI            SI            SI            SI                           1   \n",
              "                                                                                                                   SI             SI            SI            SI            SI            SI            SI            SI                           2   \n",
              "NO             ND              NO                NO                   SI              NO             SI            SI             SI            SI            SI            SI            SI            NO            NO                           1   \n",
              "                               SI                SI                   NO              SI             SI            SI             NO            SI            SI            SI            SI            SI            SI                           1   \n",
              "...                                                                                                                                                                                                                                              ...   \n",
              "SI             SI              SI                SI                   SI              SI             SI            SI             SI            SI            SI            SI            NO            SI            SI                           3   \n",
              "                                                                                                                                                                                          SI            NO            NO                          16   \n",
              "                                                                                                                                                                                                                      SI                          24   \n",
              "                                                                                                                                                                                                        SI            NO                          27   \n",
              "                                                                                                                                                                                                                      SI                         427   \n",
              "\n",
              "                                                                                                                                                                                                                                     CUMPLE_CON_DUR  \\\n",
              "CUMPLE_CON_ALC CUMPLE_CON_COND CUMPLE_CON_SDT_ra CUMPLE_CON_SDT_salin CUMPLE_CON_FLUO CUMPLE_CON_DUR CUMPLE_CON_CF CUMPLE_CON_NO3 CUMPLE_CON_AS CUMPLE_CON_CD CUMPLE_CON_CR CUMPLE_CON_HG CUMPLE_CON_PB CUMPLE_CON_MN CUMPLE_CON_FE                   \n",
              "ND             SI              SI                SI                   NO              SI             SI            SI             SI            SI            SI            SI            SI            SI            SI                          1   \n",
              "                                                                      SI              SI             SI            NO             SI            SI            SI            SI            SI            SI            SI                          1   \n",
              "                                                                                                                   SI             SI            SI            SI            SI            SI            SI            SI                          2   \n",
              "NO             ND              NO                NO                   SI              NO             SI            SI             SI            SI            SI            SI            SI            NO            NO                          1   \n",
              "                               SI                SI                   NO              SI             SI            SI             NO            SI            SI            SI            SI            SI            SI                          1   \n",
              "...                                                                                                                                                                                                                                             ...   \n",
              "SI             SI              SI                SI                   SI              SI             SI            SI             SI            SI            SI            SI            NO            SI            SI                          3   \n",
              "                                                                                                                                                                                          SI            NO            NO                         16   \n",
              "                                                                                                                                                                                                                      SI                         24   \n",
              "                                                                                                                                                                                                        SI            NO                         27   \n",
              "                                                                                                                                                                                                                      SI                        427   \n",
              "\n",
              "                                                                                                                                                                                                                                     CUMPLE_CON_CF  \\\n",
              "CUMPLE_CON_ALC CUMPLE_CON_COND CUMPLE_CON_SDT_ra CUMPLE_CON_SDT_salin CUMPLE_CON_FLUO CUMPLE_CON_DUR CUMPLE_CON_CF CUMPLE_CON_NO3 CUMPLE_CON_AS CUMPLE_CON_CD CUMPLE_CON_CR CUMPLE_CON_HG CUMPLE_CON_PB CUMPLE_CON_MN CUMPLE_CON_FE                  \n",
              "ND             SI              SI                SI                   NO              SI             SI            SI             SI            SI            SI            SI            SI            SI            SI                         1   \n",
              "                                                                      SI              SI             SI            NO             SI            SI            SI            SI            SI            SI            SI                         1   \n",
              "                                                                                                                   SI             SI            SI            SI            SI            SI            SI            SI                         2   \n",
              "NO             ND              NO                NO                   SI              NO             SI            SI             SI            SI            SI            SI            SI            NO            NO                         1   \n",
              "                               SI                SI                   NO              SI             SI            SI             NO            SI            SI            SI            SI            SI            SI                         1   \n",
              "...                                                                                                                                                                                                                                            ...   \n",
              "SI             SI              SI                SI                   SI              SI             SI            SI             SI            SI            SI            SI            NO            SI            SI                         3   \n",
              "                                                                                                                                                                                          SI            NO            NO                        16   \n",
              "                                                                                                                                                                                                                      SI                        24   \n",
              "                                                                                                                                                                                                        SI            NO                        27   \n",
              "                                                                                                                                                                                                                      SI                       427   \n",
              "\n",
              "                                                                                                                                                                                                                                     CUMPLE_CON_NO3  \\\n",
              "CUMPLE_CON_ALC CUMPLE_CON_COND CUMPLE_CON_SDT_ra CUMPLE_CON_SDT_salin CUMPLE_CON_FLUO CUMPLE_CON_DUR CUMPLE_CON_CF CUMPLE_CON_NO3 CUMPLE_CON_AS CUMPLE_CON_CD CUMPLE_CON_CR CUMPLE_CON_HG CUMPLE_CON_PB CUMPLE_CON_MN CUMPLE_CON_FE                   \n",
              "ND             SI              SI                SI                   NO              SI             SI            SI             SI            SI            SI            SI            SI            SI            SI                          1   \n",
              "                                                                      SI              SI             SI            NO             SI            SI            SI            SI            SI            SI            SI                          1   \n",
              "                                                                                                                   SI             SI            SI            SI            SI            SI            SI            SI                          2   \n",
              "NO             ND              NO                NO                   SI              NO             SI            SI             SI            SI            SI            SI            SI            NO            NO                          1   \n",
              "                               SI                SI                   NO              SI             SI            SI             NO            SI            SI            SI            SI            SI            SI                          1   \n",
              "...                                                                                                                                                                                                                                             ...   \n",
              "SI             SI              SI                SI                   SI              SI             SI            SI             SI            SI            SI            SI            NO            SI            SI                          3   \n",
              "                                                                                                                                                                                          SI            NO            NO                         16   \n",
              "                                                                                                                                                                                                                      SI                         24   \n",
              "                                                                                                                                                                                                        SI            NO                         27   \n",
              "                                                                                                                                                                                                                      SI                        427   \n",
              "\n",
              "                                                                                                                                                                                                                                     CUMPLE_CON_AS  \\\n",
              "CUMPLE_CON_ALC CUMPLE_CON_COND CUMPLE_CON_SDT_ra CUMPLE_CON_SDT_salin CUMPLE_CON_FLUO CUMPLE_CON_DUR CUMPLE_CON_CF CUMPLE_CON_NO3 CUMPLE_CON_AS CUMPLE_CON_CD CUMPLE_CON_CR CUMPLE_CON_HG CUMPLE_CON_PB CUMPLE_CON_MN CUMPLE_CON_FE                  \n",
              "ND             SI              SI                SI                   NO              SI             SI            SI             SI            SI            SI            SI            SI            SI            SI                         1   \n",
              "                                                                      SI              SI             SI            NO             SI            SI            SI            SI            SI            SI            SI                         1   \n",
              "                                                                                                                   SI             SI            SI            SI            SI            SI            SI            SI                         2   \n",
              "NO             ND              NO                NO                   SI              NO             SI            SI             SI            SI            SI            SI            SI            NO            NO                         1   \n",
              "                               SI                SI                   NO              SI             SI            SI             NO            SI            SI            SI            SI            SI            SI                         1   \n",
              "...                                                                                                                                                                                                                                            ...   \n",
              "SI             SI              SI                SI                   SI              SI             SI            SI             SI            SI            SI            SI            NO            SI            SI                         3   \n",
              "                                                                                                                                                                                          SI            NO            NO                        16   \n",
              "                                                                                                                                                                                                                      SI                        24   \n",
              "                                                                                                                                                                                                        SI            NO                        27   \n",
              "                                                                                                                                                                                                                      SI                       427   \n",
              "\n",
              "                                                                                                                                                                                                                                     CUMPLE_CON_CD  \\\n",
              "CUMPLE_CON_ALC CUMPLE_CON_COND CUMPLE_CON_SDT_ra CUMPLE_CON_SDT_salin CUMPLE_CON_FLUO CUMPLE_CON_DUR CUMPLE_CON_CF CUMPLE_CON_NO3 CUMPLE_CON_AS CUMPLE_CON_CD CUMPLE_CON_CR CUMPLE_CON_HG CUMPLE_CON_PB CUMPLE_CON_MN CUMPLE_CON_FE                  \n",
              "ND             SI              SI                SI                   NO              SI             SI            SI             SI            SI            SI            SI            SI            SI            SI                         1   \n",
              "                                                                      SI              SI             SI            NO             SI            SI            SI            SI            SI            SI            SI                         1   \n",
              "                                                                                                                   SI             SI            SI            SI            SI            SI            SI            SI                         2   \n",
              "NO             ND              NO                NO                   SI              NO             SI            SI             SI            SI            SI            SI            SI            NO            NO                         1   \n",
              "                               SI                SI                   NO              SI             SI            SI             NO            SI            SI            SI            SI            SI            SI                         1   \n",
              "...                                                                                                                                                                                                                                            ...   \n",
              "SI             SI              SI                SI                   SI              SI             SI            SI             SI            SI            SI            SI            NO            SI            SI                         3   \n",
              "                                                                                                                                                                                          SI            NO            NO                        16   \n",
              "                                                                                                                                                                                                                      SI                        24   \n",
              "                                                                                                                                                                                                        SI            NO                        27   \n",
              "                                                                                                                                                                                                                      SI                       427   \n",
              "\n",
              "                                                                                                                                                                                                                                     CUMPLE_CON_CR  \\\n",
              "CUMPLE_CON_ALC CUMPLE_CON_COND CUMPLE_CON_SDT_ra CUMPLE_CON_SDT_salin CUMPLE_CON_FLUO CUMPLE_CON_DUR CUMPLE_CON_CF CUMPLE_CON_NO3 CUMPLE_CON_AS CUMPLE_CON_CD CUMPLE_CON_CR CUMPLE_CON_HG CUMPLE_CON_PB CUMPLE_CON_MN CUMPLE_CON_FE                  \n",
              "ND             SI              SI                SI                   NO              SI             SI            SI             SI            SI            SI            SI            SI            SI            SI                         1   \n",
              "                                                                      SI              SI             SI            NO             SI            SI            SI            SI            SI            SI            SI                         1   \n",
              "                                                                                                                   SI             SI            SI            SI            SI            SI            SI            SI                         2   \n",
              "NO             ND              NO                NO                   SI              NO             SI            SI             SI            SI            SI            SI            SI            NO            NO                         1   \n",
              "                               SI                SI                   NO              SI             SI            SI             NO            SI            SI            SI            SI            SI            SI                         1   \n",
              "...                                                                                                                                                                                                                                            ...   \n",
              "SI             SI              SI                SI                   SI              SI             SI            SI             SI            SI            SI            SI            NO            SI            SI                         3   \n",
              "                                                                                                                                                                                          SI            NO            NO                        16   \n",
              "                                                                                                                                                                                                                      SI                        24   \n",
              "                                                                                                                                                                                                        SI            NO                        27   \n",
              "                                                                                                                                                                                                                      SI                       427   \n",
              "\n",
              "                                                                                                                                                                                                                                     CUMPLE_CON_HG  \\\n",
              "CUMPLE_CON_ALC CUMPLE_CON_COND CUMPLE_CON_SDT_ra CUMPLE_CON_SDT_salin CUMPLE_CON_FLUO CUMPLE_CON_DUR CUMPLE_CON_CF CUMPLE_CON_NO3 CUMPLE_CON_AS CUMPLE_CON_CD CUMPLE_CON_CR CUMPLE_CON_HG CUMPLE_CON_PB CUMPLE_CON_MN CUMPLE_CON_FE                  \n",
              "ND             SI              SI                SI                   NO              SI             SI            SI             SI            SI            SI            SI            SI            SI            SI                         1   \n",
              "                                                                      SI              SI             SI            NO             SI            SI            SI            SI            SI            SI            SI                         1   \n",
              "                                                                                                                   SI             SI            SI            SI            SI            SI            SI            SI                         2   \n",
              "NO             ND              NO                NO                   SI              NO             SI            SI             SI            SI            SI            SI            SI            NO            NO                         1   \n",
              "                               SI                SI                   NO              SI             SI            SI             NO            SI            SI            SI            SI            SI            SI                         1   \n",
              "...                                                                                                                                                                                                                                            ...   \n",
              "SI             SI              SI                SI                   SI              SI             SI            SI             SI            SI            SI            SI            NO            SI            SI                         3   \n",
              "                                                                                                                                                                                          SI            NO            NO                        16   \n",
              "                                                                                                                                                                                                                      SI                        24   \n",
              "                                                                                                                                                                                                        SI            NO                        27   \n",
              "                                                                                                                                                                                                                      SI                       427   \n",
              "\n",
              "                                                                                                                                                                                                                                     CUMPLE_CON_PB  \\\n",
              "CUMPLE_CON_ALC CUMPLE_CON_COND CUMPLE_CON_SDT_ra CUMPLE_CON_SDT_salin CUMPLE_CON_FLUO CUMPLE_CON_DUR CUMPLE_CON_CF CUMPLE_CON_NO3 CUMPLE_CON_AS CUMPLE_CON_CD CUMPLE_CON_CR CUMPLE_CON_HG CUMPLE_CON_PB CUMPLE_CON_MN CUMPLE_CON_FE                  \n",
              "ND             SI              SI                SI                   NO              SI             SI            SI             SI            SI            SI            SI            SI            SI            SI                         1   \n",
              "                                                                      SI              SI             SI            NO             SI            SI            SI            SI            SI            SI            SI                         1   \n",
              "                                                                                                                   SI             SI            SI            SI            SI            SI            SI            SI                         2   \n",
              "NO             ND              NO                NO                   SI              NO             SI            SI             SI            SI            SI            SI            SI            NO            NO                         1   \n",
              "                               SI                SI                   NO              SI             SI            SI             NO            SI            SI            SI            SI            SI            SI                         1   \n",
              "...                                                                                                                                                                                                                                            ...   \n",
              "SI             SI              SI                SI                   SI              SI             SI            SI             SI            SI            SI            SI            NO            SI            SI                         3   \n",
              "                                                                                                                                                                                          SI            NO            NO                        16   \n",
              "                                                                                                                                                                                                                      SI                        24   \n",
              "                                                                                                                                                                                                        SI            NO                        27   \n",
              "                                                                                                                                                                                                                      SI                       427   \n",
              "\n",
              "                                                                                                                                                                                                                                     CUMPLE_CON_MN  \\\n",
              "CUMPLE_CON_ALC CUMPLE_CON_COND CUMPLE_CON_SDT_ra CUMPLE_CON_SDT_salin CUMPLE_CON_FLUO CUMPLE_CON_DUR CUMPLE_CON_CF CUMPLE_CON_NO3 CUMPLE_CON_AS CUMPLE_CON_CD CUMPLE_CON_CR CUMPLE_CON_HG CUMPLE_CON_PB CUMPLE_CON_MN CUMPLE_CON_FE                  \n",
              "ND             SI              SI                SI                   NO              SI             SI            SI             SI            SI            SI            SI            SI            SI            SI                         1   \n",
              "                                                                      SI              SI             SI            NO             SI            SI            SI            SI            SI            SI            SI                         1   \n",
              "                                                                                                                   SI             SI            SI            SI            SI            SI            SI            SI                         2   \n",
              "NO             ND              NO                NO                   SI              NO             SI            SI             SI            SI            SI            SI            SI            NO            NO                         1   \n",
              "                               SI                SI                   NO              SI             SI            SI             NO            SI            SI            SI            SI            SI            SI                         1   \n",
              "...                                                                                                                                                                                                                                            ...   \n",
              "SI             SI              SI                SI                   SI              SI             SI            SI             SI            SI            SI            SI            NO            SI            SI                         3   \n",
              "                                                                                                                                                                                          SI            NO            NO                        16   \n",
              "                                                                                                                                                                                                                      SI                        24   \n",
              "                                                                                                                                                                                                        SI            NO                        27   \n",
              "                                                                                                                                                                                                                      SI                       427   \n",
              "\n",
              "                                                                                                                                                                                                                                     CUMPLE_CON_FE  \n",
              "CUMPLE_CON_ALC CUMPLE_CON_COND CUMPLE_CON_SDT_ra CUMPLE_CON_SDT_salin CUMPLE_CON_FLUO CUMPLE_CON_DUR CUMPLE_CON_CF CUMPLE_CON_NO3 CUMPLE_CON_AS CUMPLE_CON_CD CUMPLE_CON_CR CUMPLE_CON_HG CUMPLE_CON_PB CUMPLE_CON_MN CUMPLE_CON_FE                 \n",
              "ND             SI              SI                SI                   NO              SI             SI            SI             SI            SI            SI            SI            SI            SI            SI                         1  \n",
              "                                                                      SI              SI             SI            NO             SI            SI            SI            SI            SI            SI            SI                         1  \n",
              "                                                                                                                   SI             SI            SI            SI            SI            SI            SI            SI                         2  \n",
              "NO             ND              NO                NO                   SI              NO             SI            SI             SI            SI            SI            SI            SI            NO            NO                         1  \n",
              "                               SI                SI                   NO              SI             SI            SI             NO            SI            SI            SI            SI            SI            SI                         1  \n",
              "...                                                                                                                                                                                                                                            ...  \n",
              "SI             SI              SI                SI                   SI              SI             SI            SI             SI            SI            SI            SI            NO            SI            SI                         3  \n",
              "                                                                                                                                                                                          SI            NO            NO                        16  \n",
              "                                                                                                                                                                                                                      SI                        24  \n",
              "                                                                                                                                                                                                        SI            NO                        27  \n",
              "                                                                                                                                                                                                                      SI                       427  \n",
              "\n",
              "[135 rows x 15 columns]"
            ],
            "text/html": [
              "\n",
              "  <div id=\"df-46dd8808-f6cf-47d2-b696-b5025ecfad15\">\n",
              "    <div class=\"colab-df-container\">\n",
              "      <div>\n",
              "<style scoped>\n",
              "    .dataframe tbody tr th:only-of-type {\n",
              "        vertical-align: middle;\n",
              "    }\n",
              "\n",
              "    .dataframe tbody tr th {\n",
              "        vertical-align: top;\n",
              "    }\n",
              "\n",
              "    .dataframe thead th {\n",
              "        text-align: right;\n",
              "    }\n",
              "</style>\n",
              "<table border=\"1\" class=\"dataframe\">\n",
              "  <thead>\n",
              "    <tr style=\"text-align: right;\">\n",
              "      <th></th>\n",
              "      <th></th>\n",
              "      <th></th>\n",
              "      <th></th>\n",
              "      <th></th>\n",
              "      <th></th>\n",
              "      <th></th>\n",
              "      <th></th>\n",
              "      <th></th>\n",
              "      <th></th>\n",
              "      <th></th>\n",
              "      <th></th>\n",
              "      <th></th>\n",
              "      <th></th>\n",
              "      <th></th>\n",
              "      <th>CUMPLE_CON_ALC</th>\n",
              "      <th>CUMPLE_CON_COND</th>\n",
              "      <th>CUMPLE_CON_SDT_ra</th>\n",
              "      <th>CUMPLE_CON_SDT_salin</th>\n",
              "      <th>CUMPLE_CON_FLUO</th>\n",
              "      <th>CUMPLE_CON_DUR</th>\n",
              "      <th>CUMPLE_CON_CF</th>\n",
              "      <th>CUMPLE_CON_NO3</th>\n",
              "      <th>CUMPLE_CON_AS</th>\n",
              "      <th>CUMPLE_CON_CD</th>\n",
              "      <th>CUMPLE_CON_CR</th>\n",
              "      <th>CUMPLE_CON_HG</th>\n",
              "      <th>CUMPLE_CON_PB</th>\n",
              "      <th>CUMPLE_CON_MN</th>\n",
              "      <th>CUMPLE_CON_FE</th>\n",
              "    </tr>\n",
              "    <tr>\n",
              "      <th>CUMPLE_CON_ALC</th>\n",
              "      <th>CUMPLE_CON_COND</th>\n",
              "      <th>CUMPLE_CON_SDT_ra</th>\n",
              "      <th>CUMPLE_CON_SDT_salin</th>\n",
              "      <th>CUMPLE_CON_FLUO</th>\n",
              "      <th>CUMPLE_CON_DUR</th>\n",
              "      <th>CUMPLE_CON_CF</th>\n",
              "      <th>CUMPLE_CON_NO3</th>\n",
              "      <th>CUMPLE_CON_AS</th>\n",
              "      <th>CUMPLE_CON_CD</th>\n",
              "      <th>CUMPLE_CON_CR</th>\n",
              "      <th>CUMPLE_CON_HG</th>\n",
              "      <th>CUMPLE_CON_PB</th>\n",
              "      <th>CUMPLE_CON_MN</th>\n",
              "      <th>CUMPLE_CON_FE</th>\n",
              "      <th></th>\n",
              "      <th></th>\n",
              "      <th></th>\n",
              "      <th></th>\n",
              "      <th></th>\n",
              "      <th></th>\n",
              "      <th></th>\n",
              "      <th></th>\n",
              "      <th></th>\n",
              "      <th></th>\n",
              "      <th></th>\n",
              "      <th></th>\n",
              "      <th></th>\n",
              "      <th></th>\n",
              "      <th></th>\n",
              "    </tr>\n",
              "  </thead>\n",
              "  <tbody>\n",
              "    <tr>\n",
              "      <th rowspan=\"3\" valign=\"top\">ND</th>\n",
              "      <th rowspan=\"3\" valign=\"top\">SI</th>\n",
              "      <th rowspan=\"3\" valign=\"top\">SI</th>\n",
              "      <th rowspan=\"3\" valign=\"top\">SI</th>\n",
              "      <th>NO</th>\n",
              "      <th>SI</th>\n",
              "      <th>SI</th>\n",
              "      <th>SI</th>\n",
              "      <th>SI</th>\n",
              "      <th>SI</th>\n",
              "      <th>SI</th>\n",
              "      <th>SI</th>\n",
              "      <th>SI</th>\n",
              "      <th>SI</th>\n",
              "      <th>SI</th>\n",
              "      <td>1</td>\n",
              "      <td>1</td>\n",
              "      <td>1</td>\n",
              "      <td>1</td>\n",
              "      <td>1</td>\n",
              "      <td>1</td>\n",
              "      <td>1</td>\n",
              "      <td>1</td>\n",
              "      <td>1</td>\n",
              "      <td>1</td>\n",
              "      <td>1</td>\n",
              "      <td>1</td>\n",
              "      <td>1</td>\n",
              "      <td>1</td>\n",
              "      <td>1</td>\n",
              "    </tr>\n",
              "    <tr>\n",
              "      <th rowspan=\"2\" valign=\"top\">SI</th>\n",
              "      <th rowspan=\"2\" valign=\"top\">SI</th>\n",
              "      <th rowspan=\"2\" valign=\"top\">SI</th>\n",
              "      <th>NO</th>\n",
              "      <th>SI</th>\n",
              "      <th>SI</th>\n",
              "      <th>SI</th>\n",
              "      <th>SI</th>\n",
              "      <th>SI</th>\n",
              "      <th>SI</th>\n",
              "      <th>SI</th>\n",
              "      <td>1</td>\n",
              "      <td>1</td>\n",
              "      <td>1</td>\n",
              "      <td>1</td>\n",
              "      <td>1</td>\n",
              "      <td>1</td>\n",
              "      <td>1</td>\n",
              "      <td>1</td>\n",
              "      <td>1</td>\n",
              "      <td>1</td>\n",
              "      <td>1</td>\n",
              "      <td>1</td>\n",
              "      <td>1</td>\n",
              "      <td>1</td>\n",
              "      <td>1</td>\n",
              "    </tr>\n",
              "    <tr>\n",
              "      <th>SI</th>\n",
              "      <th>SI</th>\n",
              "      <th>SI</th>\n",
              "      <th>SI</th>\n",
              "      <th>SI</th>\n",
              "      <th>SI</th>\n",
              "      <th>SI</th>\n",
              "      <th>SI</th>\n",
              "      <td>2</td>\n",
              "      <td>2</td>\n",
              "      <td>2</td>\n",
              "      <td>2</td>\n",
              "      <td>2</td>\n",
              "      <td>2</td>\n",
              "      <td>2</td>\n",
              "      <td>2</td>\n",
              "      <td>2</td>\n",
              "      <td>2</td>\n",
              "      <td>2</td>\n",
              "      <td>2</td>\n",
              "      <td>2</td>\n",
              "      <td>2</td>\n",
              "      <td>2</td>\n",
              "    </tr>\n",
              "    <tr>\n",
              "      <th rowspan=\"2\" valign=\"top\">NO</th>\n",
              "      <th rowspan=\"2\" valign=\"top\">ND</th>\n",
              "      <th>NO</th>\n",
              "      <th>NO</th>\n",
              "      <th>SI</th>\n",
              "      <th>NO</th>\n",
              "      <th>SI</th>\n",
              "      <th>SI</th>\n",
              "      <th>SI</th>\n",
              "      <th>SI</th>\n",
              "      <th>SI</th>\n",
              "      <th>SI</th>\n",
              "      <th>SI</th>\n",
              "      <th>NO</th>\n",
              "      <th>NO</th>\n",
              "      <td>1</td>\n",
              "      <td>1</td>\n",
              "      <td>1</td>\n",
              "      <td>1</td>\n",
              "      <td>1</td>\n",
              "      <td>1</td>\n",
              "      <td>1</td>\n",
              "      <td>1</td>\n",
              "      <td>1</td>\n",
              "      <td>1</td>\n",
              "      <td>1</td>\n",
              "      <td>1</td>\n",
              "      <td>1</td>\n",
              "      <td>1</td>\n",
              "      <td>1</td>\n",
              "    </tr>\n",
              "    <tr>\n",
              "      <th>SI</th>\n",
              "      <th>SI</th>\n",
              "      <th>NO</th>\n",
              "      <th>SI</th>\n",
              "      <th>SI</th>\n",
              "      <th>SI</th>\n",
              "      <th>NO</th>\n",
              "      <th>SI</th>\n",
              "      <th>SI</th>\n",
              "      <th>SI</th>\n",
              "      <th>SI</th>\n",
              "      <th>SI</th>\n",
              "      <th>SI</th>\n",
              "      <td>1</td>\n",
              "      <td>1</td>\n",
              "      <td>1</td>\n",
              "      <td>1</td>\n",
              "      <td>1</td>\n",
              "      <td>1</td>\n",
              "      <td>1</td>\n",
              "      <td>1</td>\n",
              "      <td>1</td>\n",
              "      <td>1</td>\n",
              "      <td>1</td>\n",
              "      <td>1</td>\n",
              "      <td>1</td>\n",
              "      <td>1</td>\n",
              "      <td>1</td>\n",
              "    </tr>\n",
              "    <tr>\n",
              "      <th>...</th>\n",
              "      <th>...</th>\n",
              "      <th>...</th>\n",
              "      <th>...</th>\n",
              "      <th>...</th>\n",
              "      <th>...</th>\n",
              "      <th>...</th>\n",
              "      <th>...</th>\n",
              "      <th>...</th>\n",
              "      <th>...</th>\n",
              "      <th>...</th>\n",
              "      <th>...</th>\n",
              "      <th>...</th>\n",
              "      <th>...</th>\n",
              "      <th>...</th>\n",
              "      <td>...</td>\n",
              "      <td>...</td>\n",
              "      <td>...</td>\n",
              "      <td>...</td>\n",
              "      <td>...</td>\n",
              "      <td>...</td>\n",
              "      <td>...</td>\n",
              "      <td>...</td>\n",
              "      <td>...</td>\n",
              "      <td>...</td>\n",
              "      <td>...</td>\n",
              "      <td>...</td>\n",
              "      <td>...</td>\n",
              "      <td>...</td>\n",
              "      <td>...</td>\n",
              "    </tr>\n",
              "    <tr>\n",
              "      <th rowspan=\"5\" valign=\"top\">SI</th>\n",
              "      <th rowspan=\"5\" valign=\"top\">SI</th>\n",
              "      <th rowspan=\"5\" valign=\"top\">SI</th>\n",
              "      <th rowspan=\"5\" valign=\"top\">SI</th>\n",
              "      <th rowspan=\"5\" valign=\"top\">SI</th>\n",
              "      <th rowspan=\"5\" valign=\"top\">SI</th>\n",
              "      <th rowspan=\"5\" valign=\"top\">SI</th>\n",
              "      <th rowspan=\"5\" valign=\"top\">SI</th>\n",
              "      <th rowspan=\"5\" valign=\"top\">SI</th>\n",
              "      <th rowspan=\"5\" valign=\"top\">SI</th>\n",
              "      <th rowspan=\"5\" valign=\"top\">SI</th>\n",
              "      <th rowspan=\"5\" valign=\"top\">SI</th>\n",
              "      <th>NO</th>\n",
              "      <th>SI</th>\n",
              "      <th>SI</th>\n",
              "      <td>3</td>\n",
              "      <td>3</td>\n",
              "      <td>3</td>\n",
              "      <td>3</td>\n",
              "      <td>3</td>\n",
              "      <td>3</td>\n",
              "      <td>3</td>\n",
              "      <td>3</td>\n",
              "      <td>3</td>\n",
              "      <td>3</td>\n",
              "      <td>3</td>\n",
              "      <td>3</td>\n",
              "      <td>3</td>\n",
              "      <td>3</td>\n",
              "      <td>3</td>\n",
              "    </tr>\n",
              "    <tr>\n",
              "      <th rowspan=\"4\" valign=\"top\">SI</th>\n",
              "      <th rowspan=\"2\" valign=\"top\">NO</th>\n",
              "      <th>NO</th>\n",
              "      <td>16</td>\n",
              "      <td>16</td>\n",
              "      <td>16</td>\n",
              "      <td>16</td>\n",
              "      <td>16</td>\n",
              "      <td>16</td>\n",
              "      <td>16</td>\n",
              "      <td>16</td>\n",
              "      <td>16</td>\n",
              "      <td>16</td>\n",
              "      <td>16</td>\n",
              "      <td>16</td>\n",
              "      <td>16</td>\n",
              "      <td>16</td>\n",
              "      <td>16</td>\n",
              "    </tr>\n",
              "    <tr>\n",
              "      <th>SI</th>\n",
              "      <td>24</td>\n",
              "      <td>24</td>\n",
              "      <td>24</td>\n",
              "      <td>24</td>\n",
              "      <td>24</td>\n",
              "      <td>24</td>\n",
              "      <td>24</td>\n",
              "      <td>24</td>\n",
              "      <td>24</td>\n",
              "      <td>24</td>\n",
              "      <td>24</td>\n",
              "      <td>24</td>\n",
              "      <td>24</td>\n",
              "      <td>24</td>\n",
              "      <td>24</td>\n",
              "    </tr>\n",
              "    <tr>\n",
              "      <th rowspan=\"2\" valign=\"top\">SI</th>\n",
              "      <th>NO</th>\n",
              "      <td>27</td>\n",
              "      <td>27</td>\n",
              "      <td>27</td>\n",
              "      <td>27</td>\n",
              "      <td>27</td>\n",
              "      <td>27</td>\n",
              "      <td>27</td>\n",
              "      <td>27</td>\n",
              "      <td>27</td>\n",
              "      <td>27</td>\n",
              "      <td>27</td>\n",
              "      <td>27</td>\n",
              "      <td>27</td>\n",
              "      <td>27</td>\n",
              "      <td>27</td>\n",
              "    </tr>\n",
              "    <tr>\n",
              "      <th>SI</th>\n",
              "      <td>427</td>\n",
              "      <td>427</td>\n",
              "      <td>427</td>\n",
              "      <td>427</td>\n",
              "      <td>427</td>\n",
              "      <td>427</td>\n",
              "      <td>427</td>\n",
              "      <td>427</td>\n",
              "      <td>427</td>\n",
              "      <td>427</td>\n",
              "      <td>427</td>\n",
              "      <td>427</td>\n",
              "      <td>427</td>\n",
              "      <td>427</td>\n",
              "      <td>427</td>\n",
              "    </tr>\n",
              "  </tbody>\n",
              "</table>\n",
              "<p>135 rows × 15 columns</p>\n",
              "</div>\n",
              "      <button class=\"colab-df-convert\" onclick=\"convertToInteractive('df-46dd8808-f6cf-47d2-b696-b5025ecfad15')\"\n",
              "              title=\"Convert this dataframe to an interactive table.\"\n",
              "              style=\"display:none;\">\n",
              "        \n",
              "  <svg xmlns=\"http://www.w3.org/2000/svg\" height=\"24px\"viewBox=\"0 0 24 24\"\n",
              "       width=\"24px\">\n",
              "    <path d=\"M0 0h24v24H0V0z\" fill=\"none\"/>\n",
              "    <path d=\"M18.56 5.44l.94 2.06.94-2.06 2.06-.94-2.06-.94-.94-2.06-.94 2.06-2.06.94zm-11 1L8.5 8.5l.94-2.06 2.06-.94-2.06-.94L8.5 2.5l-.94 2.06-2.06.94zm10 10l.94 2.06.94-2.06 2.06-.94-2.06-.94-.94-2.06-.94 2.06-2.06.94z\"/><path d=\"M17.41 7.96l-1.37-1.37c-.4-.4-.92-.59-1.43-.59-.52 0-1.04.2-1.43.59L10.3 9.45l-7.72 7.72c-.78.78-.78 2.05 0 2.83L4 21.41c.39.39.9.59 1.41.59.51 0 1.02-.2 1.41-.59l7.78-7.78 2.81-2.81c.8-.78.8-2.07 0-2.86zM5.41 20L4 18.59l7.72-7.72 1.47 1.35L5.41 20z\"/>\n",
              "  </svg>\n",
              "      </button>\n",
              "      \n",
              "  <style>\n",
              "    .colab-df-container {\n",
              "      display:flex;\n",
              "      flex-wrap:wrap;\n",
              "      gap: 12px;\n",
              "    }\n",
              "\n",
              "    .colab-df-convert {\n",
              "      background-color: #E8F0FE;\n",
              "      border: none;\n",
              "      border-radius: 50%;\n",
              "      cursor: pointer;\n",
              "      display: none;\n",
              "      fill: #1967D2;\n",
              "      height: 32px;\n",
              "      padding: 0 0 0 0;\n",
              "      width: 32px;\n",
              "    }\n",
              "\n",
              "    .colab-df-convert:hover {\n",
              "      background-color: #E2EBFA;\n",
              "      box-shadow: 0px 1px 2px rgba(60, 64, 67, 0.3), 0px 1px 3px 1px rgba(60, 64, 67, 0.15);\n",
              "      fill: #174EA6;\n",
              "    }\n",
              "\n",
              "    [theme=dark] .colab-df-convert {\n",
              "      background-color: #3B4455;\n",
              "      fill: #D2E3FC;\n",
              "    }\n",
              "\n",
              "    [theme=dark] .colab-df-convert:hover {\n",
              "      background-color: #434B5C;\n",
              "      box-shadow: 0px 1px 3px 1px rgba(0, 0, 0, 0.15);\n",
              "      filter: drop-shadow(0px 1px 2px rgba(0, 0, 0, 0.3));\n",
              "      fill: #FFFFFF;\n",
              "    }\n",
              "  </style>\n",
              "\n",
              "      <script>\n",
              "        const buttonEl =\n",
              "          document.querySelector('#df-46dd8808-f6cf-47d2-b696-b5025ecfad15 button.colab-df-convert');\n",
              "        buttonEl.style.display =\n",
              "          google.colab.kernel.accessAllowed ? 'block' : 'none';\n",
              "\n",
              "        async function convertToInteractive(key) {\n",
              "          const element = document.querySelector('#df-46dd8808-f6cf-47d2-b696-b5025ecfad15');\n",
              "          const dataTable =\n",
              "            await google.colab.kernel.invokeFunction('convertToInteractive',\n",
              "                                                     [key], {});\n",
              "          if (!dataTable) return;\n",
              "\n",
              "          const docLinkHtml = 'Like what you see? Visit the ' +\n",
              "            '<a target=\"_blank\" href=https://colab.research.google.com/notebooks/data_table.ipynb>data table notebook</a>'\n",
              "            + ' to learn more about interactive tables.';\n",
              "          element.innerHTML = '';\n",
              "          dataTable['output_type'] = 'display_data';\n",
              "          await google.colab.output.renderOutput(dataTable, element);\n",
              "          const docLink = document.createElement('div');\n",
              "          docLink.innerHTML = docLinkHtml;\n",
              "          element.appendChild(docLink);\n",
              "        }\n",
              "      </script>\n",
              "    </div>\n",
              "  </div>\n",
              "  "
            ]
          },
          "metadata": {},
          "execution_count": 48
        }
      ]
    },
    {
      "cell_type": "markdown",
      "source": [
        "\n",
        "\n",
        "---\n",
        "\n",
        "🔎 Como podemos observar, en algunas columnas consideradas binarias (\"SI\" o \"NO\") existen celdas con valor **\"ND\"**, por lo cual debemos proceder ajustando estos valores antes de realizar el cambio del tipo de columna. Vamos a verificar el número de ocurrencias de ND por cada columna binaria y de no ser muy grande, simplemente asumiremos esos valores como **\"NO\"** en el conjunto de datos.\n",
        "\n",
        "---\n",
        "\n"
      ],
      "metadata": {
        "id": "YiXIqB3OT4Jm"
      }
    },
    {
      "cell_type": "code",
      "source": [
        "#Creamos el dataframe \"dfbin\" solo con las columnas binarias del conjunto de datos original.\n",
        "dfbin = dfAguasSubterraneas[ColumnasBinarias]\n",
        "\n",
        "#Creamos una lista para almacenar todos los valores \"ND\" que encontramos en las columnas del nuevo dataframe\n",
        "list_bi = list()\n",
        "for col in range(len(dfbin)):\n",
        "  for fil in dfbin.iloc[col]:\n",
        "     tem=str(fil)\n",
        "     if(tem==\"ND\"):\n",
        "        #Asignamos el valor \"ND\" encontrado a la lista.\n",
        "        list_bi.append(fil)  \n",
        "\n",
        "#Convertimos todos los valores de la lista a 'str'\n",
        "list_bi_final=list(map(str,list_bi))\n",
        "#Ordenamos la lista en forma descendente\n",
        "list_bi_final.sort(reverse=True)\n",
        "print(\"*********************************************************************************************************\")\n",
        "print(\"Las siguientes son ocurrencias de 'ND' encontradas en columnas que deberían ser binarias:\")\n",
        "print(\"*********************************************************************************************************\")\n",
        "collections.Counter(list_bi_final)"
      ],
      "metadata": {
        "colab": {
          "base_uri": "https://localhost:8080/"
        },
        "id": "Wct9GOYsUgFG",
        "outputId": "45aa2056-cda0-4220-9eea-e93110508883"
      },
      "execution_count": 49,
      "outputs": [
        {
          "output_type": "stream",
          "name": "stdout",
          "text": [
            "*********************************************************************************************************\n",
            "Las siguientes son ocurrencias de 'ND' encontradas en columnas que deberían ser binarias:\n",
            "*********************************************************************************************************\n"
          ]
        },
        {
          "output_type": "execute_result",
          "data": {
            "text/plain": [
              "Counter({'ND': 16})"
            ]
          },
          "metadata": {},
          "execution_count": 49
        }
      ]
    },
    {
      "cell_type": "markdown",
      "source": [
        "\n",
        "---\n",
        "\n",
        "👓 Teniendo en cuenta que son solo **16** celdas con valor **ND**, procederemos a ajustar los registros a **NO** para estas coincidencias.\n",
        "\n",
        "---\n"
      ],
      "metadata": {
        "id": "7QP0cuWiVDRf"
      }
    },
    {
      "cell_type": "code",
      "source": [
        "#Recorremos las columnas categóricas identificadas previamente y ajustamos el tipo de dato a \"category\" en el dataframe original.\n",
        "for Columna in ColumnasCategoricas:\n",
        "  dfAguasSubterraneas[Columna]= dfAguasSubterraneas[Columna].astype('category')\n",
        "\n",
        "#Recorremos las columnas identificadas como binarias y reemplazamos los valores \"SI\" y \"NO\" o \"ND\" por \"1\" y \"0\" respectivamente.\n",
        "#Posteriormente ajustamos el tipo de dato a \"float\" en el dataframe original.\n",
        "for Columna in ColumnasBinarias:\n",
        "  dfAguasSubterraneas[Columna]= dfAguasSubterraneas[Columna].str.replace('SI','1')\n",
        "  dfAguasSubterraneas[Columna]= dfAguasSubterraneas[Columna].str.replace('NO','0')\n",
        "  dfAguasSubterraneas[Columna]= dfAguasSubterraneas[Columna].str.replace('ND','0')\n",
        "\n",
        "  #Cambiamos el tipo de dato a numérico\n",
        "  dfAguasSubterraneas[Columna]= dfAguasSubterraneas[Columna].astype('float')\n",
        "\n",
        "#Verificamos como quedaron los tipos de dato en el dataframe\n",
        "dfAguasSubterraneas.info()"
      ],
      "metadata": {
        "colab": {
          "base_uri": "https://localhost:8080/"
        },
        "id": "sNeAoH_0OgiA",
        "outputId": "333375b6-a571-4bb6-e3ef-f30850235c2d"
      },
      "execution_count": 50,
      "outputs": [
        {
          "output_type": "stream",
          "name": "stdout",
          "text": [
            "<class 'pandas.core.frame.DataFrame'>\n",
            "RangeIndex: 1068 entries, 0 to 1067\n",
            "Data columns (total 48 columns):\n",
            " #   Column                Non-Null Count  Dtype   \n",
            "---  ------                --------------  -----   \n",
            " 0   LONGITUD              1068 non-null   float64 \n",
            " 1   LATITUD               1068 non-null   float64 \n",
            " 2   PERIODO               1068 non-null   int64   \n",
            " 3   ALC_mg/L              1064 non-null   float64 \n",
            " 4   CALIDAD_ALC           1064 non-null   category\n",
            " 5   CONDUCT_mS/cm         1062 non-null   float64 \n",
            " 6   CALIDAD_CONDUC        1062 non-null   category\n",
            " 7   SDT_M_mg/L            1066 non-null   float64 \n",
            " 8   CALIDAD_SDT_ra        1066 non-null   category\n",
            " 9   CALIDAD_SDT_salin     1066 non-null   category\n",
            " 10  FLUORUROS_mg/L        1068 non-null   float64 \n",
            " 11  CALIDAD_FLUO          1068 non-null   category\n",
            " 12  DUR_mg/L              1067 non-null   float64 \n",
            " 13  CALIDAD_DUR           1067 non-null   category\n",
            " 14  COLI_FEC_NMP/100_mL   1068 non-null   float64 \n",
            " 15  CALIDAD_COLI_FEC      1068 non-null   category\n",
            " 16  N_NO3_mg/L            1067 non-null   float64 \n",
            " 17  CALIDAD_N_NO3         1067 non-null   category\n",
            " 18  AS_TOT_mg/L           1068 non-null   float64 \n",
            " 19  CALIDAD_AS            1068 non-null   category\n",
            " 20  CD_TOT_mg/L           1068 non-null   float64 \n",
            " 21  CALIDAD_CD            1068 non-null   category\n",
            " 22  CR_TOT_mg/L           1068 non-null   float64 \n",
            " 23  CALIDAD_CR            1068 non-null   category\n",
            " 24  HG_TOT_mg/L           1068 non-null   float64 \n",
            " 25  CALIDAD_HG            1068 non-null   category\n",
            " 26  PB_TOT_mg/L           1068 non-null   float64 \n",
            " 27  CALIDAD_PB            1068 non-null   category\n",
            " 28  MN_TOT_mg/L           1068 non-null   float64 \n",
            " 29  CALIDAD_MN            1068 non-null   category\n",
            " 30  FE_TOT_mg/L           1068 non-null   float64 \n",
            " 31  CALIDAD_FE            1068 non-null   category\n",
            " 32  SEMAFORO              1068 non-null   object  \n",
            " 33  CUMPLE_CON_ALC        1068 non-null   float64 \n",
            " 34  CUMPLE_CON_COND       1068 non-null   float64 \n",
            " 35  CUMPLE_CON_SDT_ra     1068 non-null   float64 \n",
            " 36  CUMPLE_CON_SDT_salin  1068 non-null   float64 \n",
            " 37  CUMPLE_CON_FLUO       1068 non-null   float64 \n",
            " 38  CUMPLE_CON_DUR        1068 non-null   float64 \n",
            " 39  CUMPLE_CON_CF         1068 non-null   float64 \n",
            " 40  CUMPLE_CON_NO3        1068 non-null   float64 \n",
            " 41  CUMPLE_CON_AS         1068 non-null   float64 \n",
            " 42  CUMPLE_CON_CD         1068 non-null   float64 \n",
            " 43  CUMPLE_CON_CR         1068 non-null   float64 \n",
            " 44  CUMPLE_CON_HG         1068 non-null   float64 \n",
            " 45  CUMPLE_CON_PB         1068 non-null   float64 \n",
            " 46  CUMPLE_CON_MN         1068 non-null   float64 \n",
            " 47  CUMPLE_CON_FE         1068 non-null   float64 \n",
            "dtypes: category(15), float64(31), int64(1), object(1)\n",
            "memory usage: 293.5+ KB\n"
          ]
        }
      ]
    },
    {
      "cell_type": "markdown",
      "source": [
        "---\n",
        "\n",
        "\n",
        "**PARA TENER EN CUENTA:** Hasta este punto hemos eliminado las columnas que no tendrán incidencia en nuestro modelo, identificado los datos perdidos, corregidos los valores en las columnas que deben tener datos numéricos y ajustados los tipos de datos para las columnas (numéricas, categóricas y binarias) de acuerdo al análisis inicial de nuestro conjunto.\n",
        "\n",
        "---"
      ],
      "metadata": {
        "id": "7mQFAi1SVwe9"
      }
    },
    {
      "cell_type": "markdown",
      "source": [
        "🔎  Como pudimos validar previamente, existen **14** ocurrencias con valores **nan** para las columnas con tipo de dato numérico, validaremos cuales son las columnas que presentan este comportamiento y teniendo en cuenta que son pocos datos con este patrón, procederemos a realizar una imputación con la mediana de las columnas.\n",
        "\n",
        "---"
      ],
      "metadata": {
        "id": "KAPNt8_u7G8W"
      }
    },
    {
      "cell_type": "code",
      "source": [
        "#Verificamos para las columnas numéricas cuantos valores \"na\" tiene cada una de estas.\n",
        "dfnum[dfnum.columns[dfnum.isna().any()]].isna().sum()"
      ],
      "metadata": {
        "colab": {
          "base_uri": "https://localhost:8080/"
        },
        "id": "vmyNkY0Q6Trw",
        "outputId": "0d74bf84-0ff1-4d51-ead6-f6e5324c8e15"
      },
      "execution_count": 51,
      "outputs": [
        {
          "output_type": "execute_result",
          "data": {
            "text/plain": [
              "ALC_mg/L         4\n",
              "CONDUCT_mS/cm    6\n",
              "SDT_M_mg/L       2\n",
              "DUR_mg/L         1\n",
              "N_NO3_mg/L       1\n",
              "dtype: int64"
            ]
          },
          "metadata": {},
          "execution_count": 51
        }
      ]
    },
    {
      "cell_type": "markdown",
      "source": [
        "---\n",
        "\n",
        "📊 Para seleccionar el tipo de dato con el que imputaremos los valores perdidos, validaremos inicialmente la distribución de los datos numéricos, de tal forma que podamos verificar si existe algún sesgo.\n",
        "\n",
        "---"
      ],
      "metadata": {
        "id": "Ul8HIxRyUEMi"
      }
    },
    {
      "cell_type": "code",
      "source": [
        "#Actualizamos nuestro dataframe de columnas numéricas con el conjunto actualizado para visualizar la distribución de las columnas.\n",
        "dfnum = dfAguasSubterraneas[ColumnasNumericas]\n",
        "#Graficamos la distribución de las columnas numéricas\n",
        "dfnum.hist(bins = 60, figsize=(20,30))"
      ],
      "metadata": {
        "colab": {
          "base_uri": "https://localhost:8080/",
          "height": 1000
        },
        "id": "Eu1ZlBYRUF4i",
        "outputId": "0a3cef97-63bc-4fe9-dc76-4dc5724e3291"
      },
      "execution_count": 52,
      "outputs": [
        {
          "output_type": "execute_result",
          "data": {
            "text/plain": [
              "array([[<matplotlib.axes._subplots.AxesSubplot object at 0x7f111c1c73d0>,\n",
              "        <matplotlib.axes._subplots.AxesSubplot object at 0x7f111c1cc190>,\n",
              "        <matplotlib.axes._subplots.AxesSubplot object at 0x7f111c1c4190>,\n",
              "        <matplotlib.axes._subplots.AxesSubplot object at 0x7f11184798d0>],\n",
              "       [<matplotlib.axes._subplots.AxesSubplot object at 0x7f1118427dd0>,\n",
              "        <matplotlib.axes._subplots.AxesSubplot object at 0x7f11183e5310>,\n",
              "        <matplotlib.axes._subplots.AxesSubplot object at 0x7f1118399890>,\n",
              "        <matplotlib.axes._subplots.AxesSubplot object at 0x7f111834bcd0>],\n",
              "       [<matplotlib.axes._subplots.AxesSubplot object at 0x7f111834bd10>,\n",
              "        <matplotlib.axes._subplots.AxesSubplot object at 0x7f111830a350>,\n",
              "        <matplotlib.axes._subplots.AxesSubplot object at 0x7f11182f3a10>,\n",
              "        <matplotlib.axes._subplots.AxesSubplot object at 0x7f11182a7f10>],\n",
              "       [<matplotlib.axes._subplots.AxesSubplot object at 0x7f1118266450>,\n",
              "        <matplotlib.axes._subplots.AxesSubplot object at 0x7f1118219950>,\n",
              "        <matplotlib.axes._subplots.AxesSubplot object at 0x7f11181cde50>,\n",
              "        <matplotlib.axes._subplots.AxesSubplot object at 0x7f111818c390>]],\n",
              "      dtype=object)"
            ]
          },
          "metadata": {},
          "execution_count": 52
        },
        {
          "output_type": "display_data",
          "data": {
            "text/plain": [
              "<Figure size 1440x2160 with 16 Axes>"
            ],
            "image/png": "[encoded data removed]"
          },
          "metadata": {
            "needs_background": "light"
          }
        }
      ]
    },
    {
      "cell_type": "markdown",
      "source": [
        "---\n",
        "\n",
        "☝ Analizando las gráficas, encontramos que todas las columnas presentan un sesgo hacía la derecha, por lo cual, la **mediana** será nuestra mejor opción para imputar los datos perdidos en las columnas de tipo numérico.\n",
        "\n",
        "---"
      ],
      "metadata": {
        "id": "J7zGKo-_UoRn"
      }
    },
    {
      "cell_type": "code",
      "source": [
        "#Recorremos las columnas numéricas del dataframe y reemplazamos \"nan\" con la mediana de la columna\n",
        "for Columna in dfnum.columns:\n",
        "  dfAguasSubterraneas[Columna]= dfAguasSubterraneas[Columna].replace(np.nan, dfAguasSubterraneas[Columna].median())\n",
        "\n",
        "#Validamos las columnas que continuan con datos perdidos, solo deberían aparecer las que no son tipo numéricas.\n",
        "dfAguasSubterraneas[dfAguasSubterraneas.columns[dfAguasSubterraneas.isna().any()]].isna().sum()"
      ],
      "metadata": {
        "colab": {
          "base_uri": "https://localhost:8080/"
        },
        "id": "cPiD3f2u-NRN",
        "outputId": "f0b3a3c6-98bc-464b-9dce-0f647578952b"
      },
      "execution_count": 53,
      "outputs": [
        {
          "output_type": "execute_result",
          "data": {
            "text/plain": [
              "CALIDAD_ALC          4\n",
              "CALIDAD_CONDUC       6\n",
              "CALIDAD_SDT_ra       2\n",
              "CALIDAD_SDT_salin    2\n",
              "CALIDAD_DUR          1\n",
              "CALIDAD_N_NO3        1\n",
              "dtype: int64"
            ]
          },
          "metadata": {},
          "execution_count": 53
        }
      ]
    },
    {
      "cell_type": "markdown",
      "source": [
        "---\n",
        "\n",
        "🔎 Como podemos observar, solo tenemos **16** ocurrencias con valor **nan** para las columnas categóricas, por lo cual, realizaremos la imputación de la moda para los datos perdidos en estas columnas.\n",
        "\n",
        "---"
      ],
      "metadata": {
        "id": "IyZiDBbgBjR6"
      }
    },
    {
      "cell_type": "code",
      "source": [
        "#Recorremos las columnas categóricas del dataframe y reemplazamos \"nan\" con la moda de la columna\n",
        "for Columna in ColumnasCategoricas:\n",
        "  #Recorremos las columnas numéricas del dataframe y reemplazamos \"nan\" con la moda de la columna\n",
        "  dfAguasSubterraneas[Columna]= dfAguasSubterraneas[Columna].fillna(dfAguasSubterraneas[Columna].mode()[0])\n",
        "\n",
        "#Validamos las columnas que continuan con datos perdidos, no deberían columnas con datos perdidos.\n",
        "dfAguasSubterraneas[dfAguasSubterraneas.columns[dfAguasSubterraneas.isna().any()]].isna().sum()"
      ],
      "metadata": {
        "colab": {
          "base_uri": "https://localhost:8080/"
        },
        "id": "XwkBv94wAT6S",
        "outputId": "ade17c58-40e5-49eb-8255-d93e9f50e1fe"
      },
      "execution_count": 54,
      "outputs": [
        {
          "output_type": "execute_result",
          "data": {
            "text/plain": [
              "Series([], dtype: float64)"
            ]
          },
          "metadata": {},
          "execution_count": 54
        }
      ]
    },
    {
      "cell_type": "markdown",
      "source": [
        "---\n",
        "\n",
        "🔍 Verificamos el porcentaje de datos perdidos por columna para estar seguros que ya superamos esa parte de la limpieza.\n",
        "\n",
        "---"
      ],
      "metadata": {
        "id": "RQ0u_m2lG5l_"
      }
    },
    {
      "cell_type": "code",
      "source": [
        "#Obtenemos el porcentaje de datos perdidos para todas las columnas de nuestro dataframe.\n",
        "Porcentaje_Perdidos = dfAguasSubterraneas.isna().sum() * 100 / len(dfAguasSubterraneas)\n",
        "Porcentaje_Perdidos.sort_values(ascending=False)"
      ],
      "metadata": {
        "colab": {
          "base_uri": "https://localhost:8080/"
        },
        "id": "SYgaVoB7G6mP",
        "outputId": "5635aaab-6746-493f-ec10-d668dfc9b9e5"
      },
      "execution_count": 55,
      "outputs": [
        {
          "output_type": "execute_result",
          "data": {
            "text/plain": [
              "LONGITUD                0.0\n",
              "LATITUD                 0.0\n",
              "PB_TOT_mg/L             0.0\n",
              "CALIDAD_PB              0.0\n",
              "MN_TOT_mg/L             0.0\n",
              "CALIDAD_MN              0.0\n",
              "FE_TOT_mg/L             0.0\n",
              "CALIDAD_FE              0.0\n",
              "SEMAFORO                0.0\n",
              "CUMPLE_CON_ALC          0.0\n",
              "CUMPLE_CON_COND         0.0\n",
              "CUMPLE_CON_SDT_ra       0.0\n",
              "CUMPLE_CON_SDT_salin    0.0\n",
              "CUMPLE_CON_FLUO         0.0\n",
              "CUMPLE_CON_DUR          0.0\n",
              "CUMPLE_CON_CF           0.0\n",
              "CUMPLE_CON_NO3          0.0\n",
              "CUMPLE_CON_AS           0.0\n",
              "CUMPLE_CON_CD           0.0\n",
              "CUMPLE_CON_CR           0.0\n",
              "CUMPLE_CON_HG           0.0\n",
              "CUMPLE_CON_PB           0.0\n",
              "CUMPLE_CON_MN           0.0\n",
              "CALIDAD_HG              0.0\n",
              "HG_TOT_mg/L             0.0\n",
              "CALIDAD_CR              0.0\n",
              "CALIDAD_FLUO            0.0\n",
              "PERIODO                 0.0\n",
              "ALC_mg/L                0.0\n",
              "CALIDAD_ALC             0.0\n",
              "CONDUCT_mS/cm           0.0\n",
              "CALIDAD_CONDUC          0.0\n",
              "SDT_M_mg/L              0.0\n",
              "CALIDAD_SDT_ra          0.0\n",
              "CALIDAD_SDT_salin       0.0\n",
              "FLUORUROS_mg/L          0.0\n",
              "DUR_mg/L                0.0\n",
              "CR_TOT_mg/L             0.0\n",
              "CALIDAD_DUR             0.0\n",
              "COLI_FEC_NMP/100_mL     0.0\n",
              "CALIDAD_COLI_FEC        0.0\n",
              "N_NO3_mg/L              0.0\n",
              "CALIDAD_N_NO3           0.0\n",
              "AS_TOT_mg/L             0.0\n",
              "CALIDAD_AS              0.0\n",
              "CD_TOT_mg/L             0.0\n",
              "CALIDAD_CD              0.0\n",
              "CUMPLE_CON_FE           0.0\n",
              "dtype: float64"
            ]
          },
          "metadata": {},
          "execution_count": 55
        }
      ]
    },
    {
      "cell_type": "markdown",
      "source": [
        "---\n",
        "\n",
        "📈 Una vez imputados los datos perdidos en nuestro conjunto de datos, procedemos a verificar si se requiere escalamiento, analizando para ello las estadísticas de nuestras columnas numéricas.\n",
        "\n",
        "---"
      ],
      "metadata": {
        "id": "j40yf-C0Xexg"
      }
    },
    {
      "cell_type": "code",
      "source": [
        "#Ejecutamos un \"describe\" para verificar los valores estadísticos de nuestro conjunto y lo transponemos para un mejor análisis.\n",
        "dfAguasSubterraneas.describe().T"
      ],
      "metadata": {
        "colab": {
          "base_uri": "https://localhost:8080/",
          "height": 1000
        },
        "id": "BbZXSlIjYNu3",
        "outputId": "2d6c4929-efda-4c47-a214-6e51cbb58fbf"
      },
      "execution_count": 56,
      "outputs": [
        {
          "output_type": "execute_result",
          "data": {
            "text/plain": [
              "                       count         mean          std         min  \\\n",
              "LONGITUD              1068.0  -101.891007     6.703263  -116.66425   \n",
              "LATITUD               1068.0    23.163618     3.887670    14.56115   \n",
              "PERIODO               1068.0  2020.000000     0.000000  2020.00000   \n",
              "ALC_mg/L              1068.0   235.558455   116.661485    26.64000   \n",
              "CONDUCT_mS/cm         1068.0  1137.133052  1242.292889    50.40000   \n",
              "SDT_M_mg/L            1068.0   895.454185  2748.991295    25.00000   \n",
              "FLUORUROS_mg/L        1068.0     1.075600     1.924278     0.20000   \n",
              "DUR_mg/L              1068.0   347.842003   359.514579    20.00000   \n",
              "COLI_FEC_NMP/100_mL   1068.0   355.490356  2052.457014     1.10000   \n",
              "N_NO3_mg/L            1068.0     4.317663     8.341504     0.02000   \n",
              "AS_TOT_mg/L           1068.0     0.019618     0.035209     0.01000   \n",
              "CD_TOT_mg/L           1068.0     0.003030     0.000894     0.00300   \n",
              "CR_TOT_mg/L           1068.0     0.013276     0.154391     0.00500   \n",
              "HG_TOT_mg/L           1068.0     0.000557     0.000467     0.00050   \n",
              "PB_TOT_mg/L           1068.0     0.005282     0.003254     0.00500   \n",
              "MN_TOT_mg/L           1068.0     0.072478     0.376512     0.00150   \n",
              "FE_TOT_mg/L           1068.0     0.410387     5.537974     0.02500   \n",
              "CUMPLE_CON_ALC        1068.0     0.941011     0.235714     0.00000   \n",
              "CUMPLE_CON_COND       1068.0     0.879213     0.326032     0.00000   \n",
              "CUMPLE_CON_SDT_ra     1068.0     0.931648     0.252467     0.00000   \n",
              "CUMPLE_CON_SDT_salin  1068.0     0.931648     0.252467     0.00000   \n",
              "CUMPLE_CON_FLUO       1068.0     0.820225     0.384180     0.00000   \n",
              "CUMPLE_CON_DUR        1068.0     0.787453     0.409301     0.00000   \n",
              "CUMPLE_CON_CF         1068.0     0.942884     0.232173     0.00000   \n",
              "CUMPLE_CON_NO3        1068.0     0.922285     0.267849     0.00000   \n",
              "CUMPLE_CON_AS         1068.0     0.881086     0.323839     0.00000   \n",
              "CUMPLE_CON_CD         1068.0     0.998127     0.043254     0.00000   \n",
              "CUMPLE_CON_CR         1068.0     0.985955     0.117731     0.00000   \n",
              "CUMPLE_CON_HG         1068.0     0.999064     0.030600     0.00000   \n",
              "CUMPLE_CON_PB         1068.0     0.988764     0.105452     0.00000   \n",
              "CUMPLE_CON_MN         1068.0     0.919476     0.272231     0.00000   \n",
              "CUMPLE_CON_FE         1068.0     0.872659     0.333511     0.00000   \n",
              "\n",
              "                              25%          50%          75%           max  \n",
              "LONGITUD              -105.388865  -102.174180   -98.974716    -86.864120  \n",
              "LATITUD                 20.212055    22.617190    25.510285     32.677713  \n",
              "PERIODO               2020.000000  2020.000000  2020.000000   2020.000000  \n",
              "ALC_mg/L               164.048750   215.527500   292.423750   1650.000000  \n",
              "CONDUCT_mS/cm          505.500000   815.000000  1321.250000  18577.000000  \n",
              "SDT_M_mg/L             337.700000   550.400000   915.900000  82170.000000  \n",
              "FLUORUROS_mg/L           0.267175     0.503500     1.139850     34.803300  \n",
              "DUR_mg/L               121.274100   245.335800   453.930000   3810.692200  \n",
              "COLI_FEC_NMP/100_mL      1.100000     1.100000    13.250000  24196.000000  \n",
              "N_NO3_mg/L               0.650932     2.080932     5.200047    121.007813  \n",
              "AS_TOT_mg/L              0.010000     0.010000     0.010000      0.452200  \n",
              "CD_TOT_mg/L              0.003000     0.003000     0.003000      0.032110  \n",
              "CR_TOT_mg/L              0.005000     0.005000     0.005000      5.003200  \n",
              "HG_TOT_mg/L              0.000500     0.000500     0.000500      0.014150  \n",
              "PB_TOT_mg/L              0.005000     0.005000     0.005000      0.080900  \n",
              "MN_TOT_mg/L              0.001500     0.001500     0.009947      8.982000  \n",
              "FE_TOT_mg/L              0.025000     0.046960     0.173380    178.615000  \n",
              "CUMPLE_CON_ALC           1.000000     1.000000     1.000000      1.000000  \n",
              "CUMPLE_CON_COND          1.000000     1.000000     1.000000      1.000000  \n",
              "CUMPLE_CON_SDT_ra        1.000000     1.000000     1.000000      1.000000  \n",
              "CUMPLE_CON_SDT_salin     1.000000     1.000000     1.000000      1.000000  \n",
              "CUMPLE_CON_FLUO          1.000000     1.000000     1.000000      1.000000  \n",
              "CUMPLE_CON_DUR           1.000000     1.000000     1.000000      1.000000  \n",
              "CUMPLE_CON_CF            1.000000     1.000000     1.000000      1.000000  \n",
              "CUMPLE_CON_NO3           1.000000     1.000000     1.000000      1.000000  \n",
              "CUMPLE_CON_AS            1.000000     1.000000     1.000000      1.000000  \n",
              "CUMPLE_CON_CD            1.000000     1.000000     1.000000      1.000000  \n",
              "CUMPLE_CON_CR            1.000000     1.000000     1.000000      1.000000  \n",
              "CUMPLE_CON_HG            1.000000     1.000000     1.000000      1.000000  \n",
              "CUMPLE_CON_PB            1.000000     1.000000     1.000000      1.000000  \n",
              "CUMPLE_CON_MN            1.000000     1.000000     1.000000      1.000000  \n",
              "CUMPLE_CON_FE            1.000000     1.000000     1.000000      1.000000  "
            ],
            "text/html": [
              "\n",
              "  <div id=\"df-90ae6d7e-45bc-4d20-af8c-de109c21ada2\">\n",
              "    <div class=\"colab-df-container\">\n",
              "      <div>\n",
              "<style scoped>\n",
              "    .dataframe tbody tr th:only-of-type {\n",
              "        vertical-align: middle;\n",
              "    }\n",
              "\n",
              "    .dataframe tbody tr th {\n",
              "        vertical-align: top;\n",
              "    }\n",
              "\n",
              "    .dataframe thead th {\n",
              "        text-align: right;\n",
              "    }\n",
              "</style>\n",
              "<table border=\"1\" class=\"dataframe\">\n",
              "  <thead>\n",
              "    <tr style=\"text-align: right;\">\n",
              "      <th></th>\n",
              "      <th>count</th>\n",
              "      <th>mean</th>\n",
              "      <th>std</th>\n",
              "      <th>min</th>\n",
              "      <th>25%</th>\n",
              "      <th>50%</th>\n",
              "      <th>75%</th>\n",
              "      <th>max</th>\n",
              "    </tr>\n",
              "  </thead>\n",
              "  <tbody>\n",
              "    <tr>\n",
              "      <th>LONGITUD</th>\n",
              "      <td>1068.0</td>\n",
              "      <td>-101.891007</td>\n",
              "      <td>6.703263</td>\n",
              "      <td>-116.66425</td>\n",
              "      <td>-105.388865</td>\n",
              "      <td>-102.174180</td>\n",
              "      <td>-98.974716</td>\n",
              "      <td>-86.864120</td>\n",
              "    </tr>\n",
              "    <tr>\n",
              "      <th>LATITUD</th>\n",
              "      <td>1068.0</td>\n",
              "      <td>23.163618</td>\n",
              "      <td>3.887670</td>\n",
              "      <td>14.56115</td>\n",
              "      <td>20.212055</td>\n",
              "      <td>22.617190</td>\n",
              "      <td>25.510285</td>\n",
              "      <td>32.677713</td>\n",
              "    </tr>\n",
              "    <tr>\n",
              "      <th>PERIODO</th>\n",
              "      <td>1068.0</td>\n",
              "      <td>2020.000000</td>\n",
              "      <td>0.000000</td>\n",
              "      <td>2020.00000</td>\n",
              "      <td>2020.000000</td>\n",
              "      <td>2020.000000</td>\n",
              "      <td>2020.000000</td>\n",
              "      <td>2020.000000</td>\n",
              "    </tr>\n",
              "    <tr>\n",
              "      <th>ALC_mg/L</th>\n",
              "      <td>1068.0</td>\n",
              "      <td>235.558455</td>\n",
              "      <td>116.661485</td>\n",
              "      <td>26.64000</td>\n",
              "      <td>164.048750</td>\n",
              "      <td>215.527500</td>\n",
              "      <td>292.423750</td>\n",
              "      <td>1650.000000</td>\n",
              "    </tr>\n",
              "    <tr>\n",
              "      <th>CONDUCT_mS/cm</th>\n",
              "      <td>1068.0</td>\n",
              "      <td>1137.133052</td>\n",
              "      <td>1242.292889</td>\n",
              "      <td>50.40000</td>\n",
              "      <td>505.500000</td>\n",
              "      <td>815.000000</td>\n",
              "      <td>1321.250000</td>\n",
              "      <td>18577.000000</td>\n",
              "    </tr>\n",
              "    <tr>\n",
              "      <th>SDT_M_mg/L</th>\n",
              "      <td>1068.0</td>\n",
              "      <td>895.454185</td>\n",
              "      <td>2748.991295</td>\n",
              "      <td>25.00000</td>\n",
              "      <td>337.700000</td>\n",
              "      <td>550.400000</td>\n",
              "      <td>915.900000</td>\n",
              "      <td>82170.000000</td>\n",
              "    </tr>\n",
              "    <tr>\n",
              "      <th>FLUORUROS_mg/L</th>\n",
              "      <td>1068.0</td>\n",
              "      <td>1.075600</td>\n",
              "      <td>1.924278</td>\n",
              "      <td>0.20000</td>\n",
              "      <td>0.267175</td>\n",
              "      <td>0.503500</td>\n",
              "      <td>1.139850</td>\n",
              "      <td>34.803300</td>\n",
              "    </tr>\n",
              "    <tr>\n",
              "      <th>DUR_mg/L</th>\n",
              "      <td>1068.0</td>\n",
              "      <td>347.842003</td>\n",
              "      <td>359.514579</td>\n",
              "      <td>20.00000</td>\n",
              "      <td>121.274100</td>\n",
              "      <td>245.335800</td>\n",
              "      <td>453.930000</td>\n",
              "      <td>3810.692200</td>\n",
              "    </tr>\n",
              "    <tr>\n",
              "      <th>COLI_FEC_NMP/100_mL</th>\n",
              "      <td>1068.0</td>\n",
              "      <td>355.490356</td>\n",
              "      <td>2052.457014</td>\n",
              "      <td>1.10000</td>\n",
              "      <td>1.100000</td>\n",
              "      <td>1.100000</td>\n",
              "      <td>13.250000</td>\n",
              "      <td>24196.000000</td>\n",
              "    </tr>\n",
              "    <tr>\n",
              "      <th>N_NO3_mg/L</th>\n",
              "      <td>1068.0</td>\n",
              "      <td>4.317663</td>\n",
              "      <td>8.341504</td>\n",
              "      <td>0.02000</td>\n",
              "      <td>0.650932</td>\n",
              "      <td>2.080932</td>\n",
              "      <td>5.200047</td>\n",
              "      <td>121.007813</td>\n",
              "    </tr>\n",
              "    <tr>\n",
              "      <th>AS_TOT_mg/L</th>\n",
              "      <td>1068.0</td>\n",
              "      <td>0.019618</td>\n",
              "      <td>0.035209</td>\n",
              "      <td>0.01000</td>\n",
              "      <td>0.010000</td>\n",
              "      <td>0.010000</td>\n",
              "      <td>0.010000</td>\n",
              "      <td>0.452200</td>\n",
              "    </tr>\n",
              "    <tr>\n",
              "      <th>CD_TOT_mg/L</th>\n",
              "      <td>1068.0</td>\n",
              "      <td>0.003030</td>\n",
              "      <td>0.000894</td>\n",
              "      <td>0.00300</td>\n",
              "      <td>0.003000</td>\n",
              "      <td>0.003000</td>\n",
              "      <td>0.003000</td>\n",
              "      <td>0.032110</td>\n",
              "    </tr>\n",
              "    <tr>\n",
              "      <th>CR_TOT_mg/L</th>\n",
              "      <td>1068.0</td>\n",
              "      <td>0.013276</td>\n",
              "      <td>0.154391</td>\n",
              "      <td>0.00500</td>\n",
              "      <td>0.005000</td>\n",
              "      <td>0.005000</td>\n",
              "      <td>0.005000</td>\n",
              "      <td>5.003200</td>\n",
              "    </tr>\n",
              "    <tr>\n",
              "      <th>HG_TOT_mg/L</th>\n",
              "      <td>1068.0</td>\n",
              "      <td>0.000557</td>\n",
              "      <td>0.000467</td>\n",
              "      <td>0.00050</td>\n",
              "      <td>0.000500</td>\n",
              "      <td>0.000500</td>\n",
              "      <td>0.000500</td>\n",
              "      <td>0.014150</td>\n",
              "    </tr>\n",
              "    <tr>\n",
              "      <th>PB_TOT_mg/L</th>\n",
              "      <td>1068.0</td>\n",
              "      <td>0.005282</td>\n",
              "      <td>0.003254</td>\n",
              "      <td>0.00500</td>\n",
              "      <td>0.005000</td>\n",
              "      <td>0.005000</td>\n",
              "      <td>0.005000</td>\n",
              "      <td>0.080900</td>\n",
              "    </tr>\n",
              "    <tr>\n",
              "      <th>MN_TOT_mg/L</th>\n",
              "      <td>1068.0</td>\n",
              "      <td>0.072478</td>\n",
              "      <td>0.376512</td>\n",
              "      <td>0.00150</td>\n",
              "      <td>0.001500</td>\n",
              "      <td>0.001500</td>\n",
              "      <td>0.009947</td>\n",
              "      <td>8.982000</td>\n",
              "    </tr>\n",
              "    <tr>\n",
              "      <th>FE_TOT_mg/L</th>\n",
              "      <td>1068.0</td>\n",
              "      <td>0.410387</td>\n",
              "      <td>5.537974</td>\n",
              "      <td>0.02500</td>\n",
              "      <td>0.025000</td>\n",
              "      <td>0.046960</td>\n",
              "      <td>0.173380</td>\n",
              "      <td>178.615000</td>\n",
              "    </tr>\n",
              "    <tr>\n",
              "      <th>CUMPLE_CON_ALC</th>\n",
              "      <td>1068.0</td>\n",
              "      <td>0.941011</td>\n",
              "      <td>0.235714</td>\n",
              "      <td>0.00000</td>\n",
              "      <td>1.000000</td>\n",
              "      <td>1.000000</td>\n",
              "      <td>1.000000</td>\n",
              "      <td>1.000000</td>\n",
              "    </tr>\n",
              "    <tr>\n",
              "      <th>CUMPLE_CON_COND</th>\n",
              "      <td>1068.0</td>\n",
              "      <td>0.879213</td>\n",
              "      <td>0.326032</td>\n",
              "      <td>0.00000</td>\n",
              "      <td>1.000000</td>\n",
              "      <td>1.000000</td>\n",
              "      <td>1.000000</td>\n",
              "      <td>1.000000</td>\n",
              "    </tr>\n",
              "    <tr>\n",
              "      <th>CUMPLE_CON_SDT_ra</th>\n",
              "      <td>1068.0</td>\n",
              "      <td>0.931648</td>\n",
              "      <td>0.252467</td>\n",
              "      <td>0.00000</td>\n",
              "      <td>1.000000</td>\n",
              "      <td>1.000000</td>\n",
              "      <td>1.000000</td>\n",
              "      <td>1.000000</td>\n",
              "    </tr>\n",
              "    <tr>\n",
              "      <th>CUMPLE_CON_SDT_salin</th>\n",
              "      <td>1068.0</td>\n",
              "      <td>0.931648</td>\n",
              "      <td>0.252467</td>\n",
              "      <td>0.00000</td>\n",
              "      <td>1.000000</td>\n",
              "      <td>1.000000</td>\n",
              "      <td>1.000000</td>\n",
              "      <td>1.000000</td>\n",
              "    </tr>\n",
              "    <tr>\n",
              "      <th>CUMPLE_CON_FLUO</th>\n",
              "      <td>1068.0</td>\n",
              "      <td>0.820225</td>\n",
              "      <td>0.384180</td>\n",
              "      <td>0.00000</td>\n",
              "      <td>1.000000</td>\n",
              "      <td>1.000000</td>\n",
              "      <td>1.000000</td>\n",
              "      <td>1.000000</td>\n",
              "    </tr>\n",
              "    <tr>\n",
              "      <th>CUMPLE_CON_DUR</th>\n",
              "      <td>1068.0</td>\n",
              "      <td>0.787453</td>\n",
              "      <td>0.409301</td>\n",
              "      <td>0.00000</td>\n",
              "      <td>1.000000</td>\n",
              "      <td>1.000000</td>\n",
              "      <td>1.000000</td>\n",
              "      <td>1.000000</td>\n",
              "    </tr>\n",
              "    <tr>\n",
              "      <th>CUMPLE_CON_CF</th>\n",
              "      <td>1068.0</td>\n",
              "      <td>0.942884</td>\n",
              "      <td>0.232173</td>\n",
              "      <td>0.00000</td>\n",
              "      <td>1.000000</td>\n",
              "      <td>1.000000</td>\n",
              "      <td>1.000000</td>\n",
              "      <td>1.000000</td>\n",
              "    </tr>\n",
              "    <tr>\n",
              "      <th>CUMPLE_CON_NO3</th>\n",
              "      <td>1068.0</td>\n",
              "      <td>0.922285</td>\n",
              "      <td>0.267849</td>\n",
              "      <td>0.00000</td>\n",
              "      <td>1.000000</td>\n",
              "      <td>1.000000</td>\n",
              "      <td>1.000000</td>\n",
              "      <td>1.000000</td>\n",
              "    </tr>\n",
              "    <tr>\n",
              "      <th>CUMPLE_CON_AS</th>\n",
              "      <td>1068.0</td>\n",
              "      <td>0.881086</td>\n",
              "      <td>0.323839</td>\n",
              "      <td>0.00000</td>\n",
              "      <td>1.000000</td>\n",
              "      <td>1.000000</td>\n",
              "      <td>1.000000</td>\n",
              "      <td>1.000000</td>\n",
              "    </tr>\n",
              "    <tr>\n",
              "      <th>CUMPLE_CON_CD</th>\n",
              "      <td>1068.0</td>\n",
              "      <td>0.998127</td>\n",
              "      <td>0.043254</td>\n",
              "      <td>0.00000</td>\n",
              "      <td>1.000000</td>\n",
              "      <td>1.000000</td>\n",
              "      <td>1.000000</td>\n",
              "      <td>1.000000</td>\n",
              "    </tr>\n",
              "    <tr>\n",
              "      <th>CUMPLE_CON_CR</th>\n",
              "      <td>1068.0</td>\n",
              "      <td>0.985955</td>\n",
              "      <td>0.117731</td>\n",
              "      <td>0.00000</td>\n",
              "      <td>1.000000</td>\n",
              "      <td>1.000000</td>\n",
              "      <td>1.000000</td>\n",
              "      <td>1.000000</td>\n",
              "    </tr>\n",
              "    <tr>\n",
              "      <th>CUMPLE_CON_HG</th>\n",
              "      <td>1068.0</td>\n",
              "      <td>0.999064</td>\n",
              "      <td>0.030600</td>\n",
              "      <td>0.00000</td>\n",
              "      <td>1.000000</td>\n",
              "      <td>1.000000</td>\n",
              "      <td>1.000000</td>\n",
              "      <td>1.000000</td>\n",
              "    </tr>\n",
              "    <tr>\n",
              "      <th>CUMPLE_CON_PB</th>\n",
              "      <td>1068.0</td>\n",
              "      <td>0.988764</td>\n",
              "      <td>0.105452</td>\n",
              "      <td>0.00000</td>\n",
              "      <td>1.000000</td>\n",
              "      <td>1.000000</td>\n",
              "      <td>1.000000</td>\n",
              "      <td>1.000000</td>\n",
              "    </tr>\n",
              "    <tr>\n",
              "      <th>CUMPLE_CON_MN</th>\n",
              "      <td>1068.0</td>\n",
              "      <td>0.919476</td>\n",
              "      <td>0.272231</td>\n",
              "      <td>0.00000</td>\n",
              "      <td>1.000000</td>\n",
              "      <td>1.000000</td>\n",
              "      <td>1.000000</td>\n",
              "      <td>1.000000</td>\n",
              "    </tr>\n",
              "    <tr>\n",
              "      <th>CUMPLE_CON_FE</th>\n",
              "      <td>1068.0</td>\n",
              "      <td>0.872659</td>\n",
              "      <td>0.333511</td>\n",
              "      <td>0.00000</td>\n",
              "      <td>1.000000</td>\n",
              "      <td>1.000000</td>\n",
              "      <td>1.000000</td>\n",
              "      <td>1.000000</td>\n",
              "    </tr>\n",
              "  </tbody>\n",
              "</table>\n",
              "</div>\n",
              "      <button class=\"colab-df-convert\" onclick=\"convertToInteractive('df-90ae6d7e-45bc-4d20-af8c-de109c21ada2')\"\n",
              "              title=\"Convert this dataframe to an interactive table.\"\n",
              "              style=\"display:none;\">\n",
              "        \n",
              "  <svg xmlns=\"http://www.w3.org/2000/svg\" height=\"24px\"viewBox=\"0 0 24 24\"\n",
              "       width=\"24px\">\n",
              "    <path d=\"M0 0h24v24H0V0z\" fill=\"none\"/>\n",
              "    <path d=\"M18.56 5.44l.94 2.06.94-2.06 2.06-.94-2.06-.94-.94-2.06-.94 2.06-2.06.94zm-11 1L8.5 8.5l.94-2.06 2.06-.94-2.06-.94L8.5 2.5l-.94 2.06-2.06.94zm10 10l.94 2.06.94-2.06 2.06-.94-2.06-.94-.94-2.06-.94 2.06-2.06.94z\"/><path d=\"M17.41 7.96l-1.37-1.37c-.4-.4-.92-.59-1.43-.59-.52 0-1.04.2-1.43.59L10.3 9.45l-7.72 7.72c-.78.78-.78 2.05 0 2.83L4 21.41c.39.39.9.59 1.41.59.51 0 1.02-.2 1.41-.59l7.78-7.78 2.81-2.81c.8-.78.8-2.07 0-2.86zM5.41 20L4 18.59l7.72-7.72 1.47 1.35L5.41 20z\"/>\n",
              "  </svg>\n",
              "      </button>\n",
              "      \n",
              "  <style>\n",
              "    .colab-df-container {\n",
              "      display:flex;\n",
              "      flex-wrap:wrap;\n",
              "      gap: 12px;\n",
              "    }\n",
              "\n",
              "    .colab-df-convert {\n",
              "      background-color: #E8F0FE;\n",
              "      border: none;\n",
              "      border-radius: 50%;\n",
              "      cursor: pointer;\n",
              "      display: none;\n",
              "      fill: #1967D2;\n",
              "      height: 32px;\n",
              "      padding: 0 0 0 0;\n",
              "      width: 32px;\n",
              "    }\n",
              "\n",
              "    .colab-df-convert:hover {\n",
              "      background-color: #E2EBFA;\n",
              "      box-shadow: 0px 1px 2px rgba(60, 64, 67, 0.3), 0px 1px 3px 1px rgba(60, 64, 67, 0.15);\n",
              "      fill: #174EA6;\n",
              "    }\n",
              "\n",
              "    [theme=dark] .colab-df-convert {\n",
              "      background-color: #3B4455;\n",
              "      fill: #D2E3FC;\n",
              "    }\n",
              "\n",
              "    [theme=dark] .colab-df-convert:hover {\n",
              "      background-color: #434B5C;\n",
              "      box-shadow: 0px 1px 3px 1px rgba(0, 0, 0, 0.15);\n",
              "      filter: drop-shadow(0px 1px 2px rgba(0, 0, 0, 0.3));\n",
              "      fill: #FFFFFF;\n",
              "    }\n",
              "  </style>\n",
              "\n",
              "      <script>\n",
              "        const buttonEl =\n",
              "          document.querySelector('#df-90ae6d7e-45bc-4d20-af8c-de109c21ada2 button.colab-df-convert');\n",
              "        buttonEl.style.display =\n",
              "          google.colab.kernel.accessAllowed ? 'block' : 'none';\n",
              "\n",
              "        async function convertToInteractive(key) {\n",
              "          const element = document.querySelector('#df-90ae6d7e-45bc-4d20-af8c-de109c21ada2');\n",
              "          const dataTable =\n",
              "            await google.colab.kernel.invokeFunction('convertToInteractive',\n",
              "                                                     [key], {});\n",
              "          if (!dataTable) return;\n",
              "\n",
              "          const docLinkHtml = 'Like what you see? Visit the ' +\n",
              "            '<a target=\"_blank\" href=https://colab.research.google.com/notebooks/data_table.ipynb>data table notebook</a>'\n",
              "            + ' to learn more about interactive tables.';\n",
              "          element.innerHTML = '';\n",
              "          dataTable['output_type'] = 'display_data';\n",
              "          await google.colab.output.renderOutput(dataTable, element);\n",
              "          const docLink = document.createElement('div');\n",
              "          docLink.innerHTML = docLinkHtml;\n",
              "          element.appendChild(docLink);\n",
              "        }\n",
              "      </script>\n",
              "    </div>\n",
              "  </div>\n",
              "  "
            ]
          },
          "metadata": {},
          "execution_count": 56
        }
      ]
    },
    {
      "cell_type": "markdown",
      "source": [
        "---\n",
        "\n",
        "\n",
        "🔎 Analizando las estadísticas para las columnas numéricas observamos que los rangos en algunos atributos difieren de una columna a otra, por ejemplo; en la columna **FLUORUROS_mg/L** tiene un mínimo de **0.2** y un máximo de **34.80**, mientras que la columna **SDT_M_mg/L** presenta un mínimo de **25** y un máximo de **82,170**, mostrando una amplia diferencia en el rango de los atributos, lo cual podría generar problemas al ejecutar el modelo, ya que se podrían priorizar de forma erronea las columnas con mayores pesos en sus atributos numéricos. Por lo anterior, consideramos importante escalar los datos numéricos del conjunto. Pero antes de seleccionar el método para escalar validaremos los outliers existentes en nuestros atributos.\n",
        "\n",
        "---"
      ],
      "metadata": {
        "id": "_dowrONItTfI"
      }
    },
    {
      "cell_type": "code",
      "source": [
        "#Generamos nuestro boxplot con los datos del dataframe para revisar los valores atípicos en el conjunto.\n",
        "Atipicos = dfAguasSubterraneas.boxplot(figsize = (25,15),showmeans = True)\n",
        "Atipicos.plot()\n",
        "plt.xticks(rotation=90)\n",
        "plt.show()"
      ],
      "metadata": {
        "colab": {
          "base_uri": "https://localhost:8080/",
          "height": 784
        },
        "id": "WDZzr8tFzwW0",
        "outputId": "26bcf3b2-cda1-4c43-ecfc-34fd375a846e"
      },
      "execution_count": 57,
      "outputs": [
        {
          "output_type": "display_data",
          "data": {
            "text/plain": [
              "<Figure size 1800x1080 with 1 Axes>"
            ],
            "image/png": "[encoded data removed]"
          },
          "metadata": {
            "needs_background": "light"
          }
        }
      ]
    },
    {
      "cell_type": "markdown",
      "source": [
        "---\n",
        "\n",
        "\n",
        "🔎 Observamos que en los atributos **COLI_FEC_NMP/100_mL**, **CONDUCT_mS/cm**, **SDT_mg/L**, **DUR_mg/L** y **ALC_mg/L** se presentan muchos valores atípicos, por lo cual no podríamos seleccionar el método **StandardScaler** para escalar los datos, ya que este no garantiza un escalamiento balanceado de los atributos cuando existen outliers en el conjunto de datos, debido a que los valores atípicos impactan el cálculo de la media y la desviación estándar. Teniendo en cuenta lo anterior, utilizaremos el método **MinMaxScaler** para realizar el escalamiento de los datos en el conjunto.\n",
        "\n",
        "---"
      ],
      "metadata": {
        "id": "iO_dT29P4RB5"
      }
    },
    {
      "cell_type": "markdown",
      "source": [
        "☝**NOTA:** Antes de realizar el escalamiento del conjunto, procederemos a ajustar los datos existentes en las columnas categóricas pasándolos de string a categóricos numéricos, haciendo uso de la técnica \"**Label Encoding**\". Esto con el fin de facilitar la preparación y posterior ejecución de nuestro modelo durante el entrenamiento y afinamiento, ya que como sabemos, a los algoritmos de aprendizaje automático se les facilitará la toma de decisiones cuando trabajan con datos numéricos, gestionando adecuadamente las etiquetas debido a que los números son fácilmente legibles por la maquina."
      ],
      "metadata": {
        "id": "ecpuCRD7XHME"
      }
    },
    {
      "cell_type": "code",
      "source": [
        "#Recorremos las columnas categóricas del dataframe para convertir la columna en categórica numérica.\n",
        "for Columna in ColumnasCategoricas:\n",
        "  #Recorremos las columnas categóricas del dataframe y reemplazamos el valor tipo str actual por el código numérico de la categoria\n",
        "  dfAguasSubterraneas[Columna]= dfAguasSubterraneas[Columna].cat.codes\n",
        "\n",
        "#Validamos las columnas que continuan con datos perdidos, no deberían columnas con datos perdidos.\n",
        "dfAguasSubterraneas.info()"
      ],
      "metadata": {
        "colab": {
          "base_uri": "https://localhost:8080/"
        },
        "id": "u_QrmK_03rd0",
        "outputId": "b72bfa7c-6d06-4f69-fc3a-9985fcbba89d"
      },
      "execution_count": 58,
      "outputs": [
        {
          "output_type": "stream",
          "name": "stdout",
          "text": [
            "<class 'pandas.core.frame.DataFrame'>\n",
            "RangeIndex: 1068 entries, 0 to 1067\n",
            "Data columns (total 48 columns):\n",
            " #   Column                Non-Null Count  Dtype  \n",
            "---  ------                --------------  -----  \n",
            " 0   LONGITUD              1068 non-null   float64\n",
            " 1   LATITUD               1068 non-null   float64\n",
            " 2   PERIODO               1068 non-null   int64  \n",
            " 3   ALC_mg/L              1068 non-null   float64\n",
            " 4   CALIDAD_ALC           1068 non-null   int8   \n",
            " 5   CONDUCT_mS/cm         1068 non-null   float64\n",
            " 6   CALIDAD_CONDUC        1068 non-null   int8   \n",
            " 7   SDT_M_mg/L            1068 non-null   float64\n",
            " 8   CALIDAD_SDT_ra        1068 non-null   int8   \n",
            " 9   CALIDAD_SDT_salin     1068 non-null   int8   \n",
            " 10  FLUORUROS_mg/L        1068 non-null   float64\n",
            " 11  CALIDAD_FLUO          1068 non-null   int8   \n",
            " 12  DUR_mg/L              1068 non-null   float64\n",
            " 13  CALIDAD_DUR           1068 non-null   int8   \n",
            " 14  COLI_FEC_NMP/100_mL   1068 non-null   float64\n",
            " 15  CALIDAD_COLI_FEC      1068 non-null   int8   \n",
            " 16  N_NO3_mg/L            1068 non-null   float64\n",
            " 17  CALIDAD_N_NO3         1068 non-null   int8   \n",
            " 18  AS_TOT_mg/L           1068 non-null   float64\n",
            " 19  CALIDAD_AS            1068 non-null   int8   \n",
            " 20  CD_TOT_mg/L           1068 non-null   float64\n",
            " 21  CALIDAD_CD            1068 non-null   int8   \n",
            " 22  CR_TOT_mg/L           1068 non-null   float64\n",
            " 23  CALIDAD_CR            1068 non-null   int8   \n",
            " 24  HG_TOT_mg/L           1068 non-null   float64\n",
            " 25  CALIDAD_HG            1068 non-null   int8   \n",
            " 26  PB_TOT_mg/L           1068 non-null   float64\n",
            " 27  CALIDAD_PB            1068 non-null   int8   \n",
            " 28  MN_TOT_mg/L           1068 non-null   float64\n",
            " 29  CALIDAD_MN            1068 non-null   int8   \n",
            " 30  FE_TOT_mg/L           1068 non-null   float64\n",
            " 31  CALIDAD_FE            1068 non-null   int8   \n",
            " 32  SEMAFORO              1068 non-null   object \n",
            " 33  CUMPLE_CON_ALC        1068 non-null   float64\n",
            " 34  CUMPLE_CON_COND       1068 non-null   float64\n",
            " 35  CUMPLE_CON_SDT_ra     1068 non-null   float64\n",
            " 36  CUMPLE_CON_SDT_salin  1068 non-null   float64\n",
            " 37  CUMPLE_CON_FLUO       1068 non-null   float64\n",
            " 38  CUMPLE_CON_DUR        1068 non-null   float64\n",
            " 39  CUMPLE_CON_CF         1068 non-null   float64\n",
            " 40  CUMPLE_CON_NO3        1068 non-null   float64\n",
            " 41  CUMPLE_CON_AS         1068 non-null   float64\n",
            " 42  CUMPLE_CON_CD         1068 non-null   float64\n",
            " 43  CUMPLE_CON_CR         1068 non-null   float64\n",
            " 44  CUMPLE_CON_HG         1068 non-null   float64\n",
            " 45  CUMPLE_CON_PB         1068 non-null   float64\n",
            " 46  CUMPLE_CON_MN         1068 non-null   float64\n",
            " 47  CUMPLE_CON_FE         1068 non-null   float64\n",
            "dtypes: float64(31), int64(1), int8(15), object(1)\n",
            "memory usage: 291.1+ KB\n"
          ]
        }
      ]
    },
    {
      "cell_type": "markdown",
      "source": [
        "---\n",
        "\n",
        "\n",
        "👷 Una vez tenemos nuestro conjunto con todas las columnas con tipo de dato numérico, procederemos con el escalamiento haciendo uso del método **MinMaxScaler**.\n",
        "\n",
        "---"
      ],
      "metadata": {
        "id": "UXPMuaZR_lWE"
      }
    },
    {
      "cell_type": "code",
      "source": [
        "#Aplicamos el escalado a los datos utilizando el MinMaxScaler\n",
        "Escalador = MinMaxScaler()\n",
        "dfEscalado = Escalador.fit_transform(dfAguasSubterraneas[ColumnasNumericas])\n",
        "#dfAguasSubterraneasEscalado=pd.DataFrame(dfEscalado, columns=dfAguasSubterraneas.columns)\n",
        "pd.DataFrame(dfEscalado, columns=ColumnasNumericas).describe().T"
      ],
      "metadata": {
        "colab": {
          "base_uri": "https://localhost:8080/",
          "height": 488
        },
        "id": "2epquFLO4QkW",
        "outputId": "f272ade2-6bf5-4edb-f07a-f1fee5f04e4f"
      },
      "execution_count": 59,
      "outputs": [
        {
          "output_type": "execute_result",
          "data": {
            "text/plain": [
              "                      count      mean       std  min       25%       50%  \\\n",
              "ALC_mg/L             1068.0  0.128695  0.071864  0.0  0.084645  0.116356   \n",
              "CONDUCT_mS/cm        1068.0  0.058658  0.067055  0.0  0.024565  0.041270   \n",
              "SDT_M_mg/L           1068.0  0.010597  0.033465  0.0  0.003807  0.006396   \n",
              "FLUORUROS_mg/L       1068.0  0.025304  0.055610  0.0  0.001941  0.008771   \n",
              "DUR_mg/L             1068.0  0.086486  0.094841  0.0  0.026717  0.059444   \n",
              "COLI_FEC_NMP/100_mL  1068.0  0.014647  0.084830  0.0  0.000000  0.000000   \n",
              "N_NO3_mg/L           1068.0  0.035521  0.068945  0.0  0.005215  0.017034   \n",
              "AS_TOT_mg/L          1068.0  0.021750  0.079623  0.0  0.000000  0.000000   \n",
              "CD_TOT_mg/L          1068.0  0.001020  0.030719  0.0  0.000000  0.000000   \n",
              "CR_TOT_mg/L          1068.0  0.001656  0.030889  0.0  0.000000  0.000000   \n",
              "HG_TOT_mg/L          1068.0  0.004204  0.034221  0.0  0.000000  0.000000   \n",
              "PB_TOT_mg/L          1068.0  0.003710  0.042877  0.0  0.000000  0.000000   \n",
              "MN_TOT_mg/L          1068.0  0.007904  0.041926  0.0  0.000000  0.000000   \n",
              "FE_TOT_mg/L          1068.0  0.002158  0.031009  0.0  0.000000  0.000123   \n",
              "\n",
              "                          75%  max  \n",
              "ALC_mg/L             0.163724  1.0  \n",
              "CONDUCT_mS/cm        0.068596  1.0  \n",
              "SDT_M_mg/L           0.010845  1.0  \n",
              "FLUORUROS_mg/L       0.027161  1.0  \n",
              "DUR_mg/L             0.114472  1.0  \n",
              "COLI_FEC_NMP/100_mL  0.000502  1.0  \n",
              "N_NO3_mg/L           0.042815  1.0  \n",
              "AS_TOT_mg/L          0.000000  1.0  \n",
              "CD_TOT_mg/L          0.000000  1.0  \n",
              "CR_TOT_mg/L          0.000000  1.0  \n",
              "HG_TOT_mg/L          0.000000  1.0  \n",
              "PB_TOT_mg/L          0.000000  1.0  \n",
              "MN_TOT_mg/L          0.000941  1.0  \n",
              "FE_TOT_mg/L          0.000831  1.0  "
            ],
            "text/html": [
              "\n",
              "  <div id=\"df-8ebb3793-c14a-42a5-b748-cfa91726d155\">\n",
              "    <div class=\"colab-df-container\">\n",
              "      <div>\n",
              "<style scoped>\n",
              "    .dataframe tbody tr th:only-of-type {\n",
              "        vertical-align: middle;\n",
              "    }\n",
              "\n",
              "    .dataframe tbody tr th {\n",
              "        vertical-align: top;\n",
              "    }\n",
              "\n",
              "    .dataframe thead th {\n",
              "        text-align: right;\n",
              "    }\n",
              "</style>\n",
              "<table border=\"1\" class=\"dataframe\">\n",
              "  <thead>\n",
              "    <tr style=\"text-align: right;\">\n",
              "      <th></th>\n",
              "      <th>count</th>\n",
              "      <th>mean</th>\n",
              "      <th>std</th>\n",
              "      <th>min</th>\n",
              "      <th>25%</th>\n",
              "      <th>50%</th>\n",
              "      <th>75%</th>\n",
              "      <th>max</th>\n",
              "    </tr>\n",
              "  </thead>\n",
              "  <tbody>\n",
              "    <tr>\n",
              "      <th>ALC_mg/L</th>\n",
              "      <td>1068.0</td>\n",
              "      <td>0.128695</td>\n",
              "      <td>0.071864</td>\n",
              "      <td>0.0</td>\n",
              "      <td>0.084645</td>\n",
              "      <td>0.116356</td>\n",
              "      <td>0.163724</td>\n",
              "      <td>1.0</td>\n",
              "    </tr>\n",
              "    <tr>\n",
              "      <th>CONDUCT_mS/cm</th>\n",
              "      <td>1068.0</td>\n",
              "      <td>0.058658</td>\n",
              "      <td>0.067055</td>\n",
              "      <td>0.0</td>\n",
              "      <td>0.024565</td>\n",
              "      <td>0.041270</td>\n",
              "      <td>0.068596</td>\n",
              "      <td>1.0</td>\n",
              "    </tr>\n",
              "    <tr>\n",
              "      <th>SDT_M_mg/L</th>\n",
              "      <td>1068.0</td>\n",
              "      <td>0.010597</td>\n",
              "      <td>0.033465</td>\n",
              "      <td>0.0</td>\n",
              "      <td>0.003807</td>\n",
              "      <td>0.006396</td>\n",
              "      <td>0.010845</td>\n",
              "      <td>1.0</td>\n",
              "    </tr>\n",
              "    <tr>\n",
              "      <th>FLUORUROS_mg/L</th>\n",
              "      <td>1068.0</td>\n",
              "      <td>0.025304</td>\n",
              "      <td>0.055610</td>\n",
              "      <td>0.0</td>\n",
              "      <td>0.001941</td>\n",
              "      <td>0.008771</td>\n",
              "      <td>0.027161</td>\n",
              "      <td>1.0</td>\n",
              "    </tr>\n",
              "    <tr>\n",
              "      <th>DUR_mg/L</th>\n",
              "      <td>1068.0</td>\n",
              "      <td>0.086486</td>\n",
              "      <td>0.094841</td>\n",
              "      <td>0.0</td>\n",
              "      <td>0.026717</td>\n",
              "      <td>0.059444</td>\n",
              "      <td>0.114472</td>\n",
              "      <td>1.0</td>\n",
              "    </tr>\n",
              "    <tr>\n",
              "      <th>COLI_FEC_NMP/100_mL</th>\n",
              "      <td>1068.0</td>\n",
              "      <td>0.014647</td>\n",
              "      <td>0.084830</td>\n",
              "      <td>0.0</td>\n",
              "      <td>0.000000</td>\n",
              "      <td>0.000000</td>\n",
              "      <td>0.000502</td>\n",
              "      <td>1.0</td>\n",
              "    </tr>\n",
              "    <tr>\n",
              "      <th>N_NO3_mg/L</th>\n",
              "      <td>1068.0</td>\n",
              "      <td>0.035521</td>\n",
              "      <td>0.068945</td>\n",
              "      <td>0.0</td>\n",
              "      <td>0.005215</td>\n",
              "      <td>0.017034</td>\n",
              "      <td>0.042815</td>\n",
              "      <td>1.0</td>\n",
              "    </tr>\n",
              "    <tr>\n",
              "      <th>AS_TOT_mg/L</th>\n",
              "      <td>1068.0</td>\n",
              "      <td>0.021750</td>\n",
              "      <td>0.079623</td>\n",
              "      <td>0.0</td>\n",
              "      <td>0.000000</td>\n",
              "      <td>0.000000</td>\n",
              "      <td>0.000000</td>\n",
              "      <td>1.0</td>\n",
              "    </tr>\n",
              "    <tr>\n",
              "      <th>CD_TOT_mg/L</th>\n",
              "      <td>1068.0</td>\n",
              "      <td>0.001020</td>\n",
              "      <td>0.030719</td>\n",
              "      <td>0.0</td>\n",
              "      <td>0.000000</td>\n",
              "      <td>0.000000</td>\n",
              "      <td>0.000000</td>\n",
              "      <td>1.0</td>\n",
              "    </tr>\n",
              "    <tr>\n",
              "      <th>CR_TOT_mg/L</th>\n",
              "      <td>1068.0</td>\n",
              "      <td>0.001656</td>\n",
              "      <td>0.030889</td>\n",
              "      <td>0.0</td>\n",
              "      <td>0.000000</td>\n",
              "      <td>0.000000</td>\n",
              "      <td>0.000000</td>\n",
              "      <td>1.0</td>\n",
              "    </tr>\n",
              "    <tr>\n",
              "      <th>HG_TOT_mg/L</th>\n",
              "      <td>1068.0</td>\n",
              "      <td>0.004204</td>\n",
              "      <td>0.034221</td>\n",
              "      <td>0.0</td>\n",
              "      <td>0.000000</td>\n",
              "      <td>0.000000</td>\n",
              "      <td>0.000000</td>\n",
              "      <td>1.0</td>\n",
              "    </tr>\n",
              "    <tr>\n",
              "      <th>PB_TOT_mg/L</th>\n",
              "      <td>1068.0</td>\n",
              "      <td>0.003710</td>\n",
              "      <td>0.042877</td>\n",
              "      <td>0.0</td>\n",
              "      <td>0.000000</td>\n",
              "      <td>0.000000</td>\n",
              "      <td>0.000000</td>\n",
              "      <td>1.0</td>\n",
              "    </tr>\n",
              "    <tr>\n",
              "      <th>MN_TOT_mg/L</th>\n",
              "      <td>1068.0</td>\n",
              "      <td>0.007904</td>\n",
              "      <td>0.041926</td>\n",
              "      <td>0.0</td>\n",
              "      <td>0.000000</td>\n",
              "      <td>0.000000</td>\n",
              "      <td>0.000941</td>\n",
              "      <td>1.0</td>\n",
              "    </tr>\n",
              "    <tr>\n",
              "      <th>FE_TOT_mg/L</th>\n",
              "      <td>1068.0</td>\n",
              "      <td>0.002158</td>\n",
              "      <td>0.031009</td>\n",
              "      <td>0.0</td>\n",
              "      <td>0.000000</td>\n",
              "      <td>0.000123</td>\n",
              "      <td>0.000831</td>\n",
              "      <td>1.0</td>\n",
              "    </tr>\n",
              "  </tbody>\n",
              "</table>\n",
              "</div>\n",
              "      <button class=\"colab-df-convert\" onclick=\"convertToInteractive('df-8ebb3793-c14a-42a5-b748-cfa91726d155')\"\n",
              "              title=\"Convert this dataframe to an interactive table.\"\n",
              "              style=\"display:none;\">\n",
              "        \n",
              "  <svg xmlns=\"http://www.w3.org/2000/svg\" height=\"24px\"viewBox=\"0 0 24 24\"\n",
              "       width=\"24px\">\n",
              "    <path d=\"M0 0h24v24H0V0z\" fill=\"none\"/>\n",
              "    <path d=\"M18.56 5.44l.94 2.06.94-2.06 2.06-.94-2.06-.94-.94-2.06-.94 2.06-2.06.94zm-11 1L8.5 8.5l.94-2.06 2.06-.94-2.06-.94L8.5 2.5l-.94 2.06-2.06.94zm10 10l.94 2.06.94-2.06 2.06-.94-2.06-.94-.94-2.06-.94 2.06-2.06.94z\"/><path d=\"M17.41 7.96l-1.37-1.37c-.4-.4-.92-.59-1.43-.59-.52 0-1.04.2-1.43.59L10.3 9.45l-7.72 7.72c-.78.78-.78 2.05 0 2.83L4 21.41c.39.39.9.59 1.41.59.51 0 1.02-.2 1.41-.59l7.78-7.78 2.81-2.81c.8-.78.8-2.07 0-2.86zM5.41 20L4 18.59l7.72-7.72 1.47 1.35L5.41 20z\"/>\n",
              "  </svg>\n",
              "      </button>\n",
              "      \n",
              "  <style>\n",
              "    .colab-df-container {\n",
              "      display:flex;\n",
              "      flex-wrap:wrap;\n",
              "      gap: 12px;\n",
              "    }\n",
              "\n",
              "    .colab-df-convert {\n",
              "      background-color: #E8F0FE;\n",
              "      border: none;\n",
              "      border-radius: 50%;\n",
              "      cursor: pointer;\n",
              "      display: none;\n",
              "      fill: #1967D2;\n",
              "      height: 32px;\n",
              "      padding: 0 0 0 0;\n",
              "      width: 32px;\n",
              "    }\n",
              "\n",
              "    .colab-df-convert:hover {\n",
              "      background-color: #E2EBFA;\n",
              "      box-shadow: 0px 1px 2px rgba(60, 64, 67, 0.3), 0px 1px 3px 1px rgba(60, 64, 67, 0.15);\n",
              "      fill: #174EA6;\n",
              "    }\n",
              "\n",
              "    [theme=dark] .colab-df-convert {\n",
              "      background-color: #3B4455;\n",
              "      fill: #D2E3FC;\n",
              "    }\n",
              "\n",
              "    [theme=dark] .colab-df-convert:hover {\n",
              "      background-color: #434B5C;\n",
              "      box-shadow: 0px 1px 3px 1px rgba(0, 0, 0, 0.15);\n",
              "      filter: drop-shadow(0px 1px 2px rgba(0, 0, 0, 0.3));\n",
              "      fill: #FFFFFF;\n",
              "    }\n",
              "  </style>\n",
              "\n",
              "      <script>\n",
              "        const buttonEl =\n",
              "          document.querySelector('#df-8ebb3793-c14a-42a5-b748-cfa91726d155 button.colab-df-convert');\n",
              "        buttonEl.style.display =\n",
              "          google.colab.kernel.accessAllowed ? 'block' : 'none';\n",
              "\n",
              "        async function convertToInteractive(key) {\n",
              "          const element = document.querySelector('#df-8ebb3793-c14a-42a5-b748-cfa91726d155');\n",
              "          const dataTable =\n",
              "            await google.colab.kernel.invokeFunction('convertToInteractive',\n",
              "                                                     [key], {});\n",
              "          if (!dataTable) return;\n",
              "\n",
              "          const docLinkHtml = 'Like what you see? Visit the ' +\n",
              "            '<a target=\"_blank\" href=https://colab.research.google.com/notebooks/data_table.ipynb>data table notebook</a>'\n",
              "            + ' to learn more about interactive tables.';\n",
              "          element.innerHTML = '';\n",
              "          dataTable['output_type'] = 'display_data';\n",
              "          await google.colab.output.renderOutput(dataTable, element);\n",
              "          const docLink = document.createElement('div');\n",
              "          docLink.innerHTML = docLinkHtml;\n",
              "          element.appendChild(docLink);\n",
              "        }\n",
              "      </script>\n",
              "    </div>\n",
              "  </div>\n",
              "  "
            ]
          },
          "metadata": {},
          "execution_count": 59
        }
      ]
    },
    {
      "cell_type": "markdown",
      "source": [
        "---\n",
        "\n",
        "\n",
        "🎯 Con esto damos por finalizada nuestra limpieza en el conjunto de datos, ya estaríamos listos para realizar una partición de datos declarando los atributos de entrada en **X** y la variable a predecir en **Y** para entrenar el modelo y realizar las predicciones que se requieran.\n",
        "\n",
        "---"
      ],
      "metadata": {
        "id": "V5lATuRZU-eN"
      }
    },
    {
      "cell_type": "markdown",
      "source": [
        "---\n",
        "\n",
        "# 📑 **PARTE 2: VALIDACIÓN DEL MODELO**\n",
        "\n",
        "---\n"
      ],
      "metadata": {
        "id": "HudmlflX8ihg"
      }
    },
    {
      "cell_type": "code",
      "source": [
        "#Cargamos las librerías y clases requeridas\n",
        "from sklearn.preprocessing import LabelEncoder\n",
        "from sklearn.metrics import classification_report, confusion_matrix\n",
        "from sklearn.ensemble import RandomForestClassifier\n",
        "from sklearn.model_selection import train_test_split\n",
        "from sklearn.tree import DecisionTreeClassifier, export_graphviz\n",
        "from sklearn import tree\n",
        "from IPython.display import Image\n",
        "import pydotplus"
      ],
      "metadata": {
        "id": "htyFrxceG5Ez"
      },
      "execution_count": 75,
      "outputs": []
    },
    {
      "cell_type": "markdown",
      "source": [
        "---\n",
        "\n",
        "👣 Selecciona tus variables independientes X y dependiente Y (semáforo):\n",
        "\n",
        "---"
      ],
      "metadata": {
        "id": "ggNXmBclarMK"
      }
    },
    {
      "cell_type": "code",
      "source": [
        "X = dfAguasSubterraneas.drop('SEMAFORO',axis=1)\n",
        "y = dfAguasSubterraneas['SEMAFORO']"
      ],
      "metadata": {
        "id": "0-Iq5cMWFsjk"
      },
      "execution_count": 61,
      "outputs": []
    },
    {
      "cell_type": "markdown",
      "source": [
        "---\n",
        "\n",
        "👣 Cambia a label encoding el semáforo, ej, de [\"clase 1\", \"clase 2\", \"clase 3\"] a [1,2,3]:\n",
        "\n",
        "---"
      ],
      "metadata": {
        "id": "MJUWmR1ZGtwZ"
      }
    },
    {
      "cell_type": "code",
      "source": [
        "labelEncoder = LabelEncoder()\n",
        "labelEncoder.fit(y)\n",
        "y=labelEncoder.transform(y)\n",
        "print(\"********************************************\")\n",
        "print(\"Las clases detectadas por la función fueron:\")\n",
        "print(\"********************************************\")\n",
        "print(labelEncoder.classes_)"
      ],
      "metadata": {
        "colab": {
          "base_uri": "https://localhost:8080/"
        },
        "id": "w1tMySrcHqlA",
        "outputId": "f6aa4e29-b892-45b6-d873-a7f43d618410"
      },
      "execution_count": 62,
      "outputs": [
        {
          "output_type": "stream",
          "name": "stdout",
          "text": [
            "********************************************\n",
            "Las clases detectadas por la función fueron:\n",
            "********************************************\n",
            "['Amarillo' 'Rojo' 'Verde']\n"
          ]
        }
      ]
    },
    {
      "cell_type": "markdown",
      "source": [
        "---\n",
        "\n",
        "👣 Realiza un análisis general de las features importances a traves de decision trees o random forest:\n",
        "\n",
        "---"
      ],
      "metadata": {
        "id": "rG3aR1npK62a"
      }
    },
    {
      "cell_type": "code",
      "source": [
        "Bosque = RandomForestClassifier(n_estimators=500, random_state=42)\n",
        "Bosque.fit(X, y)\n",
        "\n",
        "Columnas_Importantes = pd.DataFrame(index=X.columns, data=Bosque.feature_importances_, columns=[\"Importancia\"])\n",
        "print(\"***********************************************************************\")\n",
        "print(\"Las 10 columnas más importantes para el modelo según Random Forest son:\")\n",
        "print(\"***********************************************************************\")\n",
        "Columnas_Importantes.sort_values(by=\"Importancia\", ascending=False).head(10)"
      ],
      "metadata": {
        "colab": {
          "base_uri": "https://localhost:8080/",
          "height": 415
        },
        "id": "aUN1rA0KHyqO",
        "outputId": "653ae88a-e1f6-4ab8-d9ad-9026e0b5c538"
      },
      "execution_count": 63,
      "outputs": [
        {
          "output_type": "stream",
          "name": "stdout",
          "text": [
            "***********************************************************************\n",
            "Las 10 columnas más importantes para el modelo según Random Forest son:\n",
            "***********************************************************************\n"
          ]
        },
        {
          "output_type": "execute_result",
          "data": {
            "text/plain": [
              "                     Importancia\n",
              "FLUORUROS_mg/L          0.081994\n",
              "CALIDAD_FLUO            0.068890\n",
              "CUMPLE_CON_FLUO         0.064796\n",
              "DUR_mg/L                0.054926\n",
              "AS_TOT_mg/L             0.050669\n",
              "CALIDAD_DUR             0.050066\n",
              "N_NO3_mg/L              0.042562\n",
              "CUMPLE_CON_CF           0.042474\n",
              "COLI_FEC_NMP/100_mL     0.042241\n",
              "CUMPLE_CON_AS           0.040391"
            ],
            "text/html": [
              "\n",
              "  <div id=\"df-a20d7170-9f16-4a28-b760-1eb62f0c0324\">\n",
              "    <div class=\"colab-df-container\">\n",
              "      <div>\n",
              "<style scoped>\n",
              "    .dataframe tbody tr th:only-of-type {\n",
              "        vertical-align: middle;\n",
              "    }\n",
              "\n",
              "    .dataframe tbody tr th {\n",
              "        vertical-align: top;\n",
              "    }\n",
              "\n",
              "    .dataframe thead th {\n",
              "        text-align: right;\n",
              "    }\n",
              "</style>\n",
              "<table border=\"1\" class=\"dataframe\">\n",
              "  <thead>\n",
              "    <tr style=\"text-align: right;\">\n",
              "      <th></th>\n",
              "      <th>Importancia</th>\n",
              "    </tr>\n",
              "  </thead>\n",
              "  <tbody>\n",
              "    <tr>\n",
              "      <th>FLUORUROS_mg/L</th>\n",
              "      <td>0.081994</td>\n",
              "    </tr>\n",
              "    <tr>\n",
              "      <th>CALIDAD_FLUO</th>\n",
              "      <td>0.068890</td>\n",
              "    </tr>\n",
              "    <tr>\n",
              "      <th>CUMPLE_CON_FLUO</th>\n",
              "      <td>0.064796</td>\n",
              "    </tr>\n",
              "    <tr>\n",
              "      <th>DUR_mg/L</th>\n",
              "      <td>0.054926</td>\n",
              "    </tr>\n",
              "    <tr>\n",
              "      <th>AS_TOT_mg/L</th>\n",
              "      <td>0.050669</td>\n",
              "    </tr>\n",
              "    <tr>\n",
              "      <th>CALIDAD_DUR</th>\n",
              "      <td>0.050066</td>\n",
              "    </tr>\n",
              "    <tr>\n",
              "      <th>N_NO3_mg/L</th>\n",
              "      <td>0.042562</td>\n",
              "    </tr>\n",
              "    <tr>\n",
              "      <th>CUMPLE_CON_CF</th>\n",
              "      <td>0.042474</td>\n",
              "    </tr>\n",
              "    <tr>\n",
              "      <th>COLI_FEC_NMP/100_mL</th>\n",
              "      <td>0.042241</td>\n",
              "    </tr>\n",
              "    <tr>\n",
              "      <th>CUMPLE_CON_AS</th>\n",
              "      <td>0.040391</td>\n",
              "    </tr>\n",
              "  </tbody>\n",
              "</table>\n",
              "</div>\n",
              "      <button class=\"colab-df-convert\" onclick=\"convertToInteractive('df-a20d7170-9f16-4a28-b760-1eb62f0c0324')\"\n",
              "              title=\"Convert this dataframe to an interactive table.\"\n",
              "              style=\"display:none;\">\n",
              "        \n",
              "  <svg xmlns=\"http://www.w3.org/2000/svg\" height=\"24px\"viewBox=\"0 0 24 24\"\n",
              "       width=\"24px\">\n",
              "    <path d=\"M0 0h24v24H0V0z\" fill=\"none\"/>\n",
              "    <path d=\"M18.56 5.44l.94 2.06.94-2.06 2.06-.94-2.06-.94-.94-2.06-.94 2.06-2.06.94zm-11 1L8.5 8.5l.94-2.06 2.06-.94-2.06-.94L8.5 2.5l-.94 2.06-2.06.94zm10 10l.94 2.06.94-2.06 2.06-.94-2.06-.94-.94-2.06-.94 2.06-2.06.94z\"/><path d=\"M17.41 7.96l-1.37-1.37c-.4-.4-.92-.59-1.43-.59-.52 0-1.04.2-1.43.59L10.3 9.45l-7.72 7.72c-.78.78-.78 2.05 0 2.83L4 21.41c.39.39.9.59 1.41.59.51 0 1.02-.2 1.41-.59l7.78-7.78 2.81-2.81c.8-.78.8-2.07 0-2.86zM5.41 20L4 18.59l7.72-7.72 1.47 1.35L5.41 20z\"/>\n",
              "  </svg>\n",
              "      </button>\n",
              "      \n",
              "  <style>\n",
              "    .colab-df-container {\n",
              "      display:flex;\n",
              "      flex-wrap:wrap;\n",
              "      gap: 12px;\n",
              "    }\n",
              "\n",
              "    .colab-df-convert {\n",
              "      background-color: #E8F0FE;\n",
              "      border: none;\n",
              "      border-radius: 50%;\n",
              "      cursor: pointer;\n",
              "      display: none;\n",
              "      fill: #1967D2;\n",
              "      height: 32px;\n",
              "      padding: 0 0 0 0;\n",
              "      width: 32px;\n",
              "    }\n",
              "\n",
              "    .colab-df-convert:hover {\n",
              "      background-color: #E2EBFA;\n",
              "      box-shadow: 0px 1px 2px rgba(60, 64, 67, 0.3), 0px 1px 3px 1px rgba(60, 64, 67, 0.15);\n",
              "      fill: #174EA6;\n",
              "    }\n",
              "\n",
              "    [theme=dark] .colab-df-convert {\n",
              "      background-color: #3B4455;\n",
              "      fill: #D2E3FC;\n",
              "    }\n",
              "\n",
              "    [theme=dark] .colab-df-convert:hover {\n",
              "      background-color: #434B5C;\n",
              "      box-shadow: 0px 1px 3px 1px rgba(0, 0, 0, 0.15);\n",
              "      filter: drop-shadow(0px 1px 2px rgba(0, 0, 0, 0.3));\n",
              "      fill: #FFFFFF;\n",
              "    }\n",
              "  </style>\n",
              "\n",
              "      <script>\n",
              "        const buttonEl =\n",
              "          document.querySelector('#df-a20d7170-9f16-4a28-b760-1eb62f0c0324 button.colab-df-convert');\n",
              "        buttonEl.style.display =\n",
              "          google.colab.kernel.accessAllowed ? 'block' : 'none';\n",
              "\n",
              "        async function convertToInteractive(key) {\n",
              "          const element = document.querySelector('#df-a20d7170-9f16-4a28-b760-1eb62f0c0324');\n",
              "          const dataTable =\n",
              "            await google.colab.kernel.invokeFunction('convertToInteractive',\n",
              "                                                     [key], {});\n",
              "          if (!dataTable) return;\n",
              "\n",
              "          const docLinkHtml = 'Like what you see? Visit the ' +\n",
              "            '<a target=\"_blank\" href=https://colab.research.google.com/notebooks/data_table.ipynb>data table notebook</a>'\n",
              "            + ' to learn more about interactive tables.';\n",
              "          element.innerHTML = '';\n",
              "          dataTable['output_type'] = 'display_data';\n",
              "          await google.colab.output.renderOutput(dataTable, element);\n",
              "          const docLink = document.createElement('div');\n",
              "          docLink.innerHTML = docLinkHtml;\n",
              "          element.appendChild(docLink);\n",
              "        }\n",
              "      </script>\n",
              "    </div>\n",
              "  </div>\n",
              "  "
            ]
          },
          "metadata": {},
          "execution_count": 63
        }
      ]
    },
    {
      "cell_type": "markdown",
      "source": [
        "---\n",
        "\n",
        "✍ Utilizando el clasificador Random Forest podemos observar que la columna \"**FLUORUROS_mg/L**\" es la más importante para el modelo con un **8%**, seguida de las columnas \"**CALIDAD_FLUO**\" y \"**CUMPLE_CON_FLUO**\" con un **6%**, **DUR_mg/L**, **AS_TOT_mg/L** y **CALIDAD_DUR** con un **5%**, y **N_NO3_mg/L**, **CUMPLE_CON_CF**, **COLI_FEC_NMP/100_mL** y **CUMPLE_CON_AS** con un **4%**. Las columnas restantes mantienen un margen de importancia similar y decreciente, llegando hasta un porcentaje del **0%** para la columna \"**PERIODO**\" que no representa importancia para el modelo. \n",
        "\n",
        "---"
      ],
      "metadata": {
        "id": "58E-uYtuSICU"
      }
    },
    {
      "cell_type": "markdown",
      "source": [
        "---\n",
        "\n",
        "👣 Selecciona las variables de mayor importancia:\n",
        "\n",
        "---"
      ],
      "metadata": {
        "id": "tb5zpxmyLEdZ"
      }
    },
    {
      "cell_type": "code",
      "source": [
        "#Graficamos las variables más importantes para el modelo de acuerdo a Random Forest.\n",
        "(pd.Series(Bosque.feature_importances_, index=X.columns)\n",
        "   .nlargest(10)\n",
        "   .plot(kind='barh', color=\"lightblue\").invert_yaxis())  "
      ],
      "metadata": {
        "colab": {
          "base_uri": "https://localhost:8080/",
          "height": 265
        },
        "id": "jnKc_30qWE3r",
        "outputId": "f7467731-944b-4f85-f950-ee1801b77d31"
      },
      "execution_count": 64,
      "outputs": [
        {
          "output_type": "display_data",
          "data": {
            "text/plain": [
              "<Figure size 432x288 with 1 Axes>"
            ],
            "image/png": "[encoded data removed]"
          },
          "metadata": {
            "needs_background": "light"
          }
        }
      ]
    },
    {
      "cell_type": "markdown",
      "source": [
        "---\n",
        "\n",
        "✍ Las columnas que seleccionaremos como relevantes para nuestro modelo según la clasificación \"**Features Importance**\" realizada por Random Forest son:\n",
        "\n",
        "*   **FLUORUROS_mg/L**\n",
        "*   **CALIDAD_FLUO**\n",
        "*   **CUMPLE_CON_FLUO**\n",
        "*   **DUR_mg/L**\n",
        "*   **AS_TOT_mg/L**\n",
        "*   **CALIDAD_DUR**\n",
        "*   **N_NO3_mg/L**\n",
        "*   **CUMPLE_CON_CF**\n",
        "*   **COLI_FEC_NMP/100_mL**\n",
        "*   **CUMPLE_CON_AS**\n",
        "\n",
        "A continuación ajustaremos nuestros atributos independientes para trabajar solo con las características más importantes.\n",
        "\n",
        "---"
      ],
      "metadata": {
        "id": "luQRcyBQYPOB"
      }
    },
    {
      "cell_type": "code",
      "source": [
        "#Ajustamos X nuevamente pero solo con los atributos relevantes.\n",
        "X = dfAguasSubterraneas[['FLUORUROS_mg/L', 'CALIDAD_FLUO', 'CUMPLE_CON_FLUO', 'DUR_mg/L', 'AS_TOT_mg/L', 'CALIDAD_DUR', 'N_NO3_mg/L', \n",
        "                        'CUMPLE_CON_CF', 'COLI_FEC_NMP/100_mL', 'CUMPLE_CON_AS']]\n",
        "X.info()"
      ],
      "metadata": {
        "id": "vDq9MaPTlrn4",
        "outputId": "326b0672-da16-40d6-ce72-05a13d602b77",
        "colab": {
          "base_uri": "https://localhost:8080/"
        }
      },
      "execution_count": 65,
      "outputs": [
        {
          "output_type": "stream",
          "name": "stdout",
          "text": [
            "<class 'pandas.core.frame.DataFrame'>\n",
            "RangeIndex: 1068 entries, 0 to 1067\n",
            "Data columns (total 10 columns):\n",
            " #   Column               Non-Null Count  Dtype  \n",
            "---  ------               --------------  -----  \n",
            " 0   FLUORUROS_mg/L       1068 non-null   float64\n",
            " 1   CALIDAD_FLUO         1068 non-null   int8   \n",
            " 2   CUMPLE_CON_FLUO      1068 non-null   float64\n",
            " 3   DUR_mg/L             1068 non-null   float64\n",
            " 4   AS_TOT_mg/L          1068 non-null   float64\n",
            " 5   CALIDAD_DUR          1068 non-null   int8   \n",
            " 6   N_NO3_mg/L           1068 non-null   float64\n",
            " 7   CUMPLE_CON_CF        1068 non-null   float64\n",
            " 8   COLI_FEC_NMP/100_mL  1068 non-null   float64\n",
            " 9   CUMPLE_CON_AS        1068 non-null   float64\n",
            "dtypes: float64(8), int8(2)\n",
            "memory usage: 69.0 KB\n"
          ]
        }
      ]
    },
    {
      "cell_type": "markdown",
      "source": [
        "---\n",
        "\n",
        "👣 Realiza tu clasificador, recuerda dividir los datos de manera balanceada (auxiliate de train test split):\n",
        "\n",
        "---"
      ],
      "metadata": {
        "id": "hpB01EBGLJdo"
      }
    },
    {
      "cell_type": "code",
      "source": [
        "#Antes de realizar la división de los datos validamos la proporción de las clases para los datos originales.\n",
        "print(\"*******************************************************\")\n",
        "print(\"La proporción de las clases en el conjunto original es:\")\n",
        "print(\"*******************************************************\")\n",
        "round((pd.DataFrame(y).value_counts()/len(pd.DataFrame(y)))*100,2)"
      ],
      "metadata": {
        "colab": {
          "base_uri": "https://localhost:8080/"
        },
        "id": "riuZUNmpb93d",
        "outputId": "83e25579-e0d7-4bb8-f742-d812ef195532"
      },
      "execution_count": 66,
      "outputs": [
        {
          "output_type": "stream",
          "name": "stdout",
          "text": [
            "*******************************************************\n",
            "La proporción de las clases en el conjunto original es:\n",
            "*******************************************************\n"
          ]
        },
        {
          "output_type": "execute_result",
          "data": {
            "text/plain": [
              "2    40.64\n",
              "1    36.24\n",
              "0    23.13\n",
              "dtype: float64"
            ]
          },
          "metadata": {},
          "execution_count": 66
        }
      ]
    },
    {
      "cell_type": "markdown",
      "source": [
        "---\n",
        "\n",
        "🔎 La proporción de las clases en el conjunto de datos original se encuentra de la siguiente manera:\n",
        "\n",
        "🟡 23.13% (0)\n",
        "🔴 36.24% (1)\n",
        "🟢 40.64% (2)\n",
        "\n",
        "A continuación procederemos a particionar los datos del conjunto, buscando mantener el balanceo en las clases.\n",
        "\n",
        "---"
      ],
      "metadata": {
        "id": "XtlZSAWOdiwj"
      }
    },
    {
      "cell_type": "code",
      "source": [
        "#Realizamos la partición de los datos utilizando \"stratify\" para el balanceo de las clases.\n",
        "X_train, X_test, y_train, y_test = train_test_split(X, y, stratify=y ,test_size=.20)\n",
        "\n",
        "#Después de realizar la división de los datos validamos la proporción de las clases para los datos de entrenamiento.\n",
        "print(\"**************************************************************\")\n",
        "print(\"La proporción de las clases en el conjunto de entrenamiento es:\")\n",
        "print(\"**************************************************************\")\n",
        "round((pd.DataFrame(y_train).value_counts()/len(pd.DataFrame(y_train)))*100,2)"
      ],
      "metadata": {
        "colab": {
          "base_uri": "https://localhost:8080/"
        },
        "id": "VbyY0zpILKL8",
        "outputId": "c37af797-0545-4beb-9e37-45c58065448d"
      },
      "execution_count": 67,
      "outputs": [
        {
          "output_type": "stream",
          "name": "stdout",
          "text": [
            "**************************************************************\n",
            "La proporción de las clases en el conjunto de entrenamiento es:\n",
            "**************************************************************\n"
          ]
        },
        {
          "output_type": "execute_result",
          "data": {
            "text/plain": [
              "2    40.63\n",
              "1    36.18\n",
              "0    23.19\n",
              "dtype: float64"
            ]
          },
          "metadata": {},
          "execution_count": 67
        }
      ]
    },
    {
      "cell_type": "markdown",
      "source": [
        "---\n",
        "\n",
        "🔎 Confirmamos que después de la partición se mantuvo el balanceo de las clases en el conjunto de entrenamiento y por ende en el conjunto de pruebas:\n",
        "\n",
        "🟡 23.19% (0)\n",
        "🔴 36.18% (1)\n",
        "🟢 40.63% (2)\n",
        "\n",
        "---"
      ],
      "metadata": {
        "id": "1CnF-3mlebo1"
      }
    },
    {
      "cell_type": "markdown",
      "source": [
        "---\n",
        "\n",
        "👣 Explora que clasificador es el más optimo, ejemplo:\n",
        "\n",
        "*   Decision trees\n",
        "*   Random Forest\n",
        "\n",
        "---"
      ],
      "metadata": {
        "id": "WNeO3NKiLKi3"
      }
    },
    {
      "cell_type": "markdown",
      "source": [
        "---\n",
        "\n",
        "☝ Realizaremos la clasificación utilizando inicialmente un modelo basado en árbol de decisión (**Decision Tree**).\n",
        "\n",
        "---"
      ],
      "metadata": {
        "id": "q2UXTP7ofZ5K"
      }
    },
    {
      "cell_type": "code",
      "source": [
        "Arbol = DecisionTreeClassifier(ccp_alpha=0.03,class_weight= 'balanced',criterion='gini',\n",
        "                                   max_depth=5, min_samples_split=2)\n",
        "Arbol.fit(X_train, np.ravel(y_train))\n",
        "\n",
        "Arbol_Pred=Arbol.predict(X_test)\n",
        "\n",
        "dot_data = tree.export_graphviz(decision_tree=Arbol.fit(X_train,np.ravel(y_train)), \n",
        "                                out_file=None,\n",
        "                                max_depth=None,\n",
        "                                feature_names=list(pd.DataFrame(X_train).columns.values),\n",
        "                                class_names=['0','1','2'],\n",
        "                                filled=True,\n",
        "                                rotate=True,\n",
        "                                proportion=False)\n",
        "\n",
        "graph = pydotplus.graph_from_dot_data(dot_data)\n",
        "Image(graph.create_png())"
      ],
      "metadata": {
        "colab": {
          "base_uri": "https://localhost:8080/",
          "height": 322
        },
        "id": "mHuY1f7vLL9D",
        "outputId": "31231a2c-0240-4bbe-bac8-7aa3334948ee"
      },
      "execution_count": 68,
      "outputs": [
        {
          "output_type": "execute_result",
          "data": {
            "image/png": "[encoded data removed]",
            "text/plain": [
              "<IPython.core.display.Image object>"
            ]
          },
          "metadata": {},
          "execution_count": 68
        }
      ]
    },
    {
      "cell_type": "markdown",
      "source": [
        "---\n",
        "\n",
        "☝ Realizaremos la clasificación utilizando ahora un modelo basado en bosque aleatorio (**Random Forest**).\n",
        "\n",
        "---"
      ],
      "metadata": {
        "id": "vMoUswfHqCc0"
      }
    },
    {
      "cell_type": "code",
      "source": [
        "Bosque = RandomForestClassifier(n_estimators=500, random_state=42)\n",
        "Bosque.fit(X_train, y_train)\n",
        "Bosque_Pred=Bosque.predict(X_test)"
      ],
      "metadata": {
        "id": "alyTd-mhp7ze"
      },
      "execution_count": 69,
      "outputs": []
    },
    {
      "cell_type": "markdown",
      "source": [
        "---\n",
        "\n",
        "👣 Determina el grado de exactitud a través del reporte de clasificación y análisis de la gráfica de Precision Recall:\n",
        "\n",
        "---"
      ],
      "metadata": {
        "id": "qHEUTQ3NLMTD"
      }
    },
    {
      "cell_type": "markdown",
      "source": [
        "🔢 **Score de Árbol de Decisión**"
      ],
      "metadata": {
        "id": "gwpeVRATQTbG"
      }
    },
    {
      "cell_type": "code",
      "source": [
        "#Score Decision Tree\n",
        "print(\"************************************************************************\")\n",
        "print(\"El score para nuestro modelo utilizando 'Decision Tree' es el siguiente:\")\n",
        "print(\"************************************************************************\")\n",
        "round(Arbol.score(X_test, y_test),2)"
      ],
      "metadata": {
        "id": "lqqNVrHgozPK",
        "outputId": "03d8830f-9a24-4cdd-e53d-cb7ad1a8a135",
        "colab": {
          "base_uri": "https://localhost:8080/"
        }
      },
      "execution_count": 70,
      "outputs": [
        {
          "output_type": "stream",
          "name": "stdout",
          "text": [
            "************************************************************************\n",
            "El score para nuestro modelo utilizando 'Decision Tree' es el siguiente:\n",
            "************************************************************************\n"
          ]
        },
        {
          "output_type": "execute_result",
          "data": {
            "text/plain": [
              "0.88"
            ]
          },
          "metadata": {},
          "execution_count": 70
        }
      ]
    },
    {
      "cell_type": "markdown",
      "source": [
        "---\n",
        "\n",
        "\n",
        "🧾 **Reporte de Clasificación para el Árbol de Decisión**"
      ],
      "metadata": {
        "id": "1CZchORpQhTd"
      }
    },
    {
      "cell_type": "code",
      "source": [
        "print(\"*************************************************************************\")\n",
        "print(\"El reporte de clasificación para nuestro modelo con árbol de decisión es:\")\n",
        "print(\"*************************************************************************\")\n",
        "print(classification_report(y_test, Arbol_Pred, target_names=['0','1','2']))"
      ],
      "metadata": {
        "colab": {
          "base_uri": "https://localhost:8080/"
        },
        "id": "P8kXO2ORIXCP",
        "outputId": "80e58c2c-bc94-4ce4-a61e-abe9ee607cdd"
      },
      "execution_count": 71,
      "outputs": [
        {
          "output_type": "stream",
          "name": "stdout",
          "text": [
            "*************************************************************************\n",
            "El reporte de clasificación para nuestro modelo con árbol de decisión es:\n",
            "*************************************************************************\n",
            "              precision    recall  f1-score   support\n",
            "\n",
            "           0       0.94      0.63      0.76        49\n",
            "           1       0.97      0.92      0.95        78\n",
            "           2       0.80      0.99      0.89        87\n",
            "\n",
            "    accuracy                           0.88       214\n",
            "   macro avg       0.91      0.85      0.86       214\n",
            "weighted avg       0.90      0.88      0.88       214\n",
            "\n"
          ]
        }
      ]
    },
    {
      "cell_type": "markdown",
      "source": [
        "---\n",
        "\n",
        "\n",
        "📈 **Gráfica de Precisión Recall para el Árbol de Decisión**"
      ],
      "metadata": {
        "id": "OCFmnRhqRve-"
      }
    },
    {
      "cell_type": "code",
      "source": [
        "#Arbol_Score = Arbol.predict_proba(X_test)"
      ],
      "metadata": {
        "id": "eo9V7zYwLlMZ"
      },
      "execution_count": null,
      "outputs": []
    },
    {
      "cell_type": "markdown",
      "source": [
        "---\n",
        "\n",
        "\n",
        "🔢 **Score de Bosque Aleatorio**\n",
        "\n",
        "\n",
        "---"
      ],
      "metadata": {
        "id": "ZInydlnUTl63"
      }
    },
    {
      "cell_type": "code",
      "source": [
        "#Score Random Forest\n",
        "print(\"************************************************************************\")\n",
        "print(\"El score para nuestro modelo utilizando 'Random Forest' es el siguiente:\")\n",
        "print(\"************************************************************************\")\n",
        "round(Bosque.score(X_test, y_test),2)"
      ],
      "metadata": {
        "id": "iGXr3fHSreeq",
        "outputId": "cbcbfb98-d5ad-42ad-cd04-140cb65deb9d",
        "colab": {
          "base_uri": "https://localhost:8080/"
        }
      },
      "execution_count": 72,
      "outputs": [
        {
          "output_type": "stream",
          "name": "stdout",
          "text": [
            "************************************************************************\n",
            "El score para nuestro modelo utilizando 'Random Forest' es el siguiente:\n",
            "************************************************************************\n"
          ]
        },
        {
          "output_type": "execute_result",
          "data": {
            "text/plain": [
              "0.89"
            ]
          },
          "metadata": {},
          "execution_count": 72
        }
      ]
    },
    {
      "cell_type": "markdown",
      "source": [
        "---\n",
        "\n",
        "\n",
        "🧾 **Reporte de Clasificación para el Bosque Aleatorio**"
      ],
      "metadata": {
        "id": "rZ8b_8r-T4ez"
      }
    },
    {
      "cell_type": "code",
      "source": [
        "print(\"************************************************************************\")\n",
        "print(\"El reporte de clasificación para nuestro modelo con bosque aleatorio es:\")\n",
        "print(\"************************************************************************\")\n",
        "print(classification_report(y_test, Bosque_Pred, target_names=['0','1','2']))"
      ],
      "metadata": {
        "colab": {
          "base_uri": "https://localhost:8080/"
        },
        "id": "pITS-FOUIXvx",
        "outputId": "88410279-50f0-47c9-fc1c-1420591acefe"
      },
      "execution_count": 73,
      "outputs": [
        {
          "output_type": "stream",
          "name": "stdout",
          "text": [
            "************************************************************************\n",
            "El reporte de clasificación para nuestro modelo con bosque aleatorio es:\n",
            "************************************************************************\n",
            "              precision    recall  f1-score   support\n",
            "\n",
            "           0       0.85      0.71      0.78        49\n",
            "           1       1.00      0.95      0.97        78\n",
            "           2       0.82      0.93      0.87        87\n",
            "\n",
            "    accuracy                           0.89       214\n",
            "   macro avg       0.89      0.86      0.87       214\n",
            "weighted avg       0.89      0.89      0.89       214\n",
            "\n"
          ]
        }
      ]
    },
    {
      "cell_type": "markdown",
      "source": [
        "---\n",
        "\n",
        "\n",
        "📈 **Gráfica de Precisión Recall para el Bosque Aleatorio**"
      ],
      "metadata": {
        "id": "6WJpmpDeUXmT"
      }
    },
    {
      "cell_type": "code",
      "source": [],
      "metadata": {
        "id": "qjp-wVSzUayR"
      },
      "execution_count": null,
      "outputs": []
    },
    {
      "cell_type": "markdown",
      "source": [
        "---\n",
        "\n",
        "👣 Visualiza los resultados del modelo o las predicciones a través de una matriz de confusión:\n",
        "\n",
        "---"
      ],
      "metadata": {
        "id": "i45N65lwLlsc"
      }
    },
    {
      "cell_type": "markdown",
      "source": [
        "🔀 **Matriz de Confusión para el Árbol de Decisión**"
      ],
      "metadata": {
        "id": "ZLe41bsJQ7C4"
      }
    },
    {
      "cell_type": "code",
      "source": [
        "print(\"********************************************************************\")\n",
        "print(\"La matriz de confusión para nuestro modelo con árbol de decisión es:\")\n",
        "print(\"********************************************************************\")\n",
        "print(confusion_matrix(y_test, Arbol_Pred))"
      ],
      "metadata": {
        "colab": {
          "base_uri": "https://localhost:8080/"
        },
        "id": "9eUPxPf4Q3Y7",
        "outputId": "feb42ac1-4499-4ee7-ee78-b0b102ed1c02"
      },
      "execution_count": 76,
      "outputs": [
        {
          "output_type": "stream",
          "name": "stdout",
          "text": [
            "********************************************************************\n",
            "La matriz de confusión para nuestro modelo con árbol de decisión es:\n",
            "********************************************************************\n",
            "[[31  1 17]\n",
            " [ 2 72  4]\n",
            " [ 0  1 86]]\n"
          ]
        }
      ]
    },
    {
      "cell_type": "markdown",
      "source": [
        "---\n",
        "\n",
        "\n",
        "Graficamos nuestra matriz de confusión para el árbol de decisión:"
      ],
      "metadata": {
        "id": "f9sgv0ejakA4"
      }
    },
    {
      "cell_type": "code",
      "source": [
        "#Asignamos a la variable \"Matriz_Arbol\" la matriz de confusión para el árbol de decisión.\n",
        "Matrix_Arbol = confusion_matrix(y_test, Arbol_Pred)\n",
        "\n",
        "#Creamos una lista con las clases posibles\n",
        "Clases = ['Amarillo','Rojo','Verde']\n",
        "\n",
        "# crear marco de datos de pandas Crear un conjunto de datos\n",
        "dataframe = pd.DataFrame(Matrix_Arbol, index=Clases, columns=Clases)\n",
        "\n",
        "# crear mapa de calor dibujar mapa de calor\n",
        "sns.heatmap(dataframe, annot=True, cbar=None, cmap=\"Greens\")\n",
        "plt.title(\"Matriz de Confusión Árbol de Decisión\"), plt.tight_layout()\n",
        "plt.ylabel(\"Clase Verdadera\"), plt.xlabel(\"Predicción\")\n",
        "plt.show()"
      ],
      "metadata": {
        "colab": {
          "base_uri": "https://localhost:8080/",
          "height": 311
        },
        "id": "G1529igAZeYG",
        "outputId": "e64f6b88-0cc1-4c23-faf1-84898b5f4cd2"
      },
      "execution_count": 78,
      "outputs": [
        {
          "output_type": "display_data",
          "data": {
            "text/plain": [
              "<Figure size 432x288 with 1 Axes>"
            ],
            "image/png": "[encoded data removed]"
          },
          "metadata": {
            "needs_background": "light"
          }
        }
      ]
    },
    {
      "cell_type": "markdown",
      "source": [
        "---\n",
        "\n",
        "\n",
        "🔀 **Matriz de Confusión para el Bosque Aleatorio**"
      ],
      "metadata": {
        "id": "9xR4JNDOUOV6"
      }
    },
    {
      "cell_type": "code",
      "source": [
        "print(\"*******************************************************************\")\n",
        "print(\"La matriz de confusión para nuestro modelo con bosque aleatorio es:\")\n",
        "print(\"*******************************************************************\")\n",
        "print(confusion_matrix(y_test, Bosque_Pred))"
      ],
      "metadata": {
        "colab": {
          "base_uri": "https://localhost:8080/"
        },
        "id": "oWWbmlUvUBlZ",
        "outputId": "03ed3708-8142-4e10-b8b2-7e3e135f7b8c"
      },
      "execution_count": 107,
      "outputs": [
        {
          "output_type": "stream",
          "name": "stdout",
          "text": [
            "*******************************************************************\n",
            "La matriz de confusión para nuestro modelo con bosque aleatorio es:\n",
            "*******************************************************************\n",
            "[[35  1 13]\n",
            " [ 1 74  3]\n",
            " [ 6  0 81]]\n"
          ]
        }
      ]
    },
    {
      "cell_type": "markdown",
      "source": [
        "---\n",
        "\n",
        "\n",
        "Graficamos nuestra matriz de confusión para el bosque aleatorio:"
      ],
      "metadata": {
        "id": "PQIWXNv5cOVW"
      }
    },
    {
      "cell_type": "code",
      "source": [
        "#Asignamos a la variable \"Matriz_Arbol\" la matriz de confusión para el árbol de decisión.\n",
        "Matrix_Bosque = confusion_matrix(y_test, Bosque_Pred)\n",
        "\n",
        "#Creamos una lista con las clases posibles\n",
        "Clases = ['Amarillo','Rojo','Verde']\n",
        "\n",
        "# crear marco de datos de pandas Crear un conjunto de datos\n",
        "dataframe = pd.DataFrame(Matrix_Bosque, index=Clases, columns=Clases)\n",
        "\n",
        "# crear mapa de calor dibujar mapa de calor\n",
        "sns.heatmap(dataframe, annot=True, cbar=None, cmap=\"Greens_r\")\n",
        "plt.title(\"Matriz de Confusión Bosque Aleatorio\"), plt.tight_layout()\n",
        "plt.ylabel(\"Clase Verdadera\"), plt.xlabel(\"Predicción\")\n",
        "plt.show()"
      ],
      "metadata": {
        "colab": {
          "base_uri": "https://localhost:8080/",
          "height": 311
        },
        "id": "h4hJ-Ou2cTFS",
        "outputId": "9e95f219-835c-43bb-dc8b-485b652e71fc"
      },
      "execution_count": 79,
      "outputs": [
        {
          "output_type": "display_data",
          "data": {
            "text/plain": [
              "<Figure size 432x288 with 1 Axes>"
            ],
            "image/png": "[encoded data removed]"
          },
          "metadata": {
            "needs_background": "light"
          }
        }
      ]
    },
    {
      "cell_type": "markdown",
      "source": [
        "Realiza un reporte de los principales hallazgos y conclusiones del experimento e incluyelos en una presentación ejecutiva de 10 diapositivas. La presentación deberá incluir todos los pasos del pipeline seguidos, limpieza, análisis, kmeans, clasificación, resultados y conclusiones."
      ],
      "metadata": {
        "id": "vh0HiGPuLsNF"
      }
    }
  ]
}