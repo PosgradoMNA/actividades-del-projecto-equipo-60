{
  "nbformat": 4,
  "nbformat_minor": 0,
  "metadata": {
    "colab": {
      "name": "assignment01.ipynb",
      "provenance": [],
      "include_colab_link": true
    },
    "kernelspec": {
      "name": "python3",
      "display_name": "Python 3"
    },
    "language_info": {
      "name": "python"
    }
  },
  "cells": [
    {
      "cell_type": "markdown",
      "metadata": {
        "id": "view-in-github",
        "colab_type": "text"
      },
      "source": [
        "<a href=\"https://colab.research.google.com/github/PosgradoMNA/actividades-del-projecto-equipo-60/blob/main/Proyecto%20final%20-%20Avance%201%20(Equipo%2060).ipynb\" target=\"_parent\"><img src=\"https://colab.research.google.com/assets/colab-badge.svg\" alt=\"Open In Colab\"/></a>"
      ]
    },
    {
      "cell_type": "markdown",
      "source": [
        "---\n",
        "🚀 **PROYECTO FINAL** (Equipo 60) | 🧑 Alberto García (A01793509) - Erick Najera (A01793506)\n",
        "\n",
        "---"
      ],
      "metadata": {
        "id": "l2AoT56Qf6S8"
      }
    },
    {
      "cell_type": "markdown",
      "source": [
        "###Avance 1\n",
        "---\n",
        "*   **Nombre del conjunto de datos:** MEDICAMENTOS_VITALES_NO_DISPONIBLES.xlsx\n",
        "\n",
        "*   **Organización que lo generó:**\n",
        "  Instituto Nacional de Vigilancia de Medicamentos y Alimentos.\n",
        "\n",
        "\n",
        "*   **Enlace para descarga:** [Conjunto datos medicamentos vitales](https://www.datos.gov.co/Salud-y-Protecci-n-Social/MEDICAMENTOS-VITALES-NO-DISPONIBLES/sdmr-tfmf)\n",
        "\n",
        "*   **Descripción:** Datos de medicamentos indispensables e irremplazables para salvaguardar la vida o aliviar el sufrimiento de un paciente o un grupo de pacientes y que por condiciones de baja rentabilidad en su comercialización, no se encuentran disponibles en el país, o las cantidades no son suficientes.\n",
        "\n",
        "*   **Preguntas de investigación:**\n",
        "1.   ¿Cuál es el diagnóstico médico en Colombia que más carece de medicamentos vitales disponibles?\n",
        "\n",
        "2.   ¿Cuál es el medicamento comercial vital con mayor demanda y baja disponibilidad en Colombia?\n",
        "\n",
        "3.   ¿En qué periodo del año se registra el mayor número de autorizaciones para ingreso del medicamento al país de parte del Invima?\n",
        "\n",
        "4.   ¿Cúal es el importador más relevante para suplir la falta de medicamentos vitales a nivel nacional?\n",
        "\n",
        "5.   ¿Cuál es el principio activo dentro de los vitales que más carencia presenta?\n",
        "\n",
        "6.   ¿Cuantas autorizaciones de solicitudes de más de un paciente se dan mensualmente en el Invima?\n",
        "\n",
        "7.   ¿Cuál es la forma farmacéutica más demandada en faltantes de medicamentos vitales?\n",
        "\n",
        "8.   ¿Cuál es el órgano humano más impactado ante la falta de medicamentos vitales en Colombia?\n",
        "\n",
        "*   **Actores o entidades interesadas en las preguntas mencionadas anteriormente:** Ministerio de salud y protección social, laboratorios farmacéuticos, ONG, federación médica Colombiana, población Colombiana con alguno de los diagnósticos con carencia de medicamentos vitales o con familiares diagnosticados y entidades promotoras de salud (EPS)."
      ],
      "metadata": {
        "id": "YV5IUVIPlrBu"
      }
    }
  ]
}